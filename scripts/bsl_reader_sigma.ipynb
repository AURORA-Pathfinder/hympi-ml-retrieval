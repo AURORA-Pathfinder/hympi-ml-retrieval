{
 "cells": [
  {
   "cell_type": "code",
   "execution_count": 1,
   "id": "f0ea15ad-7212-4a83-b2f9-eedb84f32980",
   "metadata": {},
   "outputs": [],
   "source": [
    "# let's train a model combining BT and BSL\n",
    "# Training data is august and test is september, missing a day so \n",
    "#  its pretty much half and half"
   ]
  },
  {
   "cell_type": "code",
   "execution_count": 2,
   "id": "74bcf5e6-c1fe-4f98-89c6-302ccfceea82",
   "metadata": {},
   "outputs": [],
   "source": [
    "# Standard imports\n",
    "\n",
    "import os\n",
    "import time\n",
    "import pickle\n",
    "\n",
    "import numpy as np\n",
    "import pandas as pd\n",
    "import matplotlib.pyplot as plt\n",
    "import geopandas\n",
    "\n",
    "\n",
    "from ml_common import zscale, scale, print_metrics\n"
   ]
  },
  {
   "cell_type": "code",
   "execution_count": 3,
   "id": "69868455-29d9-49cd-81f6-550222f12af4",
   "metadata": {},
   "outputs": [
    {
     "name": "stdout",
     "output_type": "stream",
     "text": [
      "/data/nature_run/work/data/bsl_cpl532_bt_72sigma_h1_labels.npz\n",
      "/data/nature_run/work/data/bsl_cpl532_bt_72sigma_ha_labels.npz\n",
      "/data/nature_run/work/data/bsl_cpl532_bt_72sigma_hb_labels.npz\n",
      "/data/nature_run/work/data/bsl_cpl532_bt_72sigma_hc_labels.npz\n",
      "/data/nature_run/work/data/bsl_cpl532_bt_72sigma_hd_labels.npz\n",
      "/data/nature_run/work/data/bsl_cpl532_bt_72sigma_hw_labels.npz\n",
      "/data/nature_run/work/data/bsl_cpl532_bt_72sigma_mh_labels.npz\n"
     ]
    }
   ],
   "source": [
    "base = \"/data/nature_run/work/data/\"\n",
    "dirs = [base+x for x in os.listdir(base) if \"bsl_cpl532_bt_72sigma_\" in x]\n",
    "dirs = sorted(dirs)\n",
    "for x in dirs:\n",
    "    print(x)"
   ]
  },
  {
   "cell_type": "code",
   "execution_count": null,
   "id": "37710183-631e-4cd9-847c-5705d1ac77b8",
   "metadata": {},
   "outputs": [],
   "source": [
    "# dirs = [\"/data/nature_run/work/data/bsl_cpl532_bt_72sigma_mh_labels.npz\",\n",
    "#         \"/data/nature_run/work/data/bsl_cpl532_bt_72sigma_ha_labels.npz\",\n",
    "#         \"/data/nature_run/work/data/bsl_cpl532_bt_72sigma_hb_labels.npz\",\n",
    "#         \"/data/nature_run/work/data/bsl_cpl532_bt_72sigma_hc_labels.npz\",\n",
    "#         \"/data/nature_run/work/data/bsl_cpl532_bt_72sigma_hd_labels.npz\",\n",
    "#         \"/data/nature_run/work/data/bsl_cpl532_bt_72sigma_hw_labels.npz\"]"
   ]
  },
  {
   "cell_type": "code",
   "execution_count": 4,
   "id": "60d520f9-1d17-44d5-a485-b81b9d37819b",
   "metadata": {},
   "outputs": [
    {
     "name": "stdout",
     "output_type": "stream",
     "text": [
      "(1797073, 733) (1797073, 72, 5)\n",
      "(1797073, 733) (1797073, 72, 5)\n",
      "(1797073, 733) (1797073, 72, 5)\n",
      "(1797073, 733) (1797073, 72, 5)\n",
      "(1797073, 733) (1797073, 72, 5)\n",
      "(1797073, 733) (1797073, 72, 5)\n",
      "(1797073, 733) (1797073, 72, 5)\n"
     ]
    }
   ],
   "source": [
    "\n",
    "bt_data = []\n",
    "bs_data = []\n",
    "labels_scalar = []\n",
    "labels_table = []\n",
    "\n",
    "for n, i in enumerate(dirs):\n",
    "    data = np.load(i)\n",
    "    print(data[\"bs_data\"].shape, data[\"labels_tables\"].shape)\n",
    "    bt_data.append(data[\"bt_data\"])\n",
    "    bs_data.append(data[\"bs_data\"])\n",
    "    labels_scalar.append(data[\"labels_scalars\"])\n",
    "    labels_table.append(data[\"labels_tables\"])\n",
    "    \n"
   ]
  },
  {
   "cell_type": "code",
   "execution_count": null,
   "id": "fefe3c6f-69e3-4002-b24b-caeb01f084fd",
   "metadata": {},
   "outputs": [],
   "source": [
    "# h1 is not in hympi but lets get it anyway\n",
    "#data = np.load(\"/data/nature_run/work/data/bsl_cpl532_bt_72sigma_h1_labels.npz\")\n",
    "#h1_data = data[\"bt_data\"]\n",
    "#labels_scalar.append(data[\"labels_scalars\"])\n",
    "#print(h1_data.shape)\n",
    "#print(len(labels_scalar))"
   ]
  },
  {
   "cell_type": "code",
   "execution_count": 6,
   "id": "0af5c89e-2694-40f5-b93d-63d45d6494fa",
   "metadata": {},
   "outputs": [
    {
     "data": {
      "text/plain": [
       "[<matplotlib.lines.Line2D at 0x7fc3a08ba6e0>]"
      ]
     },
     "execution_count": 6,
     "metadata": {},
     "output_type": "execute_result"
    },
    {
     "data": {
      "image/png": "[encoded data removed]",
      "text/plain": [
       "<Figure size 432x288 with 1 Axes>"
      ]
     },
     "metadata": {
      "needs_background": "light"
     },
     "output_type": "display_data"
    }
   ],
   "source": [
    "plt.plot(sorted(labels_scalar[6][:,0]))"
   ]
  },
  {
   "cell_type": "code",
   "execution_count": 7,
   "id": "1ad08055-b766-4810-9378-14cab49a22e3",
   "metadata": {},
   "outputs": [
    {
     "name": "stdout",
     "output_type": "stream",
     "text": [
      "['h1', 'ha', 'hb', 'hc', 'hd', 'hw', 'mh']\n"
     ]
    }
   ],
   "source": [
    "bands = []\n",
    "for n, i in enumerate(dirs):\n",
    "    band = i.split(\"_\")[5]\n",
    "    bands.append(band)\n",
    "print(bands)"
   ]
  },
  {
   "cell_type": "code",
   "execution_count": 12,
   "id": "b4185edc-b643-4c73-8315-d3620ed0073f",
   "metadata": {},
   "outputs": [
    {
     "name": "stdout",
     "output_type": "stream",
     "text": [
      "['h1', 'ha', 'hb', 'hc', 'hd', 'hw', 'mh']\n",
      "{'h1': 0, 'ha': 1, 'hb': 2, 'hc': 3, 'hd': 4, 'hw': 5, 'mh': 6}\n"
     ]
    }
   ],
   "source": [
    "print(bands)\n",
    "bands_d = {}\n",
    "for n, i in enumerate(bands):\n",
    "    bands_d[i] = n\n",
    "print(bands_d)"
   ]
  },
  {
   "cell_type": "code",
   "execution_count": 8,
   "id": "dc0c2461-4529-468c-9ac4-55a67539ebb7",
   "metadata": {},
   "outputs": [
    {
     "name": "stdout",
     "output_type": "stream",
     "text": [
      "h1 (1797073, 480)\n",
      "ha (1797073, 482)\n",
      "hb (1797073, 461)\n",
      "hc (1797073, 504)\n",
      "hd (1797073, 509)\n",
      "hw (1797073, 22)\n",
      "mh (1797073, 22)\n"
     ]
    }
   ],
   "source": [
    "for n, i in enumerate(bands):\n",
    "    print(i, bt_data[n].shape)"
   ]
  },
  {
   "cell_type": "code",
   "execution_count": 9,
   "id": "c74dd231-6785-4197-8331-46f369c41f4e",
   "metadata": {},
   "outputs": [],
   "source": [
    "# Get indexs for data run\n",
    "with open(\"/home/jmackin1/Projects/pbl/HyMPI_channel_selection.txt\") as fp:\n",
    "    data = [x.strip().split() for x in fp.readlines()]\n",
    "\n",
    "indices = []\n",
    "for n, i in enumerate(data):\n",
    "    if n == 0:\n",
    "        start = []\n",
    "        start.append(int(i[0]))\n",
    "    elif len(i) > 2:\n",
    "        indices.append(start)\n",
    "        start = []\n",
    "        start.append(int(i[0]))\n",
    "    else:\n",
    "        start.append(int(i[0]))\n",
    "indices.append(start)\n",
    "\n",
    "# Shift values are from the word doc HyMPI Channel Discussion 1.2.docx\n",
    "shift = [1, 503, 985, 1446, 1950, 2459]\n",
    "\n",
    "indices_shifted = []\n",
    "for n, i in enumerate(indices):\n",
    "    indices_shifted.append([x - shift[n] for x in i])"
   ]
  },
  {
   "cell_type": "code",
   "execution_count": 13,
   "id": "46ac9c2e-7466-4e14-aeef-c088b79ea943",
   "metadata": {},
   "outputs": [
    {
     "name": "stdout",
     "output_type": "stream",
     "text": [
      "(1797073, 878)\n"
     ]
    }
   ],
   "source": [
    "# indices for cosmir-h\n",
    "# 50 - 58 GHz; 175 - 191 GHz; 89GHz, 165.5 GHz\n",
    "\n",
    "# shift including h1\n",
    "shift_wh1 = {\"mh\":1, \"h1\":22, \"ha\":503, \"hb\":985, \"hc\":1446, \"hd\":1950, \"hw\":2459}\n",
    "\n",
    "# H1 50-53 Ghz 0.5 step\n",
    "h1_ch_sub = np.r_[103:110] - shift_wh1[\"h1\"]\n",
    "\n",
    "# HA 52.6-57.30\n",
    "ha_ch_sub = np.r_[514:985] - shift_wh1[\"ha\"]\n",
    "\n",
    "# HD 175-191\n",
    "hd_ch_sub = np.r_[1998:2396] - shift_wh1[\"hd\"]\n",
    "\n",
    "# 89\n",
    "hw_89 = np.r_[2470:2471] - shift_wh1[\"hw\"]\n",
    "\n",
    "# 165.6\n",
    "hw_165 = np.r_[2475:2476] - shift_wh1[\"hw\"]\n",
    "\n",
    "\n",
    "h1_data_ch_sub =  bt_data[bands_d[\"h1\"]][:, h1_ch_sub]\n",
    "ha_data_ch_sub =  bt_data[bands_d[\"ha\"]][:, ha_ch_sub]\n",
    "hd_data_ch_sub =  bt_data[bands_d[\"hd\"]][:, hd_ch_sub]\n",
    "hw_data_ch1_sub = bt_data[bands_d[\"hw\"]][:, hw_89]\n",
    "hw_data_ch2_sub = bt_data[bands_d[\"hw\"]][:, hw_165]\n",
    "\n",
    "ch_data = np.hstack((h1_data_ch_sub,ha_data_ch_sub,hd_data_ch_sub,hw_data_ch1_sub,hw_data_ch2_sub))\n",
    "print(ch_data.shape)"
   ]
  },
  {
   "cell_type": "code",
   "execution_count": null,
   "id": "d0b103b1-561d-42b5-8e2b-31384e0afb4a",
   "metadata": {},
   "outputs": [],
   "source": [
    "#plus 23 31 - "
   ]
  },
  {
   "cell_type": "code",
   "execution_count": 15,
   "id": "a45ae535-4f70-4932-bd55-5f29d5314f4d",
   "metadata": {},
   "outputs": [
    {
     "name": "stdout",
     "output_type": "stream",
     "text": [
      "(1797073, 1957)\n"
     ]
    }
   ],
   "source": [
    "\n",
    "hsel = np.zeros((bt_data[0].shape[0], 1957))\n",
    "print(hsel.shape)"
   ]
  },
  {
   "cell_type": "code",
   "execution_count": 16,
   "id": "b024881d-a5b6-4037-8296-181ea17acd8e",
   "metadata": {},
   "outputs": [],
   "source": [
    "\n",
    "mh_data_sub = bt_data[bands_d[\"mh\"]][:, indices_shifted[0]]\n",
    "ha_data_sub = bt_data[bands_d[\"ha\"]][:, indices_shifted[1]]\n",
    "hb_data_sub = bt_data[bands_d[\"hb\"]][:, indices_shifted[2]]\n",
    "hc_data_sub = bt_data[bands_d[\"hc\"]][:, indices_shifted[3]]\n",
    "hd_data_sub = bt_data[bands_d[\"hd\"]][:, indices_shifted[4]]\n",
    "hw_data_sub = bt_data[bands_d[\"hw\"]][:, indices_shifted[5]]\n"
   ]
  },
  {
   "cell_type": "code",
   "execution_count": 17,
   "id": "a89ce43d-9031-4d47-b75a-dcca759041f4",
   "metadata": {},
   "outputs": [],
   "source": [
    "a = 0\n",
    "ind = []\n",
    "for i in [1, 471, 461, 501, 501, 22]:\n",
    "    ind.append(np.r_[a:a+i])\n",
    "    a+=i \n"
   ]
  },
  {
   "cell_type": "code",
   "execution_count": 18,
   "id": "81486a76-208c-4903-bd7a-e98fd465cf71",
   "metadata": {},
   "outputs": [
    {
     "name": "stdout",
     "output_type": "stream",
     "text": [
      "[[235.6146 251.3532 251.5387 ... 269.214  270.5413 272.7777]\n",
      " [235.6409 251.3745 251.56   ... 269.0473 270.3909 272.6622]\n",
      " [235.6869 251.4135 251.5989 ... 268.8151 270.1741 272.4784]\n",
      " ...\n",
      " [245.9386 260.6384 260.8258 ... 284.9347 284.7863 284.2987]\n",
      " [246.0448 260.6875 260.8745 ... 284.9781 284.8223 284.3244]\n",
      " [245.8775 260.6167 260.8045 ... 284.9369 284.8027 284.3366]]\n"
     ]
    }
   ],
   "source": [
    "\n",
    "# print(hsel_train)\n",
    "# print(hsel_test)\n",
    "hsel[:, ind[0]] = mh_data_sub\n",
    "hsel[:, ind[1]] = ha_data_sub\n",
    "hsel[:, ind[2]] = hb_data_sub\n",
    "hsel[:, ind[3]] = hc_data_sub\n",
    "hsel[:, ind[4]] = hd_data_sub\n",
    "hsel[:, ind[5]] = hw_data_sub\n",
    "\n",
    "print(hsel)"
   ]
  },
  {
   "cell_type": "code",
   "execution_count": 19,
   "id": "4eec21de-020f-4b00-9b54-f9efd308bd53",
   "metadata": {},
   "outputs": [
    {
     "data": {
      "image/png": "[encoded data removed]",
      "text/plain": [
       "<Figure size 432x288 with 1 Axes>"
      ]
     },
     "metadata": {
      "needs_background": "light"
     },
     "output_type": "display_data"
    }
   ],
   "source": [
    "plt.plot(hsel[102000])\n",
    "plt.plot(hsel[120000])\n",
    "plt.show()"
   ]
  },
  {
   "cell_type": "code",
   "execution_count": 20,
   "id": "9c8b4fb0-fdc2-42cb-b9f1-398d8c1c90de",
   "metadata": {},
   "outputs": [
    {
     "data": {
      "text/plain": [
       "True"
      ]
     },
     "execution_count": 20,
     "metadata": {},
     "output_type": "execute_result"
    }
   ],
   "source": [
    "np.all(bs_data[0] == bs_data[1])\n"
   ]
  },
  {
   "cell_type": "code",
   "execution_count": 21,
   "id": "47df6238-211c-4c48-a3e1-6029840b7e68",
   "metadata": {},
   "outputs": [
    {
     "data": {
      "image/png": "[encoded data removed]",
      "text/plain": [
       "<Figure size 432x288 with 1 Axes>"
      ]
     },
     "metadata": {
      "needs_background": "light"
     },
     "output_type": "display_data"
    }
   ],
   "source": [
    "mins = []\n",
    "for i in bs_data[0]:\n",
    "    mins.append(int(np.argwhere(i == -.00001)[0]))\n",
    "bs_depth = np.array(mins)\n",
    "\n",
    "plt.plot(bs_depth)\n",
    "\n",
    "\n",
    "# mins = []\n",
    "# for i in x_test_bsl_raw[0]:\n",
    "#     mins.append(int(np.argwhere(i == -.00001)[0]))\n",
    "# bs_depth_test = np.array(mins)\n",
    "\n",
    "# plt.plot(bs_depth_test)\n",
    "plt.show()\n"
   ]
  },
  {
   "cell_type": "code",
   "execution_count": 22,
   "id": "90e596c9-3b5b-445b-8f3a-62cc910d18c5",
   "metadata": {},
   "outputs": [
    {
     "name": "stdout",
     "output_type": "stream",
     "text": [
      "(1797073,)\n"
     ]
    }
   ],
   "source": [
    "print(bs_depth.shape)"
   ]
  },
  {
   "cell_type": "code",
   "execution_count": 23,
   "id": "b0d90a1f-d6ee-498c-8f84-2d8931041301",
   "metadata": {},
   "outputs": [
    {
     "name": "stdout",
     "output_type": "stream",
     "text": [
      "(1797073, 6)\n",
      "(1797073, 6)\n",
      "(1797073, 6)\n",
      "(1797073, 6)\n",
      "(1797073, 6)\n",
      "(1797073, 6)\n",
      "(1797073, 6)\n",
      "True\n",
      "True\n"
     ]
    }
   ],
   "source": [
    "for i in labels_scalar:\n",
    "    print(i.shape)\n",
    "    \n",
    "print(np.all(labels_scalar[0] == labels_scalar[6]))\n",
    "print(np.all(labels_table[0] == labels_table[1]))\n"
   ]
  },
  {
   "cell_type": "code",
   "execution_count": 25,
   "id": "4d496569-d3b3-44af-8dc7-3e99e163b2f5",
   "metadata": {},
   "outputs": [],
   "source": [
    "\n",
    "nfo = {'ha': \"Eleven channels from Roger Aires’ list, plus 471 hyperspectral channels on the lower frequency wing of the temperature band;52.6GHz to 57.3 GHz\",\n",
    "       'hb': \"After a gap, continue with 461 hyperspectral channels down the other side of the temperature line. This is the region Matt McLinden hopes to use on his instrument;63.3GHz to 67.9Ghz\",\n",
    "       'hc': \"3 more Aires channels, then 501 hyperspectral channels in the 118 GHz temperature sounding region;113.7GHz to 123.7\",\n",
    "       'hd': \"3 Aires channels, 501 hyperspectral water channels, 5 Aires channels;173.3Ghz to 193.3\",\n",
    "       'hw': \"The Aires channels over again, all together\",\n",
    "       'h1': \"evenly spaced from 10Ghz to 250Ghz\",\n",
    "       'ch': \"cosimir-h bands\",\n",
    "       'hs': \"hsel, the proposed collection of bands for HyMPI\",\n",
    "       'hs_indices': {'info': \"these indices are what makes up hsel/hs\", 'indices': indices_shifted},\n",
    "       'bs': \"Back scatter lidar, nans filled to -0.00001\",\n",
    "       'bs_depth': \"Index of 'ground' level, ie where -0.00001 values start\",\n",
    "       'labels_scalar': \"pblh, lat, lon, surface_pressure, surface_pressure, date and time\",\n",
    "       'labels_table': \"P, height_above_sea_level, temp, water_vapor, ozone_density\"\n",
    "}\n",
    "pickle.dump(nfo, open(\"data/bt_bslcpl532_all_72sigma_v2_meta.pkl\", 'wb'))"
   ]
  },
  {
   "cell_type": "code",
   "execution_count": 27,
   "id": "0633858e-d0a0-40fa-a7bc-d4a46f9ec270",
   "metadata": {},
   "outputs": [],
   "source": [
    "np.savez(\"data/bt_bslcpl532_all_72sigma_v2.npz\", ha=bt_data[bands_d[\"ha\"]],\n",
    "                                                 hw=bt_data[bands_d[\"hw\"]],\n",
    "                                                 hd=bt_data[bands_d[\"hd\"]],\n",
    "                                                 mh=bt_data[bands_d[\"mh\"]],\n",
    "                                                 hc=bt_data[bands_d[\"hc\"]],\n",
    "                                                 h1=bt_data[bands_d[\"h1\"]],\n",
    "                                                 hb=bt_data[bands_d[\"hb\"]],\n",
    "                                                 ch=ch_data,\n",
    "                                                 hs=hsel,\n",
    "                                                 bs=bs_data[0],\n",
    "                                                 bs_depth=bs_depth,\n",
    "                                                 labels_scalar=labels_scalar[6],\n",
    "                                                 labels_table=labels_table[0])"
   ]
  },
  {
   "cell_type": "code",
   "execution_count": null,
   "id": "ba907703-b27b-4a7e-aa65-f8274385314f",
   "metadata": {},
   "outputs": [],
   "source": []
  },
  {
   "cell_type": "code",
   "execution_count": null,
   "id": "dffcf14d-e530-4da1-85c0-01bf6f2dff66",
   "metadata": {},
   "outputs": [],
   "source": [
    "# look at some of the data\n",
    "print(x_train_bt_raw.shape)\n",
    "print_metrics(x_train_bsl_raw[0,:])\n",
    "print(np.sum(x_train_bsl_raw2),np.sum(x_train_bsl_raw))"
   ]
  },
  {
   "cell_type": "code",
   "execution_count": null,
   "id": "bcf12625-ef42-435c-845c-3956171659e4",
   "metadata": {},
   "outputs": [],
   "source": [
    "print(min(bs_depth_train))\n",
    "np.argwhere(bs_depth_train==min(bs_depth_train))"
   ]
  },
  {
   "cell_type": "code",
   "execution_count": null,
   "id": "11629d54-5f58-40d8-88d5-03e04a5aee64",
   "metadata": {},
   "outputs": [],
   "source": [
    "\n",
    "print(x_train_bsl_raw.shape)\n",
    "\n",
    "#show = np.r_[600:667]\n",
    "\n",
    "# plt.plot(x_train_bsl_raw[0,600:667])\n",
    "# plt.plot(x_train_bsl_raw[205000,600:667])\n",
    "# plt.plot(x_train_bsl_raw[305000,600:667])\n",
    "# plt.plot(x_train_bsl_raw[405000,600:667])\n",
    "# plt.plot(x_train_bsl_raw[615000,600:667])\n",
    "# plt.plot(x_train_bsl_raw[615001,600:667])\n",
    "# plt.show()\n",
    "\n",
    "#plt.plot(x_train_bsl_raw[0,:])\n",
    "plt.plot(x_train_bsl_raw[501442,:])\n",
    "plt.plot(x_train_bsl_raw[81573,:])\n",
    "#plt.plot(x_train_bsl_raw[205000,:])\n",
    "#plt.plot(x_train_bsl_raw[305000,:])\n",
    "#plt.plot(x_train_bsl_raw[405000,:])\n",
    "#plt.plot(x_train_bsl_raw[615000,:])\n",
    "#plt.plot(x_train_bsl_raw[615001,:])\n",
    "plt.show()"
   ]
  },
  {
   "cell_type": "code",
   "execution_count": null,
   "id": "58bfb132-e82a-415b-ab3f-8df46a8cdc3a",
   "metadata": {},
   "outputs": [],
   "source": [
    "interesting = np.r_[600:667]\n",
    "gold = x_train_bsl_raw[0, interesting]\n",
    "errors = np.zeros((x_train_bsl_raw.shape[0]))\n",
    "for n, i in enumerate(x_train_bsl_raw):\n",
    "    cur = i[interesting]\n",
    "    # mean squared error\n",
    "    errors[n] = np.sum((gold - cur)**2)/gold.shape[0]\n",
    "    "
   ]
  },
  {
   "cell_type": "code",
   "execution_count": null,
   "id": "4bef2c7b-260a-4bb1-9177-bb787d607708",
   "metadata": {},
   "outputs": [],
   "source": [
    "plt.plot(errors)\n",
    "plt.show()"
   ]
  },
  {
   "cell_type": "code",
   "execution_count": null,
   "id": "3bf7c2d8-e379-45f9-a100-325eddba005c",
   "metadata": {},
   "outputs": [],
   "source": [
    "pblh_train = y_train_raw[:,0]\n",
    "pblh_test  = y_test_raw[:,0]\n",
    "\n",
    "indices_train = np.argwhere(pblh_train>200)\n",
    "indices_test = np.argwhere(pblh_test>200)\n",
    "\n",
    "print(indices_train.shape, y_train_raw.shape)\n",
    "print(indices_train)"
   ]
  },
  {
   "cell_type": "code",
   "execution_count": null,
   "id": "5580de7a-9dee-4cf1-aad2-2b578174322a",
   "metadata": {},
   "outputs": [],
   "source": [
    "# Scale data\n",
    "# How to deal with lowest value? \n",
    "# zscale bsl is wrong, per band makes no sense \n",
    "\n",
    "x_train_bt = zscale(x_train_bt_raw[indices_train])\n",
    "x_train_bsl = zscale_simple(x_train_bsl_raw[indices_train])\n",
    "y_train, train_metrics = scale(y_train_raw[indices_train,0], metrics=True)\n",
    "latlon_train = y_train_raw[indices_train,1:3]\n",
    "\n",
    "\n",
    "x_test_bt = zscale(x_test_bt_raw[indices_test])\n",
    "x_test_bsl = zscale_simple(x_test_bsl_raw[indices_test])\n",
    "y_test, test_metrics = scale(y_test_raw[indices_test,0], metrics=True)\n",
    "latlon_test = y_test_raw[indices_test,1:3]\n",
    "\n",
    "\n",
    "print(x_train_bt.shape, x_train_bsl.shape, y_train.shape)"
   ]
  },
  {
   "cell_type": "code",
   "execution_count": null,
   "id": "9ad56d78-5846-4eee-ad83-7456d0126b25",
   "metadata": {},
   "outputs": [],
   "source": [
    "np.savez(\"data/bsl_bt_hw_labels_scaled.npz\", \n",
    "         x_train_bt=x_train_bt,\n",
    "         x_train_bsl=x_train_bsl,\n",
    "         y_train=y_train,\n",
    "         y_train_raw=y_train_raw[indices_train],\n",
    "         latlon_train=latlon_train,\n",
    "         bs_depth_train=bs_depth_train,\n",
    "         indices_train=indices_train,\n",
    "         train_metrics=train_metrics,\n",
    "         x_test_bt=x_test_bt,\n",
    "         x_test_bsl=x_test_bsl,\n",
    "         y_test=y_test,\n",
    "         y_test_raw=y_test_raw[indices_test],\n",
    "         latlon_test=latlon_test,\n",
    "         bs_depth_test=bs_depth_test,\n",
    "         indices_test=indices_test,\n",
    "         test_metrics=test_metrics)\n",
    "         "
   ]
  },
  {
   "cell_type": "code",
   "execution_count": null,
   "id": "e495bb53-67f8-4f86-bb75-f6b12cbecd61",
   "metadata": {},
   "outputs": [],
   "source": [
    "tmpavg = avg = np.average(x_train_bsl_raw, axis=0)\n",
    "print(tmpavg.shape)"
   ]
  },
  {
   "cell_type": "code",
   "execution_count": null,
   "id": "be753760-e661-4bfc-83d4-4d24cee567e3",
   "metadata": {},
   "outputs": [],
   "source": [
    "print(x_train_bt.shape)\n",
    "print(x_train_bsl.shape)\n",
    "\n",
    "print_metrics(x_train_bt)\n",
    "print_metrics(x_train_bsl)\n",
    "print(metrics)"
   ]
  },
  {
   "cell_type": "code",
   "execution_count": null,
   "id": "3d6f82fc-5807-4eb3-838e-43fdf5ff8df6",
   "metadata": {},
   "outputs": [],
   "source": []
  }
 ],
 "metadata": {
  "kernelspec": {
   "display_name": "Python 3 (ipykernel)",
   "language": "python",
   "name": "python3"
  },
  "language_info": {
   "codemirror_mode": {
    "name": "ipython",
    "version": 3
   },
   "file_extension": ".py",
   "mimetype": "text/x-python",
   "name": "python",
   "nbconvert_exporter": "python",
   "pygments_lexer": "ipython3",
   "version": "3.10.8"
  }
 },
 "nbformat": 4,
 "nbformat_minor": 5
}
