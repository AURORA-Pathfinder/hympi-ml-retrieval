{
 "cells": [
  {
   "cell_type": "code",
   "execution_count": 18,
   "id": "22aaba5e-28bc-4ca2-8398-10458290d579",
   "metadata": {},
   "outputs": [],
   "source": [
    "import pandas as pd\n",
    "import numpy as np\n",
    "import geopandas as gpd\n",
    "from glob import glob\n",
    "\n",
    "import matplotlib.pyplot as plt\n",
    "\n",
    "from shapely.geometry import Point\n",
    "\n",
    "import matplotlib.pyplot as plt"
   ]
  },
  {
   "cell_type": "code",
   "execution_count": 2,
   "id": "20eeccf1-f2a1-43f8-9ea9-e9458ee60a82",
   "metadata": {},
   "outputs": [
    {
     "name": "stdout",
     "output_type": "stream",
     "text": [
      "['/data/nature_run/fulldays_reduced/cpl_merged/cpl_all_20060315.pkl', '/data/nature_run/fulldays_reduced/cpl_merged/cpl_all_20060515.pkl', '/data/nature_run/fulldays_reduced/cpl_merged/cpl_all_20060615.pkl', '/data/nature_run/fulldays_reduced/cpl_merged/cpl_all_20060715.pkl', '/data/nature_run/fulldays_reduced/cpl_merged/cpl_all_20060803.pkl', '/data/nature_run/fulldays_reduced/cpl_merged/cpl_all_20060815.pkl', '/data/nature_run/fulldays_reduced/cpl_merged/cpl_all_20060915.pkl', '/data/nature_run/fulldays_reduced/cpl_merged/cpl_all_20061015.pkl', '/data/nature_run/fulldays_reduced/cpl_merged/cpl_all_20061115.pkl', '/data/nature_run/fulldays_reduced/cpl_merged/cpl_all_20061215.pkl']\n"
     ]
    }
   ],
   "source": [
    "paths = sorted(glob(\"/data/nature_run/fulldays_reduced/cpl_merged/*.pkl\"))\n",
    "npz_paths = sorted(glob(\"/data/nature_run/fulldays_reduced/*.npz\"))\n",
    "\n",
    "print(paths)"
   ]
  },
  {
   "cell_type": "code",
   "execution_count": 3,
   "id": "ed02f3b8-d0fc-4877-8a3d-563c5e7a9ef9",
   "metadata": {},
   "outputs": [
    {
     "name": "stdout",
     "output_type": "stream",
     "text": [
      "['/data/nature_run/fulldays_reduced/all_20060315.npz', '/data/nature_run/fulldays_reduced/all_20060515.npz', '/data/nature_run/fulldays_reduced/all_20060615.npz', '/data/nature_run/fulldays_reduced/all_20060715.npz', '/data/nature_run/fulldays_reduced/all_20060803.npz', '/data/nature_run/fulldays_reduced/all_20060815.npz', '/data/nature_run/fulldays_reduced/all_20060915.npz', '/data/nature_run/fulldays_reduced/all_20061015.npz', '/data/nature_run/fulldays_reduced/all_20061115.npz', '/data/nature_run/fulldays_reduced/all_20061215.npz']\n"
     ]
    }
   ],
   "source": [
    "npz_paths = sorted(glob(\"/data/nature_run/fulldays_reduced/*.npz\"))\n",
    "print(npz_paths)"
   ]
  },
  {
   "cell_type": "code",
   "execution_count": 179,
   "id": "c2990451-f954-4fe0-bb2a-052a1d31ce8c",
   "metadata": {},
   "outputs": [
    {
     "name": "stdout",
     "output_type": "stream",
     "text": [
      "10\n",
      "/data/nature_run/fulldays_reduced/cpl_merged/cpl_all_20060315.pkl\n",
      "/data/nature_run/fulldays_reduced/cpl_merged/cpl_all_20060515.pkl\n",
      "/data/nature_run/fulldays_reduced/cpl_merged/cpl_all_20060615.pkl\n",
      "/data/nature_run/fulldays_reduced/cpl_merged/cpl_all_20060715.pkl\n",
      "/data/nature_run/fulldays_reduced/cpl_merged/cpl_all_20060803.pkl\n",
      "/data/nature_run/fulldays_reduced/cpl_merged/cpl_all_20060815.pkl\n",
      "/data/nature_run/fulldays_reduced/cpl_merged/cpl_all_20060915.pkl\n",
      "/data/nature_run/fulldays_reduced/cpl_merged/cpl_all_20061015.pkl\n",
      "/data/nature_run/fulldays_reduced/cpl_merged/cpl_all_20061115.pkl\n",
      "/data/nature_run/fulldays_reduced/cpl_merged/cpl_all_20061215.pkl\n"
     ]
    },
    {
     "ename": "IndexError",
     "evalue": "list index out of range",
     "output_type": "error",
     "traceback": [
      "\u001b[0;31m---------------------------------------------------------------------------\u001b[0m",
      "\u001b[0;31mIndexError\u001b[0m                                Traceback (most recent call last)",
      "Cell \u001b[0;32mIn[179], line 3\u001b[0m\n\u001b[1;32m      1\u001b[0m \u001b[38;5;28mprint\u001b[39m(\u001b[38;5;28mlen\u001b[39m(paths))\n\u001b[1;32m      2\u001b[0m \u001b[38;5;28;01mfor\u001b[39;00m i \u001b[38;5;129;01min\u001b[39;00m \u001b[38;5;28mrange\u001b[39m(\u001b[38;5;241m11\u001b[39m):\n\u001b[0;32m----> 3\u001b[0m     \u001b[38;5;28mprint\u001b[39m(\u001b[43mpaths\u001b[49m\u001b[43m[\u001b[49m\u001b[43mi\u001b[49m\u001b[43m]\u001b[49m)\n",
      "\u001b[0;31mIndexError\u001b[0m: list index out of range"
     ]
    }
   ],
   "source": [
    "print(len(paths))\n",
    "for i in range(10):\n",
    "    print(paths[i])"
   ]
  },
  {
   "cell_type": "code",
   "execution_count": 4,
   "id": "8171bb63-07e8-46f0-9076-70df75257ee5",
   "metadata": {},
   "outputs": [
    {
     "name": "stdout",
     "output_type": "stream",
     "text": [
      "/data/nature_run/fulldays_reduced/cpl_merged/cpl_all_20060315.pkl /data/nature_run/fulldays_reduced/all_20060315.npz\n",
      "/data/nature_run/fulldays_reduced/cpl_merged/cpl_all_20060515.pkl /data/nature_run/fulldays_reduced/all_20060515.npz\n",
      "/data/nature_run/fulldays_reduced/cpl_merged/cpl_all_20060615.pkl /data/nature_run/fulldays_reduced/all_20060615.npz\n",
      "/data/nature_run/fulldays_reduced/cpl_merged/cpl_all_20060715.pkl /data/nature_run/fulldays_reduced/all_20060715.npz\n",
      "/data/nature_run/fulldays_reduced/cpl_merged/cpl_all_20060803.pkl /data/nature_run/fulldays_reduced/all_20060803.npz\n",
      "/data/nature_run/fulldays_reduced/cpl_merged/cpl_all_20060815.pkl /data/nature_run/fulldays_reduced/all_20060815.npz\n",
      "/data/nature_run/fulldays_reduced/cpl_merged/cpl_all_20060915.pkl /data/nature_run/fulldays_reduced/all_20060915.npz\n",
      "/data/nature_run/fulldays_reduced/cpl_merged/cpl_all_20061015.pkl /data/nature_run/fulldays_reduced/all_20061015.npz\n",
      "/data/nature_run/fulldays_reduced/cpl_merged/cpl_all_20061115.pkl /data/nature_run/fulldays_reduced/all_20061115.npz\n",
      "/data/nature_run/fulldays_reduced/cpl_merged/cpl_all_20061215.pkl /data/nature_run/fulldays_reduced/all_20061215.npz\n"
     ]
    }
   ],
   "source": [
    "for i, j in zip(paths, npz_paths):\n",
    "    print(i, j)"
   ]
  },
  {
   "cell_type": "code",
   "execution_count": 6,
   "id": "f5490785-a4f4-4409-8c68-1108a5cdbc6b",
   "metadata": {},
   "outputs": [
    {
     "name": "stdout",
     "output_type": "stream",
     "text": [
      "['hsel', 'mh', 'scalar', 'table']\n",
      "(5522308, 44)\n"
     ]
    }
   ],
   "source": [
    "# First NPZ\n",
    "\n",
    "data = np.load(npz_paths[0])\n",
    "print(list(data.keys()))\n",
    "mh_data = data['scalar']\n",
    "print(mh_data.shape)"
   ]
  },
  {
   "cell_type": "code",
   "execution_count": 22,
   "id": "b5008d99-6ecc-4774-af6f-ec77ae9e880e",
   "metadata": {},
   "outputs": [
    {
     "name": "stdout",
     "output_type": "stream",
     "text": [
      "['0000', '0300', '0600', '0900', '1200', '1500', '1800', '2100']\n",
      "                       geometry times_npz  index_npz\n",
      "0  POINT (-180.00000 -45.00000)      0000          0\n",
      "1  POINT (-179.93800 -45.00000)      0000          1\n",
      "2  POINT (-179.87500 -45.00000)      0000          2\n",
      "3  POINT (-179.81200 -45.00000)      0000          3\n",
      "4  POINT (-179.75000 -45.00000)      0000          4\n",
      "                           geometry times_npz  index_npz\n",
      "5522303  POINT (178.62500 38.62500)      2100    5522303\n",
      "5522304  POINT (178.68800 38.62500)      2100    5522304\n",
      "5522305  POINT (178.75000 38.62500)      2100    5522305\n",
      "5522306  POINT (178.81200 38.62500)      2100    5522306\n",
      "5522307  POINT (178.62500 38.68800)      2100    5522307\n"
     ]
    }
   ],
   "source": [
    "# Load NPZ\n",
    "\n",
    "index = 0\n",
    "\n",
    "data = np.load(npz_paths[0])\n",
    "\n",
    "mh_data = data['scalar']\n",
    "\n",
    "geometry = [Point(lon, lat) for lon, lat in zip(mh_data[:,1], mh_data[:,0])]\n",
    "mh_times = mh_data[:,-1].astype(int).astype(str)\n",
    "mh_times = [x[-4:] for x in mh_times]\n",
    "all_times = sorted(list(set(mh_times)))\n",
    "print(all_times)\n",
    "\n",
    "gdf_npz_uncorrected = gpd.GeoDataFrame(geometry=geometry)\n",
    "\n",
    "gdf_npz_uncorrected['times_npz'] = mh_times\n",
    "gdf_npz_uncorrected['index_npz'] = list(range(len(mh_times)))\n",
    "gdf_npz_uncorrected.set_crs(epsg=4326, inplace=True)\n",
    "print(gdf_npz_uncorrected.head())\n",
    "print(gdf_npz_uncorrected.tail())"
   ]
  },
  {
   "cell_type": "code",
   "execution_count": 16,
   "id": "ea92489f-3c17-4db2-9f4b-7237621fdd74",
   "metadata": {},
   "outputs": [
    {
     "name": "stdout",
     "output_type": "stream",
     "text": [
      "   cpl_0         cpl_1         cpl_2         cpl_3         cpl_4  \\\n",
      "0   -0.0  3.851809e-07  4.037199e-07  4.159510e-07  4.301965e-07   \n",
      "1   -0.0  3.836414e-07  4.012846e-07  4.330225e-07  4.250369e-07   \n",
      "2   -0.0  3.851445e-07  4.043617e-07  4.083747e-07  4.221684e-07   \n",
      "3   -0.0  3.813320e-07  4.040026e-07  4.172313e-07  4.384864e-07   \n",
      "4   -0.0  3.847323e-07  4.103014e-07  4.122353e-07  4.275999e-07   \n",
      "\n",
      "          cpl_5         cpl_6         cpl_7         cpl_8         cpl_9  ...  \\\n",
      "0  4.153502e-07  4.711740e-07  4.641689e-07  4.493346e-07  5.396949e-07  ...   \n",
      "1  4.202643e-07  4.672969e-07  4.571378e-07  4.733692e-07  5.034269e-07  ...   \n",
      "2  4.283106e-07  4.260496e-07  4.694006e-07  5.122949e-07  4.715084e-07  ...   \n",
      "3  4.596241e-07  4.769400e-07  4.781560e-07  5.386214e-07  5.381712e-07  ...   \n",
      "4  4.667760e-07  4.730636e-07  4.307845e-07  5.168392e-07  4.671118e-07  ...   \n",
      "\n",
      "    cpl_726   cpl_727   cpl_728   cpl_729   cpl_730   cpl_731   cpl_732  \\\n",
      "0  0.000021  0.000040 -0.000121 -0.000150  0.000012  0.000146 -0.000333   \n",
      "1 -0.000111 -0.000177 -0.000007 -0.000074  0.000117  0.000079 -0.000084   \n",
      "2  0.000191  0.000069  0.000002  0.000174  0.000021  0.000060  0.000156   \n",
      "3 -0.000073 -0.000197  0.000249  0.000012  0.000174 -0.000017 -0.000084   \n",
      "4  0.000134 -0.000055  0.000030 -0.000150 -0.000265 -0.000017 -0.000238   \n",
      "\n",
      "    cpl_733                      geometry  time  \n",
      "0 -0.000122  POINT (-179.93800 -45.00000)  0000  \n",
      "1 -0.000228  POINT (-179.87500 -45.00000)  0000  \n",
      "2  0.000300  POINT (-179.81200 -45.00000)  0000  \n",
      "3  0.000041  POINT (-179.75000 -45.00000)  0000  \n",
      "4 -0.000017  POINT (-179.68800 -45.00000)  0000  \n",
      "\n",
      "[5 rows x 736 columns]\n",
      "         cpl_0     cpl_1     cpl_2     cpl_3     cpl_4     cpl_5     cpl_6  \\\n",
      "1099865   -0.0  0.000002  0.000002  0.000002  0.000002  0.000002  0.000002   \n",
      "1099866   -0.0  0.000002  0.000002  0.000002  0.000002  0.000002  0.000002   \n",
      "1099867   -0.0  0.000002  0.000002  0.000002  0.000002  0.000002  0.000002   \n",
      "1099868   -0.0  0.000002  0.000002  0.000002  0.000002  0.000002  0.000002   \n",
      "1099869   -0.0  0.000002  0.000002  0.000002  0.000002  0.000002  0.000002   \n",
      "\n",
      "            cpl_7     cpl_8     cpl_9  ...   cpl_726   cpl_727   cpl_728  \\\n",
      "1099865  0.000002  0.000002  0.000002  ...  0.000008 -0.000001 -0.000001   \n",
      "1099866  0.000002  0.000002  0.000002  ... -0.000001 -0.000001 -0.000001   \n",
      "1099867  0.000002  0.000002  0.000002  ... -0.000001 -0.000001 -0.000001   \n",
      "1099868  0.000002  0.000002  0.000002  ... -0.000001 -0.000001  0.000008   \n",
      "1099869  0.000002  0.000002  0.000002  ... -0.000001  0.000008 -0.000001   \n",
      "\n",
      "          cpl_729   cpl_730   cpl_731   cpl_732   cpl_733  \\\n",
      "1099865 -0.000001 -0.000001 -0.000001 -0.000001 -0.000001   \n",
      "1099866 -0.000001 -0.000001 -0.000001 -0.000001 -0.000001   \n",
      "1099867 -0.000001 -0.000001 -0.000001  0.000008 -0.000001   \n",
      "1099868  0.000008 -0.000001 -0.000001 -0.000001 -0.000001   \n",
      "1099869 -0.000001 -0.000001  0.000008 -0.000001 -0.000001   \n",
      "\n",
      "                          geometry  time  \n",
      "1099865  POINT (122.00000 5.12500)  0900  \n",
      "1099866  POINT (122.00000 5.18800)  0900  \n",
      "1099867  POINT (122.00000 5.25000)  0900  \n",
      "1099868  POINT (122.00000 5.31200)  0900  \n",
      "1099869  POINT (122.00000 5.37500)  0900  \n",
      "\n",
      "[5 rows x 736 columns]\n"
     ]
    }
   ],
   "source": [
    "# Load CPL\n",
    "\n",
    "gdf_cpl_uncorrected = pd.read_pickle(paths[index])\n",
    "gdf_cpl_uncorrected.head()\n",
    "\n",
    "print(gdf_cpl_uncorrected.head())\n",
    "print(gdf_cpl_uncorrected.tail())"
   ]
  },
  {
   "cell_type": "code",
   "execution_count": 76,
   "id": "130863bb-2d01-4279-9976-4c1d44c0cb0d",
   "metadata": {},
   "outputs": [],
   "source": [
    "gdf_npz = gdf_npz_uncorrected.to_crs(epsg=6933)\n",
    "gdf_cpl = gdf_cpl_uncorrected.to_crs(epsg=6933)\n",
    "#gdf_npz = gdf_npz_uncorrected.to_crs('EPSG:4326')\n",
    "#gdf_cpl = gdf_cpl_uncorrected.to_crs('EPSG:4326')\n",
    "\n",
    "#azimuthal_proj = \"+proj=aeqd +datum=WGS84 +units=m +no_defs\"\n",
    "#gdf_npz = gdf_npz_uncorrected.to_crs(azimuthal_proj)\n",
    "#gdf_cpl = gdf_cpl_uncorrected.to_crs(azimuthal_proj)\n",
    "\n"
   ]
  },
  {
   "cell_type": "code",
   "execution_count": 84,
   "id": "e1b44564-79f5-49df-b1bf-d67c9e858354",
   "metadata": {},
   "outputs": [
    {
     "name": "stdout",
     "output_type": "stream",
     "text": [
      "0000\n",
      "149278 732105\n",
      "149409\n",
      "0300\n",
      "130331 608759\n",
      "130399\n",
      "0600\n",
      "122813 542657\n",
      "122913\n",
      "0900\n",
      "150725 651361\n",
      "150853\n",
      "1200\n",
      "121047 659173\n",
      "121160\n",
      "1500\n",
      "140485 695403\n",
      "140657\n",
      "1800\n",
      "150347 849301\n",
      "150491\n",
      "2100\n",
      "134844 783549\n",
      "134982\n"
     ]
    },
    {
     "data": {
      "text/html": [
       "<div>\n",
       "<style scoped>\n",
       "    .dataframe tbody tr th:only-of-type {\n",
       "        vertical-align: middle;\n",
       "    }\n",
       "\n",
       "    .dataframe tbody tr th {\n",
       "        vertical-align: top;\n",
       "    }\n",
       "\n",
       "    .dataframe thead th {\n",
       "        text-align: right;\n",
       "    }\n",
       "</style>\n",
       "<table border=\"1\" class=\"dataframe\">\n",
       "  <thead>\n",
       "    <tr style=\"text-align: right;\">\n",
       "      <th></th>\n",
       "      <th>cpl_0</th>\n",
       "      <th>cpl_1</th>\n",
       "      <th>cpl_2</th>\n",
       "      <th>cpl_3</th>\n",
       "      <th>cpl_4</th>\n",
       "      <th>cpl_5</th>\n",
       "      <th>cpl_6</th>\n",
       "      <th>cpl_7</th>\n",
       "      <th>cpl_8</th>\n",
       "      <th>cpl_9</th>\n",
       "      <th>...</th>\n",
       "      <th>cpl_730</th>\n",
       "      <th>cpl_731</th>\n",
       "      <th>cpl_732</th>\n",
       "      <th>cpl_733</th>\n",
       "      <th>geometry</th>\n",
       "      <th>time</th>\n",
       "      <th>index_right</th>\n",
       "      <th>times_npz</th>\n",
       "      <th>index_npz</th>\n",
       "      <th>distances</th>\n",
       "    </tr>\n",
       "  </thead>\n",
       "  <tbody>\n",
       "    <tr>\n",
       "      <th>0</th>\n",
       "      <td>-0.0</td>\n",
       "      <td>3.851809e-07</td>\n",
       "      <td>4.037199e-07</td>\n",
       "      <td>4.159510e-07</td>\n",
       "      <td>4.301965e-07</td>\n",
       "      <td>4.153502e-07</td>\n",
       "      <td>4.711740e-07</td>\n",
       "      <td>4.641689e-07</td>\n",
       "      <td>4.493346e-07</td>\n",
       "      <td>5.396949e-07</td>\n",
       "      <td>...</td>\n",
       "      <td>0.000012</td>\n",
       "      <td>0.000146</td>\n",
       "      <td>-0.000333</td>\n",
       "      <td>-0.000122</td>\n",
       "      <td>POINT (-17361548.637 -5180102.329)</td>\n",
       "      <td>0000</td>\n",
       "      <td>1</td>\n",
       "      <td>0000</td>\n",
       "      <td>1</td>\n",
       "      <td>0.341565</td>\n",
       "    </tr>\n",
       "    <tr>\n",
       "      <th>1</th>\n",
       "      <td>-0.0</td>\n",
       "      <td>3.836414e-07</td>\n",
       "      <td>4.012846e-07</td>\n",
       "      <td>4.330225e-07</td>\n",
       "      <td>4.250369e-07</td>\n",
       "      <td>4.202643e-07</td>\n",
       "      <td>4.672969e-07</td>\n",
       "      <td>4.571378e-07</td>\n",
       "      <td>4.733692e-07</td>\n",
       "      <td>5.034269e-07</td>\n",
       "      <td>...</td>\n",
       "      <td>0.000117</td>\n",
       "      <td>0.000079</td>\n",
       "      <td>-0.000084</td>\n",
       "      <td>-0.000228</td>\n",
       "      <td>POINT (-17355469.660 -5180102.329)</td>\n",
       "      <td>0000</td>\n",
       "      <td>2</td>\n",
       "      <td>0000</td>\n",
       "      <td>2</td>\n",
       "      <td>0.000000</td>\n",
       "    </tr>\n",
       "    <tr>\n",
       "      <th>2</th>\n",
       "      <td>-0.0</td>\n",
       "      <td>3.851445e-07</td>\n",
       "      <td>4.043617e-07</td>\n",
       "      <td>4.083747e-07</td>\n",
       "      <td>4.221684e-07</td>\n",
       "      <td>4.283106e-07</td>\n",
       "      <td>4.260496e-07</td>\n",
       "      <td>4.694006e-07</td>\n",
       "      <td>5.122949e-07</td>\n",
       "      <td>4.715084e-07</td>\n",
       "      <td>...</td>\n",
       "      <td>0.000021</td>\n",
       "      <td>0.000060</td>\n",
       "      <td>0.000156</td>\n",
       "      <td>0.000300</td>\n",
       "      <td>POINT (-17349390.683 -5180102.329)</td>\n",
       "      <td>0000</td>\n",
       "      <td>3</td>\n",
       "      <td>0000</td>\n",
       "      <td>3</td>\n",
       "      <td>0.341565</td>\n",
       "    </tr>\n",
       "    <tr>\n",
       "      <th>3</th>\n",
       "      <td>-0.0</td>\n",
       "      <td>3.813320e-07</td>\n",
       "      <td>4.040026e-07</td>\n",
       "      <td>4.172313e-07</td>\n",
       "      <td>4.384864e-07</td>\n",
       "      <td>4.596241e-07</td>\n",
       "      <td>4.769400e-07</td>\n",
       "      <td>4.781560e-07</td>\n",
       "      <td>5.386214e-07</td>\n",
       "      <td>5.381712e-07</td>\n",
       "      <td>...</td>\n",
       "      <td>0.000174</td>\n",
       "      <td>-0.000017</td>\n",
       "      <td>-0.000084</td>\n",
       "      <td>0.000041</td>\n",
       "      <td>POINT (-17343408.875 -5180102.329)</td>\n",
       "      <td>0000</td>\n",
       "      <td>4</td>\n",
       "      <td>0000</td>\n",
       "      <td>4</td>\n",
       "      <td>0.000000</td>\n",
       "    </tr>\n",
       "    <tr>\n",
       "      <th>4</th>\n",
       "      <td>-0.0</td>\n",
       "      <td>3.847323e-07</td>\n",
       "      <td>4.103014e-07</td>\n",
       "      <td>4.122353e-07</td>\n",
       "      <td>4.275999e-07</td>\n",
       "      <td>4.667760e-07</td>\n",
       "      <td>4.730636e-07</td>\n",
       "      <td>4.307845e-07</td>\n",
       "      <td>5.168392e-07</td>\n",
       "      <td>4.671118e-07</td>\n",
       "      <td>...</td>\n",
       "      <td>-0.000265</td>\n",
       "      <td>-0.000017</td>\n",
       "      <td>-0.000238</td>\n",
       "      <td>-0.000017</td>\n",
       "      <td>POINT (-17337427.067 -5180102.329)</td>\n",
       "      <td>0000</td>\n",
       "      <td>5</td>\n",
       "      <td>0000</td>\n",
       "      <td>5</td>\n",
       "      <td>0.341565</td>\n",
       "    </tr>\n",
       "  </tbody>\n",
       "</table>\n",
       "<p>5 rows × 740 columns</p>\n",
       "</div>"
      ],
      "text/plain": [
       "   cpl_0         cpl_1         cpl_2         cpl_3         cpl_4  \\\n",
       "0   -0.0  3.851809e-07  4.037199e-07  4.159510e-07  4.301965e-07   \n",
       "1   -0.0  3.836414e-07  4.012846e-07  4.330225e-07  4.250369e-07   \n",
       "2   -0.0  3.851445e-07  4.043617e-07  4.083747e-07  4.221684e-07   \n",
       "3   -0.0  3.813320e-07  4.040026e-07  4.172313e-07  4.384864e-07   \n",
       "4   -0.0  3.847323e-07  4.103014e-07  4.122353e-07  4.275999e-07   \n",
       "\n",
       "          cpl_5         cpl_6         cpl_7         cpl_8         cpl_9  ...  \\\n",
       "0  4.153502e-07  4.711740e-07  4.641689e-07  4.493346e-07  5.396949e-07  ...   \n",
       "1  4.202643e-07  4.672969e-07  4.571378e-07  4.733692e-07  5.034269e-07  ...   \n",
       "2  4.283106e-07  4.260496e-07  4.694006e-07  5.122949e-07  4.715084e-07  ...   \n",
       "3  4.596241e-07  4.769400e-07  4.781560e-07  5.386214e-07  5.381712e-07  ...   \n",
       "4  4.667760e-07  4.730636e-07  4.307845e-07  5.168392e-07  4.671118e-07  ...   \n",
       "\n",
       "    cpl_730   cpl_731   cpl_732   cpl_733                            geometry  \\\n",
       "0  0.000012  0.000146 -0.000333 -0.000122  POINT (-17361548.637 -5180102.329)   \n",
       "1  0.000117  0.000079 -0.000084 -0.000228  POINT (-17355469.660 -5180102.329)   \n",
       "2  0.000021  0.000060  0.000156  0.000300  POINT (-17349390.683 -5180102.329)   \n",
       "3  0.000174 -0.000017 -0.000084  0.000041  POINT (-17343408.875 -5180102.329)   \n",
       "4 -0.000265 -0.000017 -0.000238 -0.000017  POINT (-17337427.067 -5180102.329)   \n",
       "\n",
       "   time  index_right  times_npz  index_npz  distances  \n",
       "0  0000            1       0000          1   0.341565  \n",
       "1  0000            2       0000          2   0.000000  \n",
       "2  0000            3       0000          3   0.341565  \n",
       "3  0000            4       0000          4   0.000000  \n",
       "4  0000            5       0000          5   0.341565  \n",
       "\n",
       "[5 rows x 740 columns]"
      ]
     },
     "execution_count": 84,
     "metadata": {},
     "output_type": "execute_result"
    }
   ],
   "source": [
    "\n",
    "merged_df = []\n",
    "\n",
    "for i in all_times:\n",
    "    print(i)\n",
    "    cpl_at_time = gdf_cpl[gdf_cpl['time'] == i]\n",
    "    npz_at_time = gdf_npz[gdf_npz['times_npz'] == i]\n",
    "\n",
    "    print(len(cpl_at_time),len(npz_at_time))  \n",
    "    cpl_merged = cpl_at_time.sjoin_nearest(npz_at_time, how='left', distance_col='distances',\n",
    "                                          max_distance=50000)\n",
    "    print(len(cpl_merged))  \n",
    "    merged_df.append(cpl_merged)\n",
    "merged_df = pd.concat(merged_df, ignore_index=True)\n",
    "merged_df.head()"
   ]
  },
  {
   "cell_type": "code",
   "execution_count": 88,
   "id": "11da4572-4c48-4c02-9eb0-e68a972f6183",
   "metadata": {},
   "outputs": [
    {
     "name": "stdout",
     "output_type": "stream",
     "text": [
      "(1100864,) 570278\n"
     ]
    }
   ],
   "source": [
    "a = merged_df['index_right']\n",
    "print(a.shape, len(set(a)))"
   ]
  },
  {
   "cell_type": "code",
   "execution_count": 89,
   "id": "db8b1b83-bb69-4bfd-a96c-adf6dbf5c2ee",
   "metadata": {},
   "outputs": [
    {
     "name": "stdout",
     "output_type": "stream",
     "text": [
      "789852.5834414406 0.0 26867.344562348782 58196.22213636731 (1100864,)\n"
     ]
    }
   ],
   "source": [
    "def stat(x):\n",
    "    print(np.max(x), np.min(x), np.average(x), np.std(x), x.shape)\n",
    "\n",
    "stat(merged_df['distances'])"
   ]
  },
  {
   "cell_type": "code",
   "execution_count": 75,
   "id": "0f59a505-1c06-4efa-a7e2-6e9a28977363",
   "metadata": {},
   "outputs": [
    {
     "data": {
      "image/png": "[encoded data removed]",
      "text/plain": [
       "<Figure size 640x480 with 1 Axes>"
      ]
     },
     "metadata": {},
     "output_type": "display_data"
    }
   ],
   "source": [
    "# FREEZE, this is in latlon\n",
    "ind = np.random.randint(len(merged_df['distances']), size=1000)\n",
    "plt.plot(sorted(merged_df['distances'].iloc[ind]), 'x')\n",
    "plt.show()"
   ]
  },
  {
   "cell_type": "code",
   "execution_count": 78,
   "id": "0e46583b-484b-4f88-bbc5-bc9c5420bf33",
   "metadata": {},
   "outputs": [
    {
     "data": {
      "image/png": "[encoded data removed]",
      "text/plain": [
       "<Figure size 640x480 with 1 Axes>"
      ]
     },
     "metadata": {},
     "output_type": "display_data"
    }
   ],
   "source": [
    "# this is in chatgpt recommended prs\n",
    "ind = np.random.randint(len(merged_df['distances']), size=1000)\n",
    "plt.plot(sorted(merged_df['distances'].iloc[ind]), 'x')\n",
    "plt.show()"
   ]
  },
  {
   "cell_type": "code",
   "execution_count": 118,
   "id": "9180463c-908a-4601-9bf7-87631cb4162f",
   "metadata": {},
   "outputs": [
    {
     "name": "stdout",
     "output_type": "stream",
     "text": [
      "1100864\n",
      "550432\n"
     ]
    },
    {
     "data": {
      "text/plain": [
       "5982.175876400389"
      ]
     },
     "execution_count": 118,
     "metadata": {},
     "output_type": "execute_result"
    }
   ],
   "source": [
    "print(len(merged_df['distances']))\n",
    "a = sorted(merged_df['distances'])\n",
    "print(1100864//2)\n",
    "a[550450]"
   ]
  },
  {
   "cell_type": "code",
   "execution_count": 109,
   "id": "5fc13bd6-bd1a-4e62-a467-1e95cccb6b03",
   "metadata": {},
   "outputs": [
    {
     "name": "stdout",
     "output_type": "stream",
     "text": [
      "1100864 550891 50.04169452357421\n"
     ]
    }
   ],
   "source": [
    "distances = merged_df['distances']\n",
    "total_size = len(merged_df['distances'])\n",
    "check = 6000\n",
    "\n",
    "\n",
    "print(total_size, np.sum(distances<check), np.sum(distances<check)*100/total_size)"
   ]
  },
  {
   "cell_type": "code",
   "execution_count": 174,
   "id": "6de4bed1-6397-4fd7-a4b2-5f9fbe96a712",
   "metadata": {},
   "outputs": [],
   "source": [
    "#5900 seems to be the magic number\n",
    "def stack_data(index, max_distance=100000):\n",
    "\n",
    "    paths = sorted(glob(\"/data/nature_run/fulldays_reduced/cpl_merged/*.pkl\"))\n",
    "    npz_paths = sorted(glob(\"/data/nature_run/fulldays_reduced/*.npz\"))\n",
    "\n",
    "    # First NPZ\n",
    "    data = np.load(npz_paths[index])    \n",
    "    mh_data = data['scalar']\n",
    "    \n",
    "    geometry = [Point(lon, lat) for lon, lat in zip(mh_data[:,1], mh_data[:,0])]\n",
    "    mh_times = mh_data[:,-1].astype(int).astype(str)\n",
    "    mh_times = [x[-4:] for x in mh_times]\n",
    "\n",
    "    gdf_npz_uncorrected = gpd.GeoDataFrame(geometry=geometry)\n",
    "    gdf_npz_uncorrected['times_npz'] = mh_times\n",
    "    gdf_npz_uncorrected['index_npz'] = list(range(len(mh_times)))\n",
    "    gdf_npz_uncorrected.set_crs(epsg=4326, inplace=True)\n",
    "    \n",
    "    gdf_cpl_uncorrected = pd.read_pickle(paths[index])\n",
    "    \n",
    "    # Project, this seems weird\n",
    "    gdf_npz = gdf_npz_uncorrected.to_crs(epsg=6933)\n",
    "    gdf_cpl = gdf_cpl_uncorrected.to_crs(epsg=6933)\n",
    "\n",
    "    print(f\"gdf cpl len before {len(gdf_cpl)}\")\n",
    "    print(f\"gdf npz len before {len(gdf_npz)}\")\n",
    "    \n",
    "    merged_df = []\n",
    "\n",
    "    all_times = sorted(list(set(mh_times)))\n",
    "    for i in all_times:\n",
    "        cpl_at_time = gdf_cpl[gdf_cpl['time'] == i]\n",
    "        npz_at_time = gdf_npz[gdf_npz['times_npz'] == i]\n",
    "        cpl_merged = cpl_at_time.sjoin_nearest(npz_at_time, how='left', \n",
    "                                               distance_col='distances',\n",
    "                                               max_distance=max_distance)\n",
    "        cpl_merged = cpl_merged.dropna(subset=['distances'])\n",
    "        cpl_merged['index_npz'] = cpl_merged['index_npz'].astype(int)\n",
    "        print(len(cpl_at_time), len(npz_at_time), len(cpl_merged))\n",
    "        merged_df.append(cpl_merged)\n",
    "    merged_df = pd.concat(merged_df, ignore_index=True)\n",
    "\n",
    "    print(f\"combined after {len(merged_df)}\")\n",
    "\n",
    "    good_data = test_gdf['index_npz'].to_numpy()\n",
    "    cpl_data = test_gdf.iloc[:, 1:734].to_numpy()\n",
    "      \n",
    "    mh = data[\"mh\"][good_data]\n",
    "    hsel = data[\"hsel\"][good_data]\n",
    "    scalar = data[\"scalar\"][good_data]\n",
    "    table = data[\"table\"][good_data]\n",
    "    \n",
    "    day = paths[index].split(\"_\")[-1].split(\".\")[0]\n",
    "    \n",
    "    np.savez(f\"/data/nature_run/fulldays_reduced/all_cpl_{day}.npz\", \n",
    "             cpl=cpl_data, mh=mh, hsel=hsel, scalar=scalar, table=table)\n",
    "\n",
    "\n",
    "    return\n",
    "    \n"
   ]
  },
  {
   "cell_type": "code",
   "execution_count": 149,
   "id": "366c239f-4cc0-4661-9b0d-c010d06b372e",
   "metadata": {},
   "outputs": [
    {
     "data": {
      "text/html": [
       "<div>\n",
       "<style scoped>\n",
       "    .dataframe tbody tr th:only-of-type {\n",
       "        vertical-align: middle;\n",
       "    }\n",
       "\n",
       "    .dataframe tbody tr th {\n",
       "        vertical-align: top;\n",
       "    }\n",
       "\n",
       "    .dataframe thead th {\n",
       "        text-align: right;\n",
       "    }\n",
       "</style>\n",
       "<table border=\"1\" class=\"dataframe\">\n",
       "  <thead>\n",
       "    <tr style=\"text-align: right;\">\n",
       "      <th></th>\n",
       "      <th>geometry</th>\n",
       "      <th>times_npz</th>\n",
       "      <th>index_npz</th>\n",
       "    </tr>\n",
       "  </thead>\n",
       "  <tbody>\n",
       "    <tr>\n",
       "      <th>5522303</th>\n",
       "      <td>POINT (178.62500 38.62500)</td>\n",
       "      <td>2100</td>\n",
       "      <td>5522303</td>\n",
       "    </tr>\n",
       "    <tr>\n",
       "      <th>5522304</th>\n",
       "      <td>POINT (178.68800 38.62500)</td>\n",
       "      <td>2100</td>\n",
       "      <td>5522304</td>\n",
       "    </tr>\n",
       "    <tr>\n",
       "      <th>5522305</th>\n",
       "      <td>POINT (178.75000 38.62500)</td>\n",
       "      <td>2100</td>\n",
       "      <td>5522305</td>\n",
       "    </tr>\n",
       "    <tr>\n",
       "      <th>5522306</th>\n",
       "      <td>POINT (178.81200 38.62500)</td>\n",
       "      <td>2100</td>\n",
       "      <td>5522306</td>\n",
       "    </tr>\n",
       "    <tr>\n",
       "      <th>5522307</th>\n",
       "      <td>POINT (178.62500 38.68800)</td>\n",
       "      <td>2100</td>\n",
       "      <td>5522307</td>\n",
       "    </tr>\n",
       "  </tbody>\n",
       "</table>\n",
       "</div>"
      ],
      "text/plain": [
       "                           geometry times_npz  index_npz\n",
       "5522303  POINT (178.62500 38.62500)      2100    5522303\n",
       "5522304  POINT (178.68800 38.62500)      2100    5522304\n",
       "5522305  POINT (178.75000 38.62500)      2100    5522305\n",
       "5522306  POINT (178.81200 38.62500)      2100    5522306\n",
       "5522307  POINT (178.62500 38.68800)      2100    5522307"
      ]
     },
     "execution_count": 149,
     "metadata": {},
     "output_type": "execute_result"
    }
   ],
   "source": [
    "gdf_npz_uncorrected.tail()"
   ]
  },
  {
   "cell_type": "code",
   "execution_count": 163,
   "id": "197f070e-f625-4253-a525-a1b98f0fe5fb",
   "metadata": {},
   "outputs": [
    {
     "name": "stdout",
     "output_type": "stream",
     "text": [
      "gdf cpl len before 1099870\n",
      "gdf npz len before 5522308\n",
      "149278 732105 133834\n",
      "130331 608759 116312\n",
      "122813 542657 116484\n",
      "150725 651361 142902\n",
      "121047 659173 115605\n",
      "140485 695403 133473\n",
      "150347 849301 141705\n",
      "134844 783549 126071\n",
      "combined after 1026386\n"
     ]
    },
    {
     "data": {
      "text/html": [
       "<div>\n",
       "<style scoped>\n",
       "    .dataframe tbody tr th:only-of-type {\n",
       "        vertical-align: middle;\n",
       "    }\n",
       "\n",
       "    .dataframe tbody tr th {\n",
       "        vertical-align: top;\n",
       "    }\n",
       "\n",
       "    .dataframe thead th {\n",
       "        text-align: right;\n",
       "    }\n",
       "</style>\n",
       "<table border=\"1\" class=\"dataframe\">\n",
       "  <thead>\n",
       "    <tr style=\"text-align: right;\">\n",
       "      <th></th>\n",
       "      <th>cpl_0</th>\n",
       "      <th>cpl_1</th>\n",
       "      <th>cpl_2</th>\n",
       "      <th>cpl_3</th>\n",
       "      <th>cpl_4</th>\n",
       "      <th>cpl_5</th>\n",
       "      <th>cpl_6</th>\n",
       "      <th>cpl_7</th>\n",
       "      <th>cpl_8</th>\n",
       "      <th>cpl_9</th>\n",
       "      <th>...</th>\n",
       "      <th>cpl_730</th>\n",
       "      <th>cpl_731</th>\n",
       "      <th>cpl_732</th>\n",
       "      <th>cpl_733</th>\n",
       "      <th>geometry</th>\n",
       "      <th>time</th>\n",
       "      <th>index_right</th>\n",
       "      <th>times_npz</th>\n",
       "      <th>index_npz</th>\n",
       "      <th>distances</th>\n",
       "    </tr>\n",
       "  </thead>\n",
       "  <tbody>\n",
       "    <tr>\n",
       "      <th>1026381</th>\n",
       "      <td>-0.0</td>\n",
       "      <td>7.754277e-07</td>\n",
       "      <td>7.896173e-07</td>\n",
       "      <td>8.246614e-07</td>\n",
       "      <td>8.148754e-07</td>\n",
       "      <td>8.114828e-07</td>\n",
       "      <td>8.302690e-07</td>\n",
       "      <td>8.064804e-07</td>\n",
       "      <td>8.861263e-07</td>\n",
       "      <td>8.765023e-07</td>\n",
       "      <td>...</td>\n",
       "      <td>0.000158</td>\n",
       "      <td>0.000245</td>\n",
       "      <td>0.000054</td>\n",
       "      <td>0.000150</td>\n",
       "      <td>POINT (16589658.395 4361070.156)</td>\n",
       "      <td>2100</td>\n",
       "      <td>5490684.0</td>\n",
       "      <td>2100</td>\n",
       "      <td>5490684</td>\n",
       "      <td>0.342734</td>\n",
       "    </tr>\n",
       "    <tr>\n",
       "      <th>1026382</th>\n",
       "      <td>-0.0</td>\n",
       "      <td>7.734576e-07</td>\n",
       "      <td>7.773697e-07</td>\n",
       "      <td>7.914664e-07</td>\n",
       "      <td>7.925168e-07</td>\n",
       "      <td>8.181594e-07</td>\n",
       "      <td>8.044461e-07</td>\n",
       "      <td>7.941342e-07</td>\n",
       "      <td>8.322007e-07</td>\n",
       "      <td>7.995544e-07</td>\n",
       "      <td>...</td>\n",
       "      <td>-0.000205</td>\n",
       "      <td>0.000034</td>\n",
       "      <td>0.000158</td>\n",
       "      <td>0.000015</td>\n",
       "      <td>POINT (16589658.395 4367553.822)</td>\n",
       "      <td>2100</td>\n",
       "      <td>5490690.0</td>\n",
       "      <td>2100</td>\n",
       "      <td>5490690</td>\n",
       "      <td>0.341565</td>\n",
       "    </tr>\n",
       "    <tr>\n",
       "      <th>1026383</th>\n",
       "      <td>-0.0</td>\n",
       "      <td>8.517026e-07</td>\n",
       "      <td>8.736445e-07</td>\n",
       "      <td>8.832484e-07</td>\n",
       "      <td>9.024213e-07</td>\n",
       "      <td>9.187420e-07</td>\n",
       "      <td>9.544394e-07</td>\n",
       "      <td>9.570736e-07</td>\n",
       "      <td>9.969104e-07</td>\n",
       "      <td>1.019613e-06</td>\n",
       "      <td>...</td>\n",
       "      <td>-0.000111</td>\n",
       "      <td>-0.000140</td>\n",
       "      <td>-0.000035</td>\n",
       "      <td>0.000128</td>\n",
       "      <td>POINT (16499153.923 4399689.099)</td>\n",
       "      <td>2100</td>\n",
       "      <td>5490695.0</td>\n",
       "      <td>2100</td>\n",
       "      <td>5490695</td>\n",
       "      <td>8802.745081</td>\n",
       "    </tr>\n",
       "    <tr>\n",
       "      <th>1026384</th>\n",
       "      <td>-0.0</td>\n",
       "      <td>7.967120e-07</td>\n",
       "      <td>8.131145e-07</td>\n",
       "      <td>8.314615e-07</td>\n",
       "      <td>8.481555e-07</td>\n",
       "      <td>9.064373e-07</td>\n",
       "      <td>8.600471e-07</td>\n",
       "      <td>9.241865e-07</td>\n",
       "      <td>8.989743e-07</td>\n",
       "      <td>8.927630e-07</td>\n",
       "      <td>...</td>\n",
       "      <td>-0.000059</td>\n",
       "      <td>-0.000222</td>\n",
       "      <td>-0.000069</td>\n",
       "      <td>0.000335</td>\n",
       "      <td>POINT (16426789.213 4444338.579)</td>\n",
       "      <td>2100</td>\n",
       "      <td>5490710.0</td>\n",
       "      <td>2100</td>\n",
       "      <td>5490710</td>\n",
       "      <td>6421.208510</td>\n",
       "    </tr>\n",
       "    <tr>\n",
       "      <th>1026385</th>\n",
       "      <td>-0.0</td>\n",
       "      <td>8.036392e-07</td>\n",
       "      <td>8.167688e-07</td>\n",
       "      <td>8.469322e-07</td>\n",
       "      <td>8.785225e-07</td>\n",
       "      <td>9.274866e-07</td>\n",
       "      <td>8.813377e-07</td>\n",
       "      <td>9.707051e-07</td>\n",
       "      <td>7.902064e-07</td>\n",
       "      <td>8.551338e-07</td>\n",
       "      <td>...</td>\n",
       "      <td>0.000075</td>\n",
       "      <td>-0.000135</td>\n",
       "      <td>-0.000337</td>\n",
       "      <td>0.000095</td>\n",
       "      <td>POINT (16432771.021 4444338.579)</td>\n",
       "      <td>2100</td>\n",
       "      <td>5490711.0</td>\n",
       "      <td>2100</td>\n",
       "      <td>5490711</td>\n",
       "      <td>6421.208519</td>\n",
       "    </tr>\n",
       "  </tbody>\n",
       "</table>\n",
       "<p>5 rows × 740 columns</p>\n",
       "</div>"
      ],
      "text/plain": [
       "         cpl_0         cpl_1         cpl_2         cpl_3         cpl_4  \\\n",
       "1026381   -0.0  7.754277e-07  7.896173e-07  8.246614e-07  8.148754e-07   \n",
       "1026382   -0.0  7.734576e-07  7.773697e-07  7.914664e-07  7.925168e-07   \n",
       "1026383   -0.0  8.517026e-07  8.736445e-07  8.832484e-07  9.024213e-07   \n",
       "1026384   -0.0  7.967120e-07  8.131145e-07  8.314615e-07  8.481555e-07   \n",
       "1026385   -0.0  8.036392e-07  8.167688e-07  8.469322e-07  8.785225e-07   \n",
       "\n",
       "                cpl_5         cpl_6         cpl_7         cpl_8         cpl_9  \\\n",
       "1026381  8.114828e-07  8.302690e-07  8.064804e-07  8.861263e-07  8.765023e-07   \n",
       "1026382  8.181594e-07  8.044461e-07  7.941342e-07  8.322007e-07  7.995544e-07   \n",
       "1026383  9.187420e-07  9.544394e-07  9.570736e-07  9.969104e-07  1.019613e-06   \n",
       "1026384  9.064373e-07  8.600471e-07  9.241865e-07  8.989743e-07  8.927630e-07   \n",
       "1026385  9.274866e-07  8.813377e-07  9.707051e-07  7.902064e-07  8.551338e-07   \n",
       "\n",
       "         ...   cpl_730   cpl_731   cpl_732   cpl_733  \\\n",
       "1026381  ...  0.000158  0.000245  0.000054  0.000150   \n",
       "1026382  ... -0.000205  0.000034  0.000158  0.000015   \n",
       "1026383  ... -0.000111 -0.000140 -0.000035  0.000128   \n",
       "1026384  ... -0.000059 -0.000222 -0.000069  0.000335   \n",
       "1026385  ...  0.000075 -0.000135 -0.000337  0.000095   \n",
       "\n",
       "                                 geometry  time  index_right  times_npz  \\\n",
       "1026381  POINT (16589658.395 4361070.156)  2100    5490684.0       2100   \n",
       "1026382  POINT (16589658.395 4367553.822)  2100    5490690.0       2100   \n",
       "1026383  POINT (16499153.923 4399689.099)  2100    5490695.0       2100   \n",
       "1026384  POINT (16426789.213 4444338.579)  2100    5490710.0       2100   \n",
       "1026385  POINT (16432771.021 4444338.579)  2100    5490711.0       2100   \n",
       "\n",
       "         index_npz    distances  \n",
       "1026381    5490684     0.342734  \n",
       "1026382    5490690     0.341565  \n",
       "1026383    5490695  8802.745081  \n",
       "1026384    5490710  6421.208510  \n",
       "1026385    5490711  6421.208519  \n",
       "\n",
       "[5 rows x 740 columns]"
      ]
     },
     "execution_count": 163,
     "metadata": {},
     "output_type": "execute_result"
    }
   ],
   "source": [
    "test_gdf = stack_data(0)\n",
    "test_gdf.tail()"
   ]
  },
  {
   "cell_type": "code",
   "execution_count": 164,
   "id": "581e8813-6c58-4d4d-ba0b-52b855db6355",
   "metadata": {},
   "outputs": [
    {
     "name": "stdout",
     "output_type": "stream",
     "text": [
      "(1026386, 733)\n"
     ]
    }
   ],
   "source": [
    "cpl_data = test_gdf.iloc[:, 1:734].to_numpy()\n",
    "print(cpl_data.shape)\n",
    "\n"
   ]
  },
  {
   "cell_type": "code",
   "execution_count": null,
   "id": "569c17da-b602-4c48-b97d-d93ea52329f6",
   "metadata": {},
   "outputs": [],
   "source": []
  },
  {
   "cell_type": "code",
   "execution_count": 165,
   "id": "868c4bac-2bc8-4174-b326-f82765d5188a",
   "metadata": {},
   "outputs": [
    {
     "name": "stdout",
     "output_type": "stream",
     "text": [
      "[      1       2       3 ... 5490695 5490710 5490711]\n",
      "1026386 0 1026386\n"
     ]
    }
   ],
   "source": [
    "good_data = test_gdf['index_npz'].to_numpy()\n",
    "print(good_data)\n",
    "\n",
    "print(len(good_data), np.sum(np.isnan(good_data)), len(good_data)-np.sum(np.isnan(good_data)))"
   ]
  },
  {
   "cell_type": "code",
   "execution_count": 158,
   "id": "a3450e0a-7be1-49a8-91c9-ad48285b487a",
   "metadata": {},
   "outputs": [
    {
     "name": "stdout",
     "output_type": "stream",
     "text": [
      "[[    702]\n",
      " [    732]\n",
      " [    733]\n",
      " ...\n",
      " [1100812]\n",
      " [1100813]\n",
      " [1100814]]\n",
      "cpl_730                                              0.000167\n",
      "cpl_731                                              0.000043\n",
      "cpl_732                                             -0.000062\n",
      "cpl_733                                             -0.000303\n",
      "geometry       POINT (-17180539.692469932 -5059618.083084716)\n",
      "time                                                     0000\n",
      "index_right                                               NaN\n",
      "times_npz                                                 NaN\n",
      "index_npz                                                 NaN\n",
      "distances                                                 NaN\n",
      "Name: 702, dtype: object\n"
     ]
    }
   ],
   "source": [
    "a = np.argwhere(np.isnan(good_data))\n",
    "print(a)\n",
    "print(test_gdf.iloc[702, -10:])"
   ]
  },
  {
   "cell_type": "code",
   "execution_count": 167,
   "id": "e203d360-5be8-4632-a432-c62a5cfc290c",
   "metadata": {},
   "outputs": [
    {
     "ename": "TypeError",
     "evalue": "save() got an unexpected keyword argument 'cpl'",
     "output_type": "error",
     "traceback": [
      "\u001b[0;31m---------------------------------------------------------------------------\u001b[0m",
      "\u001b[0;31mTypeError\u001b[0m                                 Traceback (most recent call last)",
      "Cell \u001b[0;32mIn[167], line 11\u001b[0m\n\u001b[1;32m      8\u001b[0m table \u001b[38;5;241m=\u001b[39m data[\u001b[38;5;124m\"\u001b[39m\u001b[38;5;124mtable\u001b[39m\u001b[38;5;124m\"\u001b[39m][good_data]\n\u001b[1;32m     10\u001b[0m day \u001b[38;5;241m=\u001b[39m \u001b[38;5;124m\"\u001b[39m\u001b[38;5;124m20060315\u001b[39m\u001b[38;5;124m\"\u001b[39m\n\u001b[0;32m---> 11\u001b[0m \u001b[43mnp\u001b[49m\u001b[38;5;241;43m.\u001b[39;49m\u001b[43msave\u001b[49m\u001b[43m(\u001b[49m\u001b[38;5;124;43mf\u001b[39;49m\u001b[38;5;124;43m\"\u001b[39;49m\u001b[38;5;124;43m/data/nature_run/fulldays_reduced/all_cpl_\u001b[39;49m\u001b[38;5;132;43;01m{\u001b[39;49;00m\u001b[43mday\u001b[49m\u001b[38;5;132;43;01m}\u001b[39;49;00m\u001b[38;5;124;43m.npz\u001b[39;49m\u001b[38;5;124;43m\"\u001b[39;49m\u001b[43m,\u001b[49m\u001b[43m \u001b[49m\n\u001b[1;32m     12\u001b[0m \u001b[43m        \u001b[49m\u001b[43mcpl\u001b[49m\u001b[38;5;241;43m=\u001b[39;49m\u001b[43mcpl_data\u001b[49m\u001b[43m,\u001b[49m\u001b[43m \u001b[49m\u001b[43mmh\u001b[49m\u001b[38;5;241;43m=\u001b[39;49m\u001b[43mmh\u001b[49m\u001b[43m,\u001b[49m\u001b[43m \u001b[49m\u001b[43mhsel\u001b[49m\u001b[38;5;241;43m=\u001b[39;49m\u001b[43mhsel\u001b[49m\u001b[43m,\u001b[49m\u001b[43m \u001b[49m\u001b[43mscalar\u001b[49m\u001b[38;5;241;43m=\u001b[39;49m\u001b[43mscalar\u001b[49m\u001b[43m,\u001b[49m\u001b[43m \u001b[49m\u001b[43mtable\u001b[49m\u001b[38;5;241;43m=\u001b[39;49m\u001b[43mtable\u001b[49m\u001b[43m)\u001b[49m\n",
      "\u001b[0;31mTypeError\u001b[0m: save() got an unexpected keyword argument 'cpl'"
     ]
    }
   ],
   "source": [
    "\n",
    "good_data = test_gdf['index_npz'].to_numpy()\n",
    "cpl_data = test_gdf.iloc[:, 1:734].to_numpy()\n",
    "\n",
    "data = np.load(npz_paths[index])    \n",
    "mh = data[\"mh\"][good_data]\n",
    "hsel = data[\"hsel\"][good_data]\n",
    "scalar = data[\"scalar\"][good_data]\n",
    "table = data[\"table\"][good_data]\n",
    "\n",
    "day = \"20060315\"\n",
    "np.savez(f\"/data/nature_run/fulldays_reduced/all_cpl_{day}.npz\", \n",
    "        cpl=cpl_data, mh=mh, hsel=hsel, scalar=scalar, table=table)\n",
    "\n"
   ]
  },
  {
   "cell_type": "code",
   "execution_count": 171,
   "id": "2c5b1576-ae14-4936-b6a6-7c4b54a6edf3",
   "metadata": {},
   "outputs": [],
   "source": [
    "np.savez(f\"/data/nature_run/fulldays_reduced/all_cpl_{day}.npz\", \n",
    "         cpl=cpl_data, mh=mh, hsel=hsel, scalar=scalar, table=table)"
   ]
  },
  {
   "cell_type": "code",
   "execution_count": 173,
   "id": "f9946ee7-04b1-4899-b978-8c41ba572b93",
   "metadata": {},
   "outputs": [
    {
     "name": "stdout",
     "output_type": "stream",
     "text": [
      "['cpl', 'mh', 'hsel', 'scalar', 'table']\n",
      "(1026386, 733)\n",
      "(1026386, 22)\n",
      "(1026386, 1957)\n",
      "(1026386, 44)\n",
      "(1026386, 72, 3)\n"
     ]
    }
   ],
   "source": [
    "# Test npz\n",
    "test_data = np.load(f\"/data/nature_run/fulldays_reduced/all_cpl_{day}.npz\")\n",
    "print(list(test_data.keys()))\n",
    "datasets = []\n",
    "for i in test_data.keys():\n",
    "    datasets.append(test_data[i])\n",
    "\n",
    "for i in datasets:\n",
    "    print(i.shape)"
   ]
  },
  {
   "cell_type": "code",
   "execution_count": 168,
   "id": "cbb24bad-30dd-4bde-9f5a-a20d8a50a582",
   "metadata": {},
   "outputs": [
    {
     "name": "stdout",
     "output_type": "stream",
     "text": [
      "20060315\n"
     ]
    }
   ],
   "source": [
    "a=\"/data/nature_run/fulldays_reduced/cpl_merged/cpl_all_20060315.pkl\"\n",
    "print(a.split(\"_\")[-1].split(\".\")[0])"
   ]
  },
  {
   "cell_type": "code",
   "execution_count": null,
   "id": "b0000a6f-41d9-4dfc-bffd-97d8042a662b",
   "metadata": {},
   "outputs": [],
   "source": []
  }
 ],
 "metadata": {
  "kernelspec": {
   "display_name": "Python 3 (ipykernel)",
   "language": "python",
   "name": "python3"
  },
  "language_info": {
   "codemirror_mode": {
    "name": "ipython",
    "version": 3
   },
   "file_extension": ".py",
   "mimetype": "text/x-python",
   "name": "python",
   "nbconvert_exporter": "python",
   "pygments_lexer": "ipython3",
   "version": "3.10.8"
  }
 },
 "nbformat": 4,
 "nbformat_minor": 5
}
