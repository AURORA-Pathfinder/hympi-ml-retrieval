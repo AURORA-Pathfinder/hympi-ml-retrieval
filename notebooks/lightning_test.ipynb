{
 "cells": [
  {
   "cell_type": "code",
   "execution_count": null,
   "id": "9c71556f",
   "metadata": {},
   "outputs": [
    {
     "data": {
      "text/plain": [
       "tensor([[0.2415, 0.2573, 0.5971,  ..., 0.8076, 0.7786, 0.7492],\n",
       "        [0.2407, 0.2579, 0.5976,  ..., 0.8084, 0.7795, 0.7501],\n",
       "        [0.2415, 0.2608, 0.6001,  ..., 0.8087, 0.7799, 0.7504],\n",
       "        ...,\n",
       "        [0.2681, 0.3306, 0.6496,  ..., 0.8170, 0.8011, 0.7827],\n",
       "        [0.2276, 0.2684, 0.6004,  ..., 0.8214, 0.8036, 0.7847],\n",
       "        [0.2691, 0.3368, 0.6604,  ..., 0.8151, 0.7917, 0.7652]])"
      ]
     },
     "execution_count": 20,
     "metadata": {},
     "output_type": "execute_result"
    }
   ],
   "source": [
    "import torch\n",
    "\n",
    "from hympi_ml.data import DataSpec, AMPRSpec, NRSpec, ATMSSpec\n",
    "from hympi_ml.data.ch06 import Ch06Source\n",
    "from hympi_ml.data.model_dataset import ModelDataset\n",
    "\n"
   ]
  },
  {
   "cell_type": "code",
   "execution_count": null,
   "id": "550ceb57",
   "metadata": {},
   "outputs": [],
   "source": [
    "model"
   ]
  }
 ],
 "metadata": {
  "kernelspec": {
   "display_name": "hympi-ml-retrieval",
   "language": "python",
   "name": "python3"
  },
  "language_info": {
   "codemirror_mode": {
    "name": "ipython",
    "version": 3
   },
   "file_extension": ".py",
   "mimetype": "text/x-python",
   "name": "python",
   "nbconvert_exporter": "python",
   "pygments_lexer": "ipython3",
   "version": "3.12.9"
  }
 },
 "nbformat": 4,
 "nbformat_minor": 5
}
