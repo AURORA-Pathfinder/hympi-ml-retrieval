{
 "cells": [
  {
   "cell_type": "code",
   "execution_count": 1,
   "metadata": {},
   "outputs": [],
   "source": [
    "import mlflow\n",
    "import numpy as np\n",
    "import matplotlib.pyplot as plt\n",
    "\n",
    "# read all mlflow datasets for the current experiment\n",
    "# try to load the artifacts called \"test_pred_(index 0).npy\" and \"train_pred_(index 0).npy\"\n",
    "# convert them into ndarray\n",
    "\n",
    "# load temperature profile data (Train and test) (use a the same splitter)\n",
    "# get truth temperature data for index 0 on each\n",
    "\n",
    "# plot them (train and test)\n",
    "# get cool comparison things"
   ]
  }
 ],
 "metadata": {
  "kernelspec": {
   "display_name": "tf_gpu",
   "language": "python",
   "name": "python3"
  },
  "language_info": {
   "codemirror_mode": {
    "name": "ipython",
    "version": 3
   },
   "file_extension": ".py",
   "mimetype": "text/x-python",
   "name": "python",
   "nbconvert_exporter": "python",
   "pygments_lexer": "ipython3",
   "version": "3.10.5"
  }
 },
 "nbformat": 4,
 "nbformat_minor": 2
}
