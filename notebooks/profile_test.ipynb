{
 "cells": [
  {
   "cell_type": "code",
   "execution_count": 1,
   "metadata": {},
   "outputs": [
    {
     "name": "stderr",
     "output_type": "stream",
     "text": [
      "2024-12-31 15:05:09.957028: I tensorflow/core/platform/cpu_feature_guard.cc:193] This TensorFlow binary is optimized with oneAPI Deep Neural Network Library (oneDNN) to use the following CPU instructions in performance-critical operations:  AVX2 AVX512F AVX512_VNNI FMA\n",
      "To enable them in other operations, rebuild TensorFlow with the appropriate compiler flags.\n",
      "2024-12-31 15:05:10.118078: I tensorflow/core/util/port.cc:104] oneDNN custom operations are on. You may see slightly different numerical results due to floating-point round-off errors from different computation orders. To turn them off, set the environment variable `TF_ENABLE_ONEDNN_OPTS=0`.\n",
      "2024-12-31 15:05:11.213098: W tensorflow/compiler/xla/stream_executor/platform/default/dso_loader.cc:64] Could not load dynamic library 'libnvinfer.so.7'; dlerror: libnvinfer.so.7: cannot open shared object file: No such file or directory\n",
      "2024-12-31 15:05:11.213649: W tensorflow/compiler/xla/stream_executor/platform/default/dso_loader.cc:64] Could not load dynamic library 'libnvinfer_plugin.so.7'; dlerror: libnvinfer_plugin.so.7: cannot open shared object file: No such file or directory\n",
      "2024-12-31 15:05:11.213721: W tensorflow/compiler/tf2tensorrt/utils/py_utils.cc:38] TF-TRT Warning: Cannot dlopen some TensorRT libraries. If you would like to use Nvidia GPU with TensorRT, please make sure the missing libraries mentioned above are installed properly.\n",
      "2024-12-31 15:05:14.415717: E tensorflow/compiler/xla/stream_executor/cuda/cuda_driver.cc:267] failed call to cuInit: CUDA_ERROR_NO_DEVICE: no CUDA-capable device is detected\n",
      "2024-12-31 15:05:14.416023: I tensorflow/compiler/xla/stream_executor/cuda/cuda_diagnostics.cc:169] retrieving CUDA diagnostic information for host: gs580s-587gpu2\n",
      "2024-12-31 15:05:14.416099: I tensorflow/compiler/xla/stream_executor/cuda/cuda_diagnostics.cc:176] hostname: gs580s-587gpu2\n",
      "2024-12-31 15:05:14.416658: I tensorflow/compiler/xla/stream_executor/cuda/cuda_diagnostics.cc:200] libcuda reported version is: 470.256.2\n",
      "2024-12-31 15:05:14.416831: I tensorflow/compiler/xla/stream_executor/cuda/cuda_diagnostics.cc:204] kernel reported version is: 470.256.2\n",
      "2024-12-31 15:05:14.416896: I tensorflow/compiler/xla/stream_executor/cuda/cuda_diagnostics.cc:310] kernel version seems to match DSO: 470.256.2\n",
      "2024-12-31 15:05:14.417234: I tensorflow/core/platform/cpu_feature_guard.cc:193] This TensorFlow binary is optimized with oneAPI Deep Neural Network Library (oneDNN) to use the following CPU instructions in performance-critical operations:  AVX2 AVX512F AVX512_VNNI FMA\n",
      "To enable them in other operations, rebuild TensorFlow with the appropriate compiler flags.\n"
     ]
    },
    {
     "name": "stdout",
     "output_type": "stream",
     "text": [
      "WARNING:tensorflow:From /data/nature_run/work/dave/hympi-ml-retrieval/.venv/lib/python3.10/site-packages/tensorflow/python/autograph/pyct/static_analysis/liveness.py:83: Analyzer.lamba_check (from tensorflow.python.autograph.pyct.static_analysis.liveness) is deprecated and will be removed after 2023-09-23.\n",
      "Instructions for updating:\n",
      "Lambda fuctions will be no more assumed to be used in the statement where they are used, or at least in the same block. https://github.com/tensorflow/tensorflow/issues/56089\n",
      "781/781 [==============================] - 47s 60ms/step\n"
     ]
    },
    {
     "data": {
      "text/plain": [
       "{'TEMPERATURE': array([[207.11, 208.08, 213.5 , ..., 295.56, 296.89, 298.22],\n",
       "        [206.92, 207.85, 213.44, ..., 295.56, 296.89, 298.22],\n",
       "        [206.8 , 207.63, 213.37, ..., 295.62, 296.89, 298.22],\n",
       "        ...,\n",
       "        [203.32, 202.52, 198.74, ..., 293.18, 294.18, 295.36],\n",
       "        [202.63, 201.1 , 197.99, ..., 293.09, 294.31, 295.55],\n",
       "        [202.57, 200.97, 197.93, ..., 293.09, 294.31, 295.55]],\n",
       "       dtype=float32),\n",
       " 'WATER_VAPOR': array([[3.0253e-06, 3.6916e-06, 3.8877e-06, ..., 1.5906e-02, 1.6158e-02,\n",
       "         1.6409e-02],\n",
       "        [3.0291e-06, 3.6953e-06, 3.8877e-06, ..., 1.5938e-02, 1.6190e-02,\n",
       "         1.6440e-02],\n",
       "        [3.0328e-06, 3.6990e-06, 3.8877e-06, ..., 1.5938e-02, 1.6190e-02,\n",
       "         1.6440e-02],\n",
       "        ...,\n",
       "        [3.7686e-06, 4.0532e-06, 4.1142e-06, ..., 1.5167e-02, 1.5355e-02,\n",
       "         1.5590e-02],\n",
       "        [3.7835e-06, 4.0643e-06, 4.1180e-06, ..., 1.4586e-02, 1.5135e-02,\n",
       "         1.5433e-02],\n",
       "        [3.7835e-06, 4.0643e-06, 4.1180e-06, ..., 1.4633e-02, 1.5072e-02,\n",
       "         1.5385e-02]], dtype=float32),\n",
       " 'PBLH': array([1145.2 , 1073.2 , 1033.2 , ...,  254.3 ,  330.55,  416.05],\n",
       "       dtype=float32)}"
      ]
     },
     "execution_count": 1,
     "metadata": {},
     "output_type": "execute_result"
    }
   ],
   "source": [
    "import os\n",
    "import numpy as np\n",
    "\n",
    "from hympi_ml.data.fulldays.dataset import get_datasets_from_run\n",
    "from hympi_ml.utils import mlflow_log, keras_utils\n",
    "from hympi_ml.utils.gpu import set_gpus\n",
    "import hympi_ml.evaluation.figs as figs\n",
    "import mlflow\n",
    "\n",
    "\n",
    "set_gpus(count=0)\n",
    "os.umask(0o007)  # correctly sets the umask to force proper file permissions\n",
    "\n",
    "# sets the tracking uri from where the mlflow run will be read from\n",
    "mlflow.set_tracking_uri(\"/data/nature_run/hympi-ml-retrieval/mlruns\")\n",
    "\n",
    "# # ATMS + CPL = TEMPERATURE\n",
    "# t_run_id = \"d0d39c7ba3a44256adfcaa0eec0c90ae\"\n",
    "\n",
    "# # H1 + CPL = PBLH\n",
    "pblh_run_id = \"47350afd58c5411a833ca2f04650feee\"\n",
    "\n",
    "# HA + HD + HW = TEMPERATURE + WATER_VAPOR\n",
    "# tq_run_id = \"c5abf5697bb04b338481ff8ca9cc1185\"\n",
    "# tq_run_id = \"61ebdf4690d848c09ade6d499b777824\"\n",
    "# tq_run_id = \"55c1296a527f433caa234fe3c2228d54\"\n",
    "\n",
    "tqpblh_run_id = \"4862e952d10648e8b7ed5eb91a311509\"\n",
    "\n",
    "run_id = \"0bed09eb299f4c24938b6be56f9950a6\"\n",
    "\n",
    "model = mlflow_log.get_model(run_id, \"checkpoints/latest_checkpoint.h5\")\n",
    "ds_dict = get_datasets_from_run(run_id)\n",
    "\n",
    "ds = ds_dict[\"test\"]\n",
    "t = ds.get_targets(scaling=False)\n",
    "t"
   ]
  }
 ],
 "metadata": {
  "kernelspec": {
   "display_name": ".venv",
   "language": "python",
   "name": "python3"
  },
  "language_info": {
   "codemirror_mode": {
    "name": "ipython",
    "version": 3
   },
   "file_extension": ".py",
   "mimetype": "text/x-python",
   "name": "python",
   "nbconvert_exporter": "python",
   "pygments_lexer": "ipython3",
   "version": "3.10.16"
  }
 },
 "nbformat": 4,
 "nbformat_minor": 2
}
