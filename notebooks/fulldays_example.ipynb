{
 "cells": [
  {
   "cell_type": "markdown",
   "metadata": {},
   "source": [
    "## Fulldays Model Example\n",
    "This notebook goes over how to use the suite of functions and tools for working with Fulldays data and a full walkthrough of training a simple model to predict a temperature profile! This covers all steps from loading -> model creation -> training -> evaluation!\n",
    "\n",
    "#### A Note on Data Keys (`DKey`)\n",
    "You may notice the usage of the 'DKey' enum throughout these examples. This is because it's the primary means of identifying\n",
    "the datasets without resorting to \"magic strings\". To clarify, when defining the datasets to load such as HSEL and ATMS, we don't use the strings \"HSEL\" and \"ATMS\" but rather `DKey.HSEL` and `DKey.ATMS`. \n",
    "\n",
    "This may seem like extra work or a bit tedious but it provides a level of protection against accidental typos with a specifically defined list of `DKey` (located in `data/fulldays/loading.py` module). Moreover, any attempts at using a non-existant `DKey` will result in an immediate type error. Also, if you're using intellisense in your IDE, you can directly see the list of available `DKey` without needing to guess or check where they're defined."
   ]
  },
  {
   "cell_type": "markdown",
   "metadata": {},
   "source": [
    "### Loading Entire Datasets\n",
    "The most effective way to load our fulldays data is by using the `FullDaysDataset` object.\n",
    "\n",
    "The idea is that you make a `FullDaysDataset` instance for each of your train, test, and validation data.\n",
    "\n",
    "A function called `get_split_datasets` has been provided to make this process as simple as possible."
   ]
  },
  {
   "cell_type": "code",
   "execution_count": 2,
   "metadata": {},
   "outputs": [
    {
     "name": "stdout",
     "output_type": "stream",
     "text": [
      "-Data Counts-\n",
      "Train: 7542652\n",
      "Validation: 872054\n",
      "Test: 822380\n"
     ]
    }
   ],
   "source": [
    "from hympi_ml.data.fulldays import DKey, DPath, get_split_datasets\n",
    "\n",
    "# load the train, validation, and test datasets for an HSEL+CPL -> TEMPERATURE model\n",
    "(train, validation, test) = get_split_datasets(\n",
    "    loader_path=DPath.CPL_06_REDUCED,\n",
    "    feature_names=[DKey.HSEL, DKey.CPL],\n",
    "    target_name=DKey.TEMPERATURE,\n",
    "    train_days=[\n",
    "        \"20060315\",\n",
    "        \"20060515\",\n",
    "        \"20060615\",\n",
    "        \"20060715\",\n",
    "        \"20060915\",\n",
    "        \"20061015\",\n",
    "        \"20061115\",\n",
    "        \"20061215\",\n",
    "    ],\n",
    "    validation_days=[\"20060815\"],\n",
    "    test_days=[\"20060803\"],\n",
    "    autolog=False, # this is made False as we are not using MLFlow in these examples (make it True if so!)\n",
    ")\n",
    "\n",
    "# show the number of data points in each of the datasets\n",
    "print(\"-Data Counts-\")\n",
    "print(f\"Train: {train.count}\")\n",
    "print(f\"Validation: {validation.count}\")\n",
    "print(f\"Test: {test.count}\")"
   ]
  },
  {
   "cell_type": "markdown",
   "metadata": {},
   "source": [
    "That's it! In just 20 lines we can load all of our data that we need for training, validation, and test almost immedately!\n",
    "\n",
    "Lots of the properties in a `FullDaysDataset` are setup as dictionaries which can be indexed using a `DKey`.\n",
    "Take a look at the examples below on how simple it is to access the information in a dataset:"
   ]
  },
  {
   "cell_type": "code",
   "execution_count": 3,
   "metadata": {},
   "outputs": [
    {
     "name": "stdout",
     "output_type": "stream",
     "text": [
      "-Features-\n",
      "HSEL train shape: (7542652, 1957)\n",
      "CPL train shape: (7542652, 733)\n",
      "-Target-\n",
      "Temperature shape: (7542652, 72)\n"
     ]
    }
   ],
   "source": [
    "print(\"-Features-\")\n",
    " # directly get the data sequence associated with the HSEL data!\n",
    "hsel_train = train.features[DKey.HSEL]\n",
    "print(f\"HSEL train shape: {hsel_train.shape}\")\n",
    "\n",
    "# works with any data defined as the features above!\n",
    "cpl_train = train.features[DKey.CPL]\n",
    "print(f\"CPL train shape: {cpl_train.shape}\")\n",
    "\n",
    "print(\"-Target-\")\n",
    "# A simple API for accessing anything you'd like, even the target data!\n",
    "t_train = train.target\n",
    "print(f\"Temperature shape: {t_train.shape}\")"
   ]
  },
  {
   "cell_type": "markdown",
   "metadata": {},
   "source": [
    "### Model Creation\n",
    "Thanks to various useful functions provided by any instance of a `FullDaysDataset`, making models is very easy!\n",
    "\n",
    "No need to remember the exact size of your features, simply use the `get_input_layers` function to create a dictionary of named keras `Input` layers. \n",
    "\n",
    "Since it's a dictionary, you can use the `DKey`, shown earlier, to index into the input layers!"
   ]
  },
  {
   "cell_type": "code",
   "execution_count": 4,
   "metadata": {},
   "outputs": [
    {
     "name": "stdout",
     "output_type": "stream",
     "text": [
      "Model: \"model\"\n",
      "__________________________________________________________________________________________________\n",
      " Layer (type)                   Output Shape         Param #     Connected to                     \n",
      "==================================================================================================\n",
      " HSEL (InputLayer)              [(None, 1957)]       0           []                               \n",
      "                                                                                                  \n",
      " CPL (InputLayer)               [(None, 733)]        0           []                               \n",
      "                                                                                                  \n",
      " layer_normalization (LayerNorm  (None, 1957)        3914        ['HSEL[0][0]']                   \n",
      " alization)                                                                                       \n",
      "                                                                                                  \n",
      " layer_normalization_1 (LayerNo  (None, 733)         1466        ['CPL[0][0]']                    \n",
      " rmalization)                                                                                     \n",
      "                                                                                                  \n",
      " dense (Dense)                  (None, 256)          501248      ['layer_normalization[0][0]']    \n",
      "                                                                                                  \n",
      " dense_2 (Dense)                (None, 128)          93952       ['layer_normalization_1[0][0]']  \n",
      "                                                                                                  \n",
      " dense_1 (Dense)                (None, 64)           16448       ['dense[0][0]']                  \n",
      "                                                                                                  \n",
      " dense_3 (Dense)                (None, 32)           4128        ['dense_2[0][0]']                \n",
      "                                                                                                  \n",
      " concatenate (Concatenate)      (None, 96)           0           ['dense_1[0][0]',                \n",
      "                                                                  'dense_3[0][0]']                \n",
      "                                                                                                  \n",
      " dense_4 (Dense)                (None, 64)           6208        ['concatenate[0][0]']            \n",
      "                                                                                                  \n",
      " dense_5 (Dense)                (None, 72)           4680        ['dense_4[0][0]']                \n",
      "                                                                                                  \n",
      "==================================================================================================\n",
      "Total params: 632,044\n",
      "Trainable params: 632,044\n",
      "Non-trainable params: 0\n",
      "__________________________________________________________________________________________________\n"
     ]
    },
    {
     "name": "stderr",
     "output_type": "stream",
     "text": [
      "2024-11-07 13:14:14.803861: I tensorflow/core/common_runtime/gpu/gpu_process_state.cc:222] Using CUDA malloc Async allocator for GPU: 0\n",
      "2024-11-07 13:14:14.804889: I tensorflow/core/common_runtime/gpu/gpu_device.cc:1613] Created device /job:localhost/replica:0/task:0/device:GPU:0 with 30967 MB memory:  -> device: 0, name: Tesla V100-SXM2-32GB, pci bus id: 0000:3e:00.0, compute capability: 7.0\n"
     ]
    }
   ],
   "source": [
    "import keras\n",
    "from keras.layers import Dense, Concatenate, LayerNormalization\n",
    "\n",
    "from hympi_ml.utils import gpu\n",
    "\n",
    "gpu.set_gpus(min_free=0.8) # handle GPU finding automatically!\n",
    "\n",
    "# Create input layers\n",
    "input_layers = train.get_input_layers()\n",
    "\n",
    "# Define the HSEL path\n",
    "hsel_in = input_layers[DKey.HSEL]\n",
    "hsel_out = LayerNormalization()(hsel_in)\n",
    "hsel_out = Dense(256, \"relu\")(hsel_out)\n",
    "hsel_out = Dense(64, \"relu\")(hsel_out)\n",
    "\n",
    "# Define the CPL path\n",
    "cpl_in = input_layers[DKey.CPL]\n",
    "cpl_out = LayerNormalization()(cpl_in)\n",
    "cpl_out = Dense(128, \"relu\")(cpl_out)\n",
    "cpl_out = Dense(32, \"relu\")(cpl_out)\n",
    "\n",
    "# Combine paths into final output\n",
    "out = Concatenate()([hsel_out, cpl_out])\n",
    "out = Dense(64, \"relu\")(out)\n",
    "out = Dense(train.target_shape[0])(out) # automatically handle the size of the output (72)\n",
    "\n",
    "# Create the model\n",
    "model_inputs = list(input_layers.values()) # only the values (the actual layers) are used for creating the model paths\n",
    "model = keras.Model(model_inputs, out)\n",
    "\n",
    "model.compile(\"adam\", \"mae\")\n",
    "\n",
    "model.summary()"
   ]
  },
  {
   "cell_type": "markdown",
   "metadata": {},
   "source": [
    "Very easy! We created an entire model without ever needing to remember the data shapes or manually insert them into the Dense layers!"
   ]
  },
  {
   "cell_type": "markdown",
   "metadata": {},
   "source": [
    "### Training\n",
    "\n",
    "Once again, training is quite simple! However, it comes with an extra step.\n",
    "\n",
    "You *cannot* directly use the sequences that are part of the `train.features` dictionary or `train.target` value. \n",
    "\n",
    "Instead, we need to generate our *own* batches! We can do this with the `create_batches` function which is part of any `FullDaysDataset`. \n",
    "\n",
    "These batches are a special kind of Keras-specific `Sequence` type that is specially used for generating our data. This is useful for the massive size of our datasets. These batches are used directly as the data passed into a `fit` function for a Keras model."
   ]
  },
  {
   "cell_type": "code",
   "execution_count": 6,
   "metadata": {},
   "outputs": [
    {
     "name": "stdout",
     "output_type": "stream",
     "text": [
      "3772/3772 [==============================] - 90s 24ms/step - loss: 4.8279 - val_loss: 4.9840\n"
     ]
    },
    {
     "data": {
      "text/plain": [
       "<keras.callbacks.History at 0x7ff7042aad40>"
      ]
     },
     "execution_count": 6,
     "metadata": {},
     "output_type": "execute_result"
    }
   ],
   "source": [
    "batch_size = 2000\n",
    "train_batches = train.create_batches(batch_size)\n",
    "val_batches = validation.create_batches(batch_size)\n",
    "test_batches = test.create_batches(batch_size) # unused here but included for completeness!\n",
    "\n",
    "model.fit(train_batches, validation_data=val_batches, epochs=1, verbose=1)"
   ]
  },
  {
   "cell_type": "markdown",
   "metadata": {},
   "source": [
    "### Evaluation\n",
    "We couldn't end this example without some great tools for evaluation!\n",
    "\n",
    "Luckily, since we are working with a profile, the `evaluation/profile.py` module makes displaying proper figures easy!"
   ]
  },
  {
   "cell_type": "code",
   "execution_count": 7,
   "metadata": {},
   "outputs": [
    {
     "name": "stdout",
     "output_type": "stream",
     "text": [
      "1/1 [==============================] - 0s 262ms/step\n"
     ]
    },
    {
     "data": {
      "image/png": "[encoded data removed]",
      "text/plain": [
       "<Figure size 640x480 with 1 Axes>"
      ]
     },
     "metadata": {},
     "output_type": "display_data"
    }
   ],
   "source": [
    "from hympi_ml.evaluation import profile\n",
    "\n",
    "plot = profile.plot_mae(model, data=test, context=\"Test\", count=10000)"
   ]
  },
  {
   "cell_type": "markdown",
   "metadata": {},
   "source": [
    "That's it! There lots more involved in the process of working with this data but I hope this simple tutorial provides a good starting off point for working with this special system. Please feel free to look through the code itself to see all of the wonderful features a `FullDaysDataset` has to offer!"
   ]
  }
 ],
 "metadata": {
  "kernelspec": {
   "display_name": ".venv",
   "language": "python",
   "name": "python3"
  },
  "language_info": {
   "codemirror_mode": {
    "name": "ipython",
    "version": 3
   },
   "file_extension": ".py",
   "mimetype": "text/x-python",
   "name": "python",
   "nbconvert_exporter": "python",
   "pygments_lexer": "ipython3",
   "version": "3.10.5"
  }
 },
 "nbformat": 4,
 "nbformat_minor": 2
}
