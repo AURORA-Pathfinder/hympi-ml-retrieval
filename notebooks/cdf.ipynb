{
 "cells": [
  {
   "cell_type": "markdown",
   "metadata": {},
   "source": [
    "### NetCDF Generation\n",
    "This notebook generates a netcdf file given a model run_id.\n",
    "\n",
    "Note that the tracking_uri for mlflow is set beforehand!\n",
    "In order to properly read the run_id provided and correctly link to the right run, we must set the tracking_uri.\n",
    "\n",
    "The example below is using the run id of \"8df9cc52125240b0b4c72f1837f9fa65\" which is a HA+HD+HW+CPL run to predict a temperature profile, water vapor profile, and PBLH."
   ]
  },
  {
   "cell_type": "code",
   "execution_count": 2,
   "metadata": {},
   "outputs": [
    {
     "name": "stdout",
     "output_type": "stream",
     "text": [
      "893/893 [==============================] - 23s 25ms/step\n",
      "893/893 [==============================] - 14s 15ms/step\n"
     ]
    }
   ],
   "source": [
    "import os\n",
    "\n",
    "import mlflow\n",
    "import hympi_ml.evaluation.nc as nc\n",
    "\n",
    "os.umask(0o007) # correctly sets the umask to force proper file permissions\n",
    "\n",
    "# sets the tracking uri from where the mlflow run will be read from\n",
    "mlflow.set_tracking_uri(\"/data/nature_run/hympi-ml-retrieval/mlruns\")\n",
    "\n",
    "# generates the netcdf automatically with the given run_id (note that this run_id is specific to the tracking_uri data)\n",
    "nc.generate_netcdf_from_run(run_id=\"4bca9855f7674f299e54f6bf4169b6fb\", day=\"20060803\")"
   ]
  }
 ],
 "metadata": {
  "kernelspec": {
   "display_name": ".venv",
   "language": "python",
   "name": "python3"
  },
  "language_info": {
   "codemirror_mode": {
    "name": "ipython",
    "version": 3
   },
   "file_extension": ".py",
   "mimetype": "text/x-python",
   "name": "python",
   "nbconvert_exporter": "python",
   "pygments_lexer": "ipython3",
   "version": "3.10.16"
  }
 },
 "nbformat": 4,
 "nbformat_minor": 2
}
