{
 "cells": [
  {
   "cell_type": "markdown",
   "metadata": {},
   "source": [
    "### NetCDF Generation\n",
    "This notebook generates a netcdf file given a model run_id.\n",
    "\n",
    "Note that the tracking_uri for mlflow is set beforehand!\n",
    "In order to properly read the run_id provided and correctly link to the right run, we must set the tracking_uri.\n",
    "\n",
    "The example below is using the run id of \"1de362678f164f3f98feaa471a8e161c\" which is a HSEL+CPL+SURFACE_PRESSURE run to predict a temperature profile."
   ]
  },
  {
   "cell_type": "code",
   "execution_count": null,
   "metadata": {},
   "outputs": [],
   "source": [
    "import os\n",
    "\n",
    "import mlflow\n",
    "import hympi_ml.evaluation.nc as nc\n",
    "\n",
    "os.umask(0o007) # correctly sets the umask to force proper file permissions\n",
    "\n",
    "# sets the tracking uri from where the mlflow run will be read from\n",
    "mlflow.set_tracking_uri(\"/data/nature_run/hympi-ml-retrieval/mlruns\")\n",
    "\n",
    "# generates the netcdf automatically with the given run_id (note that this run_id is specific to the tracking_uri data)\n",
    "nc.generate_netcdf_from_run(run_id=\"cccea2c9cf5f4595b329386d0a82eed1\", day=\"20060803\")"
   ]
  }
 ],
 "metadata": {
  "kernelspec": {
   "display_name": ".venv",
   "language": "python",
   "name": "python3"
  },
  "language_info": {
   "codemirror_mode": {
    "name": "ipython",
    "version": 3
   },
   "file_extension": ".py",
   "mimetype": "text/x-python",
   "name": "python",
   "nbconvert_exporter": "python",
   "pygments_lexer": "ipython3",
   "version": "3.10.5"
  }
 },
 "nbformat": 4,
 "nbformat_minor": 2
}
