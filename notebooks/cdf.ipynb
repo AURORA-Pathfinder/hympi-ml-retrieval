{
 "cells": [
  {
   "cell_type": "code",
   "execution_count": 2,
   "metadata": {},
   "outputs": [
    {
     "name": "stdout",
     "output_type": "stream",
     "text": [
      "1039/1039 [==============================] - 9s 8ms/step\n"
     ]
    }
   ],
   "source": [
    "import sys\n",
    "sys.path.insert(0, \"..\")\n",
    "\n",
    "import os\n",
    "\n",
    "from utils import mlflow_logging\n",
    "import data.fulldays as fd\n",
    "import evaluation.cdf as cdf\n",
    "\n",
    "os.umask(0o007)\n",
    "\n",
    "run_id = \"fc2155057e76453b80813df14235ab32\"\n",
    "\n",
    "loaded_model = mlflow_logging.get_default_model(run_id)\n",
    "\n",
    "datasets = fd.get_datasets_from_run(run_id)\n",
    "test = datasets[\"test\"]\n",
    "validation = datasets[\"validation\"]\n",
    "train = datasets[\"train\"]\n",
    "\n",
    "cdf.generate_netcdf(\n",
    "    day=\"20060615\",\n",
    "    model=loaded_model,\n",
    "    train=train,\n",
    "    test=test,\n",
    "    validation=validation,\n",
    "    cloud_fraction=0.1,\n",
    "    name_prefix=f\"{run_id}\"\n",
    ")"
   ]
  }
 ],
 "metadata": {
  "kernelspec": {
   "display_name": ".venv",
   "language": "python",
   "name": "python3"
  },
  "language_info": {
   "codemirror_mode": {
    "name": "ipython",
    "version": 3
   },
   "file_extension": ".py",
   "mimetype": "text/x-python",
   "name": "python",
   "nbconvert_exporter": "python",
   "pygments_lexer": "ipython3",
   "version": "3.10.5"
  }
 },
 "nbformat": 4,
 "nbformat_minor": 2
}
