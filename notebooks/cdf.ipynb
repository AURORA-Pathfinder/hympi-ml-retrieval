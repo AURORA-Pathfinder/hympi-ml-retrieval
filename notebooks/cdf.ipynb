{
 "cells": [
  {
   "cell_type": "markdown",
   "metadata": {},
   "source": [
    "### NetCDF Generation\n",
    "This notebook generates a netcdf file given a model run_id.\n",
    "\n",
    "Note that the tracking_uri for mlflow is set beforehand!\n",
    "In order to properly read the run_id provided and correctly link to the right run, we must set the tracking_uri.\n",
    "\n",
    "The example below is using the run id of \"1de362678f164f3f98feaa471a8e161c\" which is a HSEL+CPL+SURFACE_PRESSURE run to predict a temperature profile."
   ]
  },
  {
   "cell_type": "code",
   "execution_count": 1,
   "metadata": {},
   "outputs": [
    {
     "name": "stderr",
     "output_type": "stream",
     "text": [
      "2024-10-04 10:23:19.463738: I tensorflow/core/platform/cpu_feature_guard.cc:193] This TensorFlow binary is optimized with oneAPI Deep Neural Network Library (oneDNN) to use the following CPU instructions in performance-critical operations:  AVX2 AVX512F AVX512_VNNI FMA\n",
      "To enable them in other operations, rebuild TensorFlow with the appropriate compiler flags.\n",
      "2024-10-04 10:23:19.596924: I tensorflow/core/util/port.cc:104] oneDNN custom operations are on. You may see slightly different numerical results due to floating-point round-off errors from different computation orders. To turn them off, set the environment variable `TF_ENABLE_ONEDNN_OPTS=0`.\n",
      "2024-10-04 10:23:20.734016: W tensorflow/compiler/xla/stream_executor/platform/default/dso_loader.cc:64] Could not load dynamic library 'libnvinfer.so.7'; dlerror: libnvinfer.so.7: cannot open shared object file: No such file or directory\n",
      "2024-10-04 10:23:20.734604: W tensorflow/compiler/xla/stream_executor/platform/default/dso_loader.cc:64] Could not load dynamic library 'libnvinfer_plugin.so.7'; dlerror: libnvinfer_plugin.so.7: cannot open shared object file: No such file or directory\n",
      "2024-10-04 10:23:20.734673: W tensorflow/compiler/tf2tensorrt/utils/py_utils.cc:38] TF-TRT Warning: Cannot dlopen some TensorRT libraries. If you would like to use Nvidia GPU with TensorRT, please make sure the missing libraries mentioned above are installed properly.\n",
      "2024-10-04 10:23:24.243063: I tensorflow/core/common_runtime/gpu/gpu_process_state.cc:222] Using CUDA malloc Async allocator for GPU: 0\n",
      "2024-10-04 10:23:24.244054: I tensorflow/core/common_runtime/gpu/gpu_device.cc:1613] Created device /job:localhost/replica:0/task:0/device:GPU:0 with 30967 MB memory:  -> device: 0, name: Tesla V100-SXM2-32GB, pci bus id: 0000:89:00.0, compute capability: 7.0\n"
     ]
    },
    {
     "ename": "UnboundLocalError",
     "evalue": "local variable 'validation' referenced before assignment",
     "output_type": "error",
     "traceback": [
      "\u001b[0;31m---------------------------------------------------------------------------\u001b[0m",
      "\u001b[0;31mUnboundLocalError\u001b[0m                         Traceback (most recent call last)",
      "Cell \u001b[0;32mIn[1], line 12\u001b[0m\n\u001b[1;32m      9\u001b[0m mlflow\u001b[38;5;241m.\u001b[39mset_tracking_uri(\u001b[38;5;124m\"\u001b[39m\u001b[38;5;124m/data/nature_run/hympi-ml-retrieval/mlruns\u001b[39m\u001b[38;5;124m\"\u001b[39m)\n\u001b[1;32m     11\u001b[0m \u001b[38;5;66;03m# generates the netcdf automatically with the given run_id (note that this run_id is specific to the tracking_uri data)\u001b[39;00m\n\u001b[0;32m---> 12\u001b[0m \u001b[43mnc\u001b[49m\u001b[38;5;241;43m.\u001b[39;49m\u001b[43mgenerate_netcdf_from_run\u001b[49m\u001b[43m(\u001b[49m\u001b[43mrun_id\u001b[49m\u001b[38;5;241;43m=\u001b[39;49m\u001b[38;5;124;43m\"\u001b[39;49m\u001b[38;5;124;43mcccea2c9cf5f4595b329386d0a82eed1\u001b[39;49m\u001b[38;5;124;43m\"\u001b[39;49m\u001b[43m,\u001b[49m\u001b[43m \u001b[49m\u001b[43mday\u001b[49m\u001b[38;5;241;43m=\u001b[39;49m\u001b[38;5;124;43m\"\u001b[39;49m\u001b[38;5;124;43m20060803\u001b[39;49m\u001b[38;5;124;43m\"\u001b[39;49m\u001b[43m)\u001b[49m\n",
      "File \u001b[0;32m/data/nature_run/work/dave/hympi-ml-retrieval/hympi_ml/evaluation/nc.py:109\u001b[0m, in \u001b[0;36mgenerate_netcdf_from_run\u001b[0;34m(run_id, day, cloud_fraction)\u001b[0m\n\u001b[1;32m    100\u001b[0m     validation \u001b[38;5;241m=\u001b[39m datasets[\u001b[38;5;124m\"\u001b[39m\u001b[38;5;124mvalidation\u001b[39m\u001b[38;5;124m\"\u001b[39m]\n\u001b[1;32m    102\u001b[0m train \u001b[38;5;241m=\u001b[39m datasets[\u001b[38;5;124m\"\u001b[39m\u001b[38;5;124mtrain\u001b[39m\u001b[38;5;124m\"\u001b[39m]\n\u001b[1;32m    104\u001b[0m generate_netcdf(\n\u001b[1;32m    105\u001b[0m     day\u001b[38;5;241m=\u001b[39mday,\n\u001b[1;32m    106\u001b[0m     model\u001b[38;5;241m=\u001b[39mloaded_model,\n\u001b[1;32m    107\u001b[0m     train\u001b[38;5;241m=\u001b[39mtrain,\n\u001b[1;32m    108\u001b[0m     test\u001b[38;5;241m=\u001b[39mtest,\n\u001b[0;32m--> 109\u001b[0m     validation\u001b[38;5;241m=\u001b[39m\u001b[43mvalidation\u001b[49m,\n\u001b[1;32m    110\u001b[0m     cloud_fraction\u001b[38;5;241m=\u001b[39mcloud_fraction,\n\u001b[1;32m    111\u001b[0m     name_prefix\u001b[38;5;241m=\u001b[39m\u001b[38;5;124mf\u001b[39m\u001b[38;5;124m\"\u001b[39m\u001b[38;5;132;01m{\u001b[39;00mrun_id\u001b[38;5;132;01m}\u001b[39;00m\u001b[38;5;124m\"\u001b[39m,\n\u001b[1;32m    112\u001b[0m )\n",
      "\u001b[0;31mUnboundLocalError\u001b[0m: local variable 'validation' referenced before assignment"
     ]
    }
   ],
   "source": [
    "import os\n",
    "\n",
    "import mlflow\n",
    "import hympi_ml.evaluation.nc as nc\n",
    "\n",
    "os.umask(0o007) # correctly sets the umask to force proper file permissions\n",
    "\n",
    "# sets the tracking uri from where the mlflow run will be read from\n",
    "mlflow.set_tracking_uri(\"/data/nature_run/hympi-ml-retrieval/mlruns\")\n",
    "\n",
    "# generates the netcdf automatically with the given run_id (note that this run_id is specific to the tracking_uri data)\n",
    "nc.generate_netcdf_from_run(run_id=\"cccea2c9cf5f4595b329386d0a82eed1\", day=\"20060803\")"
   ]
  }
 ],
 "metadata": {
  "kernelspec": {
   "display_name": ".venv",
   "language": "python",
   "name": "python3"
  },
  "language_info": {
   "codemirror_mode": {
    "name": "ipython",
    "version": 3
   },
   "file_extension": ".py",
   "mimetype": "text/x-python",
   "name": "python",
   "nbconvert_exporter": "python",
   "pygments_lexer": "ipython3",
   "version": "3.10.5"
  }
 },
 "nbformat": 4,
 "nbformat_minor": 2
}
