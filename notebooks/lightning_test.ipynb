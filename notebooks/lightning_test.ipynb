{
 "cells": [
  {
   "cell_type": "code",
   "execution_count": 33,
   "id": "9c71556f",
   "metadata": {},
   "outputs": [
    {
     "data": {
      "text/plain": [
       "torch.Size([1024, 6140])"
      ]
     },
     "execution_count": 33,
     "metadata": {},
     "output_type": "execute_result"
    }
   ],
   "source": [
    "import torch\n",
    "\n",
    "from hympi_ml.data import DataSpec, AMPRSpec, NRSpec, ATMSSpec, cosmirh, CosmirhSpec\n",
    "from hympi_ml.data.ch06 import Ch06Source\n",
    "from hympi_ml.data.model_dataset import ModelDataset\n",
    "\n",
    "features = {\n",
    "    \"CH\": CosmirhSpec(\n",
    "        frequencies=[\n",
    "            cosmirh.C50_BAND,\n",
    "            cosmirh.C183_BAND,\n",
    "        ],\n",
    "        ignore_frequencies=[  # problematic CRTM frequencies\n",
    "            56.96674375,\n",
    "            57.60736875,\n",
    "            57.611275,\n",
    "            57.61518125,\n",
    "        ],\n",
    "    ),\n",
    "}\n",
    "\n",
    "\n",
    "# len(cosmirh.C50_BAND.intersection(cosmirh.C50_BAND))\n",
    "# len(cosmirh.C183_BAND.intersection(cosmirh.C183_BAND))\n",
    "\n",
    "targets = {\n",
    "    \"TEMPERATURE\": NRSpec(\n",
    "        dataset=\"TEMPERATURE\",\n",
    "        scale_range=(175.0, 325.0),\n",
    "    ),\n",
    "}\n",
    "\n",
    "source = Ch06Source(days=[\"20060115\"])\n",
    "\n",
    "dataset = ModelDataset(source, features, targets, 1024)\n",
    "\n",
    "features['CH'].apply_batch(dataset[0][0][\"CH\"]).shape"
   ]
  }
 ],
 "metadata": {
  "kernelspec": {
   "display_name": "hympi-ml-retrieval",
   "language": "python",
   "name": "python3"
  },
  "language_info": {
   "codemirror_mode": {
    "name": "ipython",
    "version": 3
   },
   "file_extension": ".py",
   "mimetype": "text/x-python",
   "name": "python",
   "nbconvert_exporter": "python",
   "pygments_lexer": "ipython3",
   "version": "3.12.9"
  }
 },
 "nbformat": 4,
 "nbformat_minor": 5
}
