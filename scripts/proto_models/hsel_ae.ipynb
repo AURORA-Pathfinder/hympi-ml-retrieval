{
 "cells": [
  {
   "cell_type": "code",
   "execution_count": 1,
   "id": "008ce633-8ecc-4d52-a254-a0784d743198",
   "metadata": {},
   "outputs": [
    {
     "name": "stderr",
     "output_type": "stream",
     "text": [
      "2024-08-06 08:51:49.445600: I tensorflow/core/platform/cpu_feature_guard.cc:193] This TensorFlow binary is optimized with oneAPI Deep Neural Network Library (oneDNN) to use the following CPU instructions in performance-critical operations:  SSE4.1 SSE4.2 AVX AVX2 AVX512F AVX512_VNNI FMA\n",
      "To enable them in other operations, rebuild TensorFlow with the appropriate compiler flags.\n",
      "2024-08-06 08:51:49.551559: I tensorflow/core/util/util.cc:169] oneDNN custom operations are on. You may see slightly different numerical results due to floating-point round-off errors from different computation orders. To turn them off, set the environment variable `TF_ENABLE_ONEDNN_OPTS=0`.\n"
     ]
    }
   ],
   "source": [
    "import os\n",
    "from os.path import isfile\n",
    "import sys\n",
    "import glob\n",
    "\n",
    "os.environ[\"CUDA_VISIBLE_DEVICES\"]=\"0\"\n",
    "#os.environ[\"TF_FORCE_GPU_ALLOW_GROWTH\"]=\"true\"\n",
    "os.environ[\"TF_GPU_ALLOCATOR\"]=\"cuda_malloc_async\"\n",
    "\n",
    "import numpy as np\n",
    "import matplotlib.pyplot as plt\n",
    "\n",
    "import tensorflow as tf\n",
    "from tensorflow.keras.models import Model\n",
    "from tensorflow.keras.layers import Input, Dense, Concatenate, Dropout\n",
    "from tensorflow.keras.optimizers import Adam\n",
    "from tensorflow.keras.regularizers import L1, L2\n",
    "from tensorflow.keras.callbacks import EarlyStopping, ModelCheckpoint\n",
    "from sklearn.preprocessing import MinMaxScaler\n",
    "\n",
    "import mlflow\n",
    "import mlflow.tensorflow"
   ]
  },
  {
   "cell_type": "code",
   "execution_count": 2,
   "id": "7e4f3b34-86ce-494f-9840-bb2131d1e922",
   "metadata": {},
   "outputs": [
    {
     "name": "stdout",
     "output_type": "stream",
     "text": [
      "2229518.503874515\n"
     ]
    }
   ],
   "source": [
    "from time import perf_counter\n",
    "print(perf_counter())"
   ]
  },
  {
   "cell_type": "code",
   "execution_count": 3,
   "id": "7eebd5ff-8676-4dcd-a119-bacbf1b73cfd",
   "metadata": {},
   "outputs": [],
   "source": [
    "from tqdm import tqdm"
   ]
  },
  {
   "cell_type": "code",
   "execution_count": null,
   "id": "ea3ea1be-bfd5-4112-989a-8d9bd16bcb1f",
   "metadata": {},
   "outputs": [],
   "source": [
    "mlflow.tensorflow.autolog()\n",
    "mlflow.set_experiment(\"HSEL AE\")"
   ]
  },
  {
   "cell_type": "code",
   "execution_count": null,
   "id": "7cbcb607-662b-47f4-b6a7-72761b09e04a",
   "metadata": {},
   "outputs": [],
   "source": [
    "#train = ['/data/nature_run/fulldays_reduced/all_20060803.npz', '/data/nature_run/fulldays_reduced/all_20060815.npz', '/data/nature_run/fulldays_reduced/all_20060915.npz']\n",
    "#test = ['/data/nature_run/fulldays_reduced/all_20060315.npz', '/data/nature_run/fulldays_reduced/all_20060515.npz', '/data/nature_run/fulldays_reduced/all_20060615.npz', '/data/nature_run/fulldays_reduced/all_20060715.npz', '/data/nature_run/fulldays_reduced/all_20061015.npz', '/data/nature_run/fulldays_reduced/all_20061115.npz', '/data/nature_run/fulldays_reduced/all_20061215.npz']\n",
    "\n",
    "#print(len(train), len(test), len(train)+ len(test)) \n"
   ]
  },
  {
   "cell_type": "code",
   "execution_count": 4,
   "id": "68c6bafc-be5f-4bcb-9bd9-16ea3147f262",
   "metadata": {},
   "outputs": [
    {
     "name": "stdout",
     "output_type": "stream",
     "text": [
      "['/data/nature_run/fulldays_reduced_evenmore/all_20060915.npz', '/data/nature_run/fulldays_reduced_evenmore/all_20060815.npz', '/data/nature_run/fulldays_reduced_evenmore/all_20060615.npz', '/data/nature_run/fulldays_reduced_evenmore/all_20061015.npz', '/data/nature_run/fulldays_reduced_evenmore/all_20060515.npz', '/data/nature_run/fulldays_reduced_evenmore/all_20060715.npz', '/data/nature_run/fulldays_reduced_evenmore/all_20060803.npz', '/data/nature_run/fulldays_reduced_evenmore/all_20061115.npz', '/data/nature_run/fulldays_reduced_evenmore/all_20060315.npz', '/data/nature_run/fulldays_reduced_evenmore/all_20061215.npz']\n"
     ]
    }
   ],
   "source": [
    "files = glob.glob(\"/data/nature_run/fulldays_reduced_evenmore/*.npz\")\n",
    "print(files)"
   ]
  },
  {
   "cell_type": "code",
   "execution_count": null,
   "id": "a03f547c-cda0-44d8-9180-7e506abdbfe6",
   "metadata": {},
   "outputs": [],
   "source": []
  },
  {
   "cell_type": "code",
   "execution_count": null,
   "id": "eb51cdc4-93f6-4edc-abe6-fcaf68a368a5",
   "metadata": {},
   "outputs": [],
   "source": [
    "train1 = '/data/nature_run/fulldays_reduced_evenmore/all_20060815.npz'\n",
    "train2 = '/data/nature_run/fulldays_reduced_evenmore/all_20060803.npz'\n",
    "train3 = '/data/nature_run/fulldays_reduced_evenmore/all_20060915.npz'\n",
    "train = [train1, train2, train3]\n",
    "\n",
    "data = []\n",
    "for i in train:\n",
    "    tmp = np.load(i)\n",
    "    print(list(tmp.keys()))\n"
   ]
  },
  {
   "cell_type": "code",
   "execution_count": null,
   "id": "9d202699-42e4-4069-8c65-e9daf67b1895",
   "metadata": {},
   "outputs": [],
   "source": [
    "\n",
    "test = ['/data/nature_run/fulldays_reduced_evenmore/all_20060615.npz', '/data/nature_run/fulldays_reduced_evenmore/all_20061015.npz', '/data/nature_run/fulldays_reduced_evenmore/all_20060515.npz', '/data/nature_run/fulldays_reduced_evenmore/all_20060715.npz', '/data/nature_run/fulldays_reduced_evenmore/all_20061115.npz', '/data/nature_run/fulldays_reduced_evenmore/all_20060315.npz', '/data/nature_run/fulldays_reduced_evenmore/all_20061215.npz']\n"
   ]
  },
  {
   "cell_type": "code",
   "execution_count": 5,
   "id": "21f1a751-2573-4807-9c04-bbf53e056d00",
   "metadata": {},
   "outputs": [
    {
     "name": "stderr",
     "output_type": "stream",
     "text": [
      "100%|████████████████████████████████████████████████████████████████████████████████████████| 10/10 [02:48<00:00, 16.89s/it]\n"
     ]
    },
    {
     "name": "stdout",
     "output_type": "stream",
     "text": [
      "(9712457, 1957)\n",
      "333.7047240990214\n"
     ]
    }
   ],
   "source": [
    "start = perf_counter()\n",
    "\n",
    "hsel_train = []\n",
    "for i in tqdm(files):\n",
    "    tmp = np.load(i)\n",
    "    hsel_train.append(tmp[\"hsel\"])\n",
    "\n",
    "hsel_train = np.vstack(hsel_train)\n",
    "\n",
    "end = perf_counter()\n",
    "\n",
    "print(hsel_train.shape)\n",
    "print(end-start)"
   ]
  },
  {
   "cell_type": "code",
   "execution_count": 6,
   "id": "2df079aa-9d18-4f7e-a095-b99745e6a315",
   "metadata": {},
   "outputs": [],
   "source": [
    "mins = np.min(hsel_train, axis=0)\n",
    "maxs = np.max(hsel_train, axis=0)\n",
    "np.savez(\"minimac_scaling_factors_hsel.npz\", mins=mins, maxs=maxs)"
   ]
  },
  {
   "cell_type": "code",
   "execution_count": 39,
   "id": "aa5e6822-d562-41ee-9f91-c966f0fbabe3",
   "metadata": {},
   "outputs": [
    {
     "name": "stdout",
     "output_type": "stream",
     "text": [
      "(10, 10)\n"
     ]
    }
   ],
   "source": [
    "a = np.ones((10,10,6))\n",
    "print(np.average(a, axis=2).shape)"
   ]
  },
  {
   "cell_type": "code",
   "execution_count": null,
   "id": "42203811-fd58-4cc3-bb41-bccf7f8dd3af",
   "metadata": {},
   "outputs": [],
   "source": [
    "means = np.mean(hsel_train, axis=0)\n",
    "stds = np.std(hsel_train, axis=0)\n",
    "\n",
    "print(means.shape, stds.shape)"
   ]
  },
  {
   "cell_type": "code",
   "execution_count": null,
   "id": "b531380c-eabf-4246-a9e8-0e659d3b9b99",
   "metadata": {},
   "outputs": [],
   "source": [
    "print(np.min(means), np.max(means), np.average(means))\n",
    "print(np.min(stds), np.max(stds), np.average(stds))"
   ]
  },
  {
   "cell_type": "code",
   "execution_count": null,
   "id": "72629248-c7d1-46bf-a81f-af654573e377",
   "metadata": {},
   "outputs": [],
   "source": [
    "# Save out scaling factors\n",
    "np.savez(\"scaling_factors_hsel.npz\", means=means, stds=stds)"
   ]
  },
  {
   "cell_type": "code",
   "execution_count": 7,
   "id": "93accb44-5ff2-46a6-85f6-5c8411df2c43",
   "metadata": {},
   "outputs": [],
   "source": [
    "hsel_train = (hsel_train - mins)/(maxs - mins)\n",
    "np.save(\"hsel_scaled_minimax.npy\", hsel_train)"
   ]
  },
  {
   "cell_type": "code",
   "execution_count": null,
   "id": "4cf83326-f7f4-4352-9283-71e572d31607",
   "metadata": {},
   "outputs": [],
   "source": [
    "hsel_train = (hsel_train-means)/stds"
   ]
  },
  {
   "cell_type": "code",
   "execution_count": null,
   "id": "bc0c365f-6545-4954-b963-a97153deb772",
   "metadata": {},
   "outputs": [],
   "source": [
    "np.save(\"hsel_scaled.npy\", hsel_train)"
   ]
  },
  {
   "cell_type": "code",
   "execution_count": 3,
   "id": "6a85d89b-7dc5-4d55-8bab-570f91827a8a",
   "metadata": {},
   "outputs": [
    {
     "name": "stdout",
     "output_type": "stream",
     "text": [
      "(9712457, 1957)\n"
     ]
    }
   ],
   "source": [
    "hsel_train = np.load(\"hsel_scaled.npy\")\n",
    "print(hsel_train.shape)"
   ]
  },
  {
   "cell_type": "code",
   "execution_count": 4,
   "id": "1c06f434-eabb-4cbe-9111-4b95c398cec0",
   "metadata": {},
   "outputs": [
    {
     "name": "stderr",
     "output_type": "stream",
     "text": [
      "2024-08-05 12:52:17.345791: I tensorflow/core/platform/cpu_feature_guard.cc:193] This TensorFlow binary is optimized with oneAPI Deep Neural Network Library (oneDNN) to use the following CPU instructions in performance-critical operations:  SSE4.1 SSE4.2 AVX AVX2 AVX512F AVX512_VNNI FMA\n",
      "To enable them in other operations, rebuild TensorFlow with the appropriate compiler flags.\n",
      "2024-08-05 12:52:17.863947: I tensorflow/core/common_runtime/gpu/gpu_process_state.cc:222] Using CUDA malloc Async allocator for GPU: 0\n",
      "2024-08-05 12:52:17.864927: I tensorflow/core/common_runtime/gpu/gpu_device.cc:1616] Created device /job:localhost/replica:0/task:0/device:GPU:0 with 31017 MB memory:  -> device: 0, name: Tesla V100-SXM2-32GB, pci bus id: 0000:1a:00.0, compute capability: 7.0\n"
     ]
    },
    {
     "name": "stdout",
     "output_type": "stream",
     "text": [
      "<class 'tensorflow.python.framework.ops.EagerTensor'>\n"
     ]
    }
   ],
   "source": [
    "# with tf.device('/cpu:0'):\n",
    "#     x = tf.convert_to_tensor(hsel_train, np.float32)\n",
    "# print(type(x))"
   ]
  },
  {
   "cell_type": "code",
   "execution_count": null,
   "id": "6fb9fb2a-868d-4211-9a08-cf6369271ae5",
   "metadata": {},
   "outputs": [],
   "source": [
    "with tf.device('/cpu:0'):\n",
    "    x = tf.convert_to_tensor(x, np.float32)"
   ]
  },
  {
   "cell_type": "code",
   "execution_count": 8,
   "id": "45e4040c-be96-47ff-acbe-ce47bb826ddf",
   "metadata": {},
   "outputs": [
    {
     "name": "stderr",
     "output_type": "stream",
     "text": [
      "2024-08-06 09:18:25.254911: I tensorflow/core/platform/cpu_feature_guard.cc:193] This TensorFlow binary is optimized with oneAPI Deep Neural Network Library (oneDNN) to use the following CPU instructions in performance-critical operations:  SSE4.1 SSE4.2 AVX AVX2 AVX512F AVX512_VNNI FMA\n",
      "To enable them in other operations, rebuild TensorFlow with the appropriate compiler flags.\n",
      "2024-08-06 09:18:25.827182: I tensorflow/core/common_runtime/gpu/gpu_process_state.cc:222] Using CUDA malloc Async allocator for GPU: 0\n",
      "2024-08-06 09:18:25.828202: I tensorflow/core/common_runtime/gpu/gpu_device.cc:1616] Created device /job:localhost/replica:0/task:0/device:GPU:0 with 31017 MB memory:  -> device: 0, name: Tesla V100-SXM2-32GB, pci bus id: 0000:1a:00.0, compute capability: 7.0\n"
     ]
    },
    {
     "name": "stdout",
     "output_type": "stream",
     "text": [
      "<class 'tensorflow.python.framework.ops.EagerTensor'>\n"
     ]
    }
   ],
   "source": [
    "\n",
    "with tf.device('/cpu:0'):\n",
    "    #hsel_train = np.load(\"hsel_scaled.npy\")\n",
    "    x = tf.convert_to_tensor(hsel_train, np.float32)\n",
    "print(type(x))\n"
   ]
  },
  {
   "cell_type": "code",
   "execution_count": null,
   "id": "2162fe1a-f5d3-4b53-9ddc-056982133846",
   "metadata": {},
   "outputs": [],
   "source": [
    "# hsel_test = []\n",
    "# scalar_test = []\n",
    "# table_test = []\n",
    "\n",
    "# for i in test:\n",
    "#     tmp = np.load(i)\n",
    "#     hsel_test.append(tmp[\"hsel\"])\n",
    "#     scalar_test.append(tmp[\"scalar\"])\n",
    "#     table_test.append(tmp[\"table\"])\n",
    "\n",
    "# hsel_test = np.vstack(hsel_test)\n",
    "# scalar_test = np.vstack(scalar_test)\n",
    "# table_test = np.vstack(table_test)\n",
    "\n",
    "# print(hsel_test.shape, scalar_test.shape, table_test.shape)"
   ]
  },
  {
   "cell_type": "code",
   "execution_count": 9,
   "id": "137680e3-1dc6-4550-8561-a37c87676066",
   "metadata": {},
   "outputs": [],
   "source": [
    "\n",
    "def build_autoencoder(input_dim, latent_dim):\n",
    "    # Encoder\n",
    "    input_layer = Input(shape=(input_dim,))\n",
    "    act = 'relu'\n",
    "    #act = 'gelu'\n",
    "    #act = \"sigmoid\"\n",
    "    \n",
    "    encoder = Dense(128, activation=act)(input_layer)\n",
    "    encoder = Dense(100, activation=act)(encoder)\n",
    "    encoder = Dense(72, activation=act)(encoder)\n",
    "    \n",
    "    latent_space = Dense(latent_dim, activation=\"linear\")(encoder)\n",
    "\n",
    "    decoder = Dense(72, activation=act)(latent_space)\n",
    "    decoder = Dense(100, activation=act)(decoder)\n",
    "    decoder = Dense(128, activation=act)(decoder)\n",
    "    output_layer = Dense(input_dim, activation='linear')(decoder)\n",
    "\n",
    "    # Autoencoder model\n",
    "    autoencoder = Model(inputs=input_layer, outputs=output_layer)\n",
    "    encoder_model = Model(inputs=input_layer, outputs=latent_space)\n",
    "\n",
    "    autoencoder.compile(optimizer='adam', loss='mse')\n",
    "    \n",
    "    \n",
    "    return autoencoder, encoder_model\n"
   ]
  },
  {
   "cell_type": "code",
   "execution_count": 10,
   "id": "40d46f8f-25f4-4626-8855-350d4aea9071",
   "metadata": {},
   "outputs": [
    {
     "name": "stdout",
     "output_type": "stream",
     "text": [
      "Model: \"model\"\n",
      "_________________________________________________________________\n",
      " Layer (type)                Output Shape              Param #   \n",
      "=================================================================\n",
      " input_1 (InputLayer)        [(None, 1957)]            0         \n",
      "                                                                 \n",
      " dense (Dense)               (None, 128)               250624    \n",
      "                                                                 \n",
      " dense_1 (Dense)             (None, 100)               12900     \n",
      "                                                                 \n",
      " dense_2 (Dense)             (None, 72)                7272      \n",
      "                                                                 \n",
      " dense_3 (Dense)             (None, 64)                4672      \n",
      "                                                                 \n",
      " dense_4 (Dense)             (None, 72)                4680      \n",
      "                                                                 \n",
      " dense_5 (Dense)             (None, 100)               7300      \n",
      "                                                                 \n",
      " dense_6 (Dense)             (None, 128)               12928     \n",
      "                                                                 \n",
      " dense_7 (Dense)             (None, 1957)              252453    \n",
      "                                                                 \n",
      "=================================================================\n",
      "Total params: 552,829\n",
      "Trainable params: 552,829\n",
      "Non-trainable params: 0\n",
      "_________________________________________________________________\n"
     ]
    }
   ],
   "source": [
    "input_dim = 1957 \n",
    "latent_dim = 64  \n",
    "autoencoder, encoder_model = build_autoencoder(input_dim, latent_dim)\n",
    "autoencoder.summary()"
   ]
  },
  {
   "cell_type": "code",
   "execution_count": 12,
   "id": "e4756c83-1f5b-4145-9f26-f6749e2c408a",
   "metadata": {},
   "outputs": [],
   "source": [
    "es = EarlyStopping(monitor='loss', patience=6, verbose=1)\n",
    "mc = ModelCheckpoint(filepath=\"hsel_ae_eval_minimax.keras\", verbose=1, monitor='loss', mode='min', save_best_only=True)\n",
    "\n"
   ]
  },
  {
   "cell_type": "code",
   "execution_count": 14,
   "id": "9a9f498d-3218-4058-804c-601d4d2d8541",
   "metadata": {},
   "outputs": [
    {
     "name": "stdout",
     "output_type": "stream",
     "text": [
      "tf.Tensor(\n",
      "[[-3.1881974 -3.198745  -3.208634  ... -3.477102  -3.541099  -2.4749622]\n",
      " [-2.7842808 -2.793198  -2.8016233 ... -2.8952053 -2.9283347 -2.1777518]\n",
      " [-2.783676  -2.7922685 -2.8003926 ... -2.9168217 -2.943195  -2.2033303]\n",
      " ...\n",
      " [-2.3887157 -2.3931587 -2.397469  ... -2.288444  -2.2801242 -1.9656309]\n",
      " [-2.406954  -2.411262  -2.415443  ... -2.3914337 -2.379833  -1.995817 ]\n",
      " [-2.4169106 -2.4214873 -2.425916  ... -2.3657892 -2.3588033 -1.9837167]], shape=(9712457, 1957), dtype=float32)\n"
     ]
    }
   ],
   "source": [
    "print(x)"
   ]
  },
  {
   "cell_type": "code",
   "execution_count": 13,
   "id": "62d137ae-4c46-49aa-b1cf-e6540e1863e1",
   "metadata": {},
   "outputs": [
    {
     "name": "stdout",
     "output_type": "stream",
     "text": [
      "Epoch 1/1000\n",
      "9484/9485 [============================>.] - ETA: 0s - loss: 4.6533e-04\n",
      "Epoch 1: loss improved from inf to 0.00047, saving model to hsel_ae_eval_minimax.keras\n",
      "9485/9485 [==============================] - 101s 10ms/step - loss: 4.6529e-04\n",
      "Epoch 2/1000\n",
      "5768/9485 [=================>............] - ETA: 41s - loss: 4.6314e-05"
     ]
    },
    {
     "name": "stderr",
     "output_type": "stream",
     "text": [
      "IOPub message rate exceeded.\n",
      "The Jupyter server will temporarily stop sending output\n",
      "to the client in order to avoid crashing it.\n",
      "To change this limit, set the config variable\n",
      "`--ServerApp.iopub_msg_rate_limit`.\n",
      "\n",
      "Current values:\n",
      "ServerApp.iopub_msg_rate_limit=1000.0 (msgs/sec)\n",
      "ServerApp.rate_limit_window=3.0 (secs)\n",
      "\n"
     ]
    },
    {
     "name": "stdout",
     "output_type": "stream",
     "text": [
      "9485/9485 [==============================] - ETA: 0s - loss: 6.4581e-06\n",
      "Epoch 17: loss improved from 0.00001 to 0.00001, saving model to hsel_ae_eval_minimax.keras\n",
      "9485/9485 [==============================] - 97s 10ms/step - loss: 6.4581e-06\n",
      "Epoch 18/1000\n",
      "9484/9485 [============================>.] - ETA: 0s - loss: 6.1372e-06\n",
      "Epoch 18: loss improved from 0.00001 to 0.00001, saving model to hsel_ae_eval_minimax.keras\n",
      "9485/9485 [==============================] - 99s 10ms/step - loss: 6.1370e-06\n",
      "Epoch 19/1000\n",
      "9483/9485 [============================>.] - ETA: 0s - loss: 6.0977e-06\n",
      "Epoch 19: loss improved from 0.00001 to 0.00001, saving model to hsel_ae_eval_minimax.keras\n",
      "9485/9485 [==============================] - 97s 10ms/step - loss: 6.1008e-06\n",
      "Epoch 20/1000\n",
      "9480/9485 [============================>.] - ETA: 0s - loss: 5.8259e-06\n",
      "Epoch 20: loss improved from 0.00001 to 0.00001, saving model to hsel_ae_eval_minimax.keras\n",
      "9485/9485 [==============================] - 96s 10ms/step - loss: 5.8240e-06\n",
      "Epoch 21/1000\n",
      "9482/9485 [============================>.] - ETA: 0s - loss: 5.3310e-06\n",
      "Epoch 21: loss improved from 0.00001 to 0.00001, saving model to hsel_ae_eval_minimax.keras\n",
      "9485/9485 [==============================] - 97s 10ms/step - loss: 5.3301e-06\n",
      "Epoch 22/1000\n",
      "9480/9485 [============================>.] - ETA: 0s - loss: 5.1845e-06\n",
      "Epoch 22: loss improved from 0.00001 to 0.00001, saving model to hsel_ae_eval_minimax.keras\n",
      "9485/9485 [==============================] - 93s 10ms/step - loss: 5.1856e-06\n",
      "Epoch 23/1000\n",
      "9481/9485 [============================>.] - ETA: 0s - loss: 4.9308e-06\n",
      "Epoch 23: loss improved from 0.00001 to 0.00000, saving model to hsel_ae_eval_minimax.keras\n",
      "9485/9485 [==============================] - 95s 10ms/step - loss: 4.9306e-06\n",
      "Epoch 24/1000\n",
      "9481/9485 [============================>.] - ETA: 0s - loss: 4.7693e-06\n",
      "Epoch 24: loss improved from 0.00000 to 0.00000, saving model to hsel_ae_eval_minimax.keras\n",
      "9485/9485 [==============================] - 98s 10ms/step - loss: 4.7683e-06\n",
      "Epoch 25/1000\n",
      "9485/9485 [==============================] - ETA: 0s - loss: 4.6255e-06\n",
      "Epoch 25: loss improved from 0.00000 to 0.00000, saving model to hsel_ae_eval_minimax.keras\n",
      "9485/9485 [==============================] - 97s 10ms/step - loss: 4.6255e-06\n",
      "Epoch 26/1000\n",
      "9482/9485 [============================>.] - ETA: 0s - loss: 4.4414e-06\n",
      "Epoch 26: loss improved from 0.00000 to 0.00000, saving model to hsel_ae_eval_minimax.keras\n",
      "9485/9485 [==============================] - 97s 10ms/step - loss: 4.4405e-06\n",
      "Epoch 27/1000\n",
      "9481/9485 [============================>.] - ETA: 0s - loss: 4.3663e-06\n",
      "Epoch 27: loss improved from 0.00000 to 0.00000, saving model to hsel_ae_eval_minimax.keras\n",
      "9485/9485 [==============================] - 98s 10ms/step - loss: 4.3651e-06\n",
      "Epoch 28/1000\n",
      "9483/9485 [============================>.] - ETA: 0s - loss: 4.1862e-06\n",
      "Epoch 28: loss improved from 0.00000 to 0.00000, saving model to hsel_ae_eval_minimax.keras\n",
      "9485/9485 [==============================] - 97s 10ms/step - loss: 4.1857e-06\n",
      "Epoch 29/1000\n",
      "9482/9485 [============================>.] - ETA: 0s - loss: 4.2170e-06\n",
      "Epoch 29: loss did not improve from 0.00000\n",
      "9485/9485 [==============================] - 96s 10ms/step - loss: 4.2178e-06\n",
      "Epoch 30/1000\n",
      "9485/9485 [==============================] - ETA: 0s - loss: 3.9469e-06\n",
      "Epoch 30: loss improved from 0.00000 to 0.00000, saving model to hsel_ae_eval_minimax.keras\n",
      "9485/9485 [==============================] - 96s 10ms/step - loss: 3.9469e-06\n",
      "Epoch 31/1000\n",
      "9482/9485 [============================>.] - ETA: 0s - loss: 3.8059e-06\n",
      "Epoch 31: loss improved from 0.00000 to 0.00000, saving model to hsel_ae_eval_minimax.keras\n",
      "9485/9485 [==============================] - 94s 10ms/step - loss: 3.8054e-06\n",
      "Epoch 32/1000\n",
      "9485/9485 [==============================] - ETA: 0s - loss: 3.7325e-06\n",
      "Epoch 32: loss improved from 0.00000 to 0.00000, saving model to hsel_ae_eval_minimax.keras\n",
      "9485/9485 [==============================] - 93s 10ms/step - loss: 3.7325e-06\n",
      "Epoch 33/1000\n",
      "9481/9485 [============================>.] - ETA: 0s - loss: 3.6364e-06\n",
      "Epoch 33: loss improved from 0.00000 to 0.00000, saving model to hsel_ae_eval_minimax.keras\n",
      "9485/9485 [==============================] - 97s 10ms/step - loss: 3.6352e-06\n",
      "Epoch 34/1000\n",
      "9484/9485 [============================>.] - ETA: 0s - loss: 3.5419e-06\n",
      "Epoch 34: loss improved from 0.00000 to 0.00000, saving model to hsel_ae_eval_minimax.keras\n",
      "9485/9485 [==============================] - 97s 10ms/step - loss: 3.5417e-06\n",
      "Epoch 35/1000\n",
      "9482/9485 [============================>.] - ETA: 0s - loss: 3.4715e-06\n",
      "Epoch 35: loss improved from 0.00000 to 0.00000, saving model to hsel_ae_eval_minimax.keras\n",
      "9485/9485 [==============================] - 98s 10ms/step - loss: 3.4724e-06\n",
      "Epoch 36/1000\n",
      "9481/9485 [============================>.] - ETA: 0s - loss: 3.4118e-06\n",
      "Epoch 36: loss improved from 0.00000 to 0.00000, saving model to hsel_ae_eval_minimax.keras\n",
      "9485/9485 [==============================] - 98s 10ms/step - loss: 3.4120e-06\n",
      "Epoch 37/1000\n",
      "9480/9485 [============================>.] - ETA: 0s - loss: 3.3455e-06\n",
      "Epoch 37: loss improved from 0.00000 to 0.00000, saving model to hsel_ae_eval_minimax.keras\n",
      "9485/9485 [==============================] - 97s 10ms/step - loss: 3.3472e-06\n",
      "Epoch 38/1000\n",
      "9481/9485 [============================>.] - ETA: 0s - loss: 3.2532e-06\n",
      "Epoch 38: loss improved from 0.00000 to 0.00000, saving model to hsel_ae_eval_minimax.keras\n",
      "9485/9485 [==============================] - 98s 10ms/step - loss: 3.2537e-06\n",
      "Epoch 39/1000\n",
      "9483/9485 [============================>.] - ETA: 0s - loss: 3.2194e-06\n",
      "Epoch 39: loss improved from 0.00000 to 0.00000, saving model to hsel_ae_eval_minimax.keras\n",
      "9485/9485 [==============================] - 99s 10ms/step - loss: 3.2195e-06\n",
      "Epoch 40/1000\n",
      "9483/9485 [============================>.] - ETA: 0s - loss: 3.1934e-06\n",
      "Epoch 40: loss improved from 0.00000 to 0.00000, saving model to hsel_ae_eval_minimax.keras\n",
      "9485/9485 [==============================] - 97s 10ms/step - loss: 3.1948e-06\n",
      "Epoch 41/1000\n",
      "9485/9485 [==============================] - ETA: 0s - loss: 3.1770e-06\n",
      "Epoch 41: loss improved from 0.00000 to 0.00000, saving model to hsel_ae_eval_minimax.keras\n",
      "9485/9485 [==============================] - 97s 10ms/step - loss: 3.1770e-06\n",
      "Epoch 42/1000\n",
      "9485/9485 [==============================] - ETA: 0s - loss: 3.0631e-06\n",
      "Epoch 42: loss improved from 0.00000 to 0.00000, saving model to hsel_ae_eval_minimax.keras\n",
      "9485/9485 [==============================] - 97s 10ms/step - loss: 3.0631e-06\n",
      "Epoch 43/1000\n",
      "9481/9485 [============================>.] - ETA: 0s - loss: 3.0453e-06\n",
      "Epoch 43: loss improved from 0.00000 to 0.00000, saving model to hsel_ae_eval_minimax.keras\n",
      "9485/9485 [==============================] - 99s 10ms/step - loss: 3.0451e-06\n",
      "Epoch 44/1000\n",
      "9484/9485 [============================>.] - ETA: 0s - loss: 2.9781e-06\n",
      "Epoch 44: loss improved from 0.00000 to 0.00000, saving model to hsel_ae_eval_minimax.keras\n",
      "9485/9485 [==============================] - 100s 11ms/step - loss: 2.9780e-06\n",
      "Epoch 45/1000\n",
      "9484/9485 [============================>.] - ETA: 0s - loss: 2.9011e-06\n",
      "Epoch 45: loss improved from 0.00000 to 0.00000, saving model to hsel_ae_eval_minimax.keras\n",
      "9485/9485 [==============================] - 96s 10ms/step - loss: 2.9010e-06\n",
      "Epoch 46/1000\n",
      "9483/9485 [============================>.] - ETA: 0s - loss: 2.8293e-06\n",
      "Epoch 46: loss improved from 0.00000 to 0.00000, saving model to hsel_ae_eval_minimax.keras\n",
      "9485/9485 [==============================] - 96s 10ms/step - loss: 2.8290e-06\n",
      "Epoch 47/1000\n",
      "9484/9485 [============================>.] - ETA: 0s - loss: 2.8840e-06\n",
      "Epoch 47: loss did not improve from 0.00000\n",
      "9485/9485 [==============================] - 97s 10ms/step - loss: 2.8838e-06\n",
      "Epoch 48/1000\n",
      "9485/9485 [==============================] - ETA: 0s - loss: 3.1937e-06\n",
      "Epoch 48: loss did not improve from 0.00000\n",
      "9485/9485 [==============================] - 98s 10ms/step - loss: 3.1937e-06\n",
      "Epoch 49/1000\n",
      "9481/9485 [============================>.] - ETA: 0s - loss: 2.7666e-06\n",
      "Epoch 49: loss improved from 0.00000 to 0.00000, saving model to hsel_ae_eval_minimax.keras\n",
      "9485/9485 [==============================] - 98s 10ms/step - loss: 2.7661e-06\n",
      "Epoch 50/1000\n",
      "9480/9485 [============================>.] - ETA: 0s - loss: 2.7429e-06\n",
      "Epoch 50: loss improved from 0.00000 to 0.00000, saving model to hsel_ae_eval_minimax.keras\n",
      "9485/9485 [==============================] - 97s 10ms/step - loss: 2.7434e-06\n",
      "Epoch 51/1000\n",
      "9482/9485 [============================>.] - ETA: 0s - loss: 2.6830e-06\n",
      "Epoch 51: loss improved from 0.00000 to 0.00000, saving model to hsel_ae_eval_minimax.keras\n",
      "9485/9485 [==============================] - 97s 10ms/step - loss: 2.6826e-06\n",
      "Epoch 52/1000\n",
      "9484/9485 [============================>.] - ETA: 0s - loss: 2.7359e-06\n",
      "Epoch 52: loss did not improve from 0.00000\n",
      "9485/9485 [==============================] - 98s 10ms/step - loss: 2.7357e-06\n",
      "Epoch 53/1000\n",
      "9481/9485 [============================>.] - ETA: 0s - loss: 2.6351e-06\n",
      "Epoch 53: loss improved from 0.00000 to 0.00000, saving model to hsel_ae_eval_minimax.keras\n",
      "9485/9485 [==============================] - 97s 10ms/step - loss: 2.6350e-06\n",
      "Epoch 54/1000\n",
      "9481/9485 [============================>.] - ETA: 0s - loss: 2.5923e-06\n",
      "Epoch 54: loss improved from 0.00000 to 0.00000, saving model to hsel_ae_eval_minimax.keras\n",
      "9485/9485 [==============================] - 95s 10ms/step - loss: 2.5919e-06\n",
      "Epoch 55/1000\n",
      "9481/9485 [============================>.] - ETA: 0s - loss: 2.5355e-06\n",
      "Epoch 55: loss improved from 0.00000 to 0.00000, saving model to hsel_ae_eval_minimax.keras\n",
      "9485/9485 [==============================] - 96s 10ms/step - loss: 2.5355e-06\n",
      "Epoch 56/1000\n",
      "9485/9485 [==============================] - ETA: 0s - loss: 2.4618e-06\n",
      "Epoch 56: loss improved from 0.00000 to 0.00000, saving model to hsel_ae_eval_minimax.keras\n",
      "9485/9485 [==============================] - 94s 10ms/step - loss: 2.4618e-06\n",
      "Epoch 57/1000\n",
      "9485/9485 [==============================] - ETA: 0s - loss: 3.1325e-06\n",
      "Epoch 57: loss did not improve from 0.00000\n",
      "9485/9485 [==============================] - 98s 10ms/step - loss: 3.1325e-06\n",
      "Epoch 58/1000\n",
      "9481/9485 [============================>.] - ETA: 0s - loss: 2.6312e-06\n",
      "Epoch 58: loss did not improve from 0.00000\n",
      "9485/9485 [==============================] - 97s 10ms/step - loss: 2.6306e-06\n",
      "Epoch 59/1000\n",
      "9481/9485 [============================>.] - ETA: 0s - loss: 2.5829e-06\n",
      "Epoch 59: loss did not improve from 0.00000\n",
      "9485/9485 [==============================] - 96s 10ms/step - loss: 2.5822e-06\n",
      "Epoch 60/1000\n",
      "9482/9485 [============================>.] - ETA: 0s - loss: 2.4255e-06\n",
      "Epoch 60: loss improved from 0.00000 to 0.00000, saving model to hsel_ae_eval_minimax.keras\n",
      "9485/9485 [==============================] - 98s 10ms/step - loss: 2.4262e-06\n",
      "Epoch 61/1000\n",
      "9484/9485 [============================>.] - ETA: 0s - loss: 2.6664e-06\n",
      "Epoch 61: loss did not improve from 0.00000\n",
      "9485/9485 [==============================] - 98s 10ms/step - loss: 2.6663e-06\n",
      "Epoch 62/1000\n",
      "9483/9485 [============================>.] - ETA: 0s - loss: 2.4406e-06\n",
      "Epoch 62: loss did not improve from 0.00000\n",
      "9485/9485 [==============================] - 98s 10ms/step - loss: 2.4404e-06\n",
      "Epoch 63/1000\n",
      "9482/9485 [============================>.] - ETA: 0s - loss: 2.3640e-06\n",
      "Epoch 63: loss improved from 0.00000 to 0.00000, saving model to hsel_ae_eval_minimax.keras\n",
      "9485/9485 [==============================] - 96s 10ms/step - loss: 2.3676e-06\n",
      "Epoch 64/1000\n",
      "9481/9485 [============================>.] - ETA: 0s - loss: 2.2959e-06\n",
      "Epoch 64: loss improved from 0.00000 to 0.00000, saving model to hsel_ae_eval_minimax.keras\n",
      "9485/9485 [==============================] - 98s 10ms/step - loss: 2.2955e-06\n",
      "Epoch 65/1000\n",
      "9483/9485 [============================>.] - ETA: 0s - loss: 2.3577e-06\n",
      "Epoch 65: loss did not improve from 0.00000\n",
      "9485/9485 [==============================] - 97s 10ms/step - loss: 2.3575e-06\n",
      "Epoch 66/1000\n",
      "9480/9485 [============================>.] - ETA: 0s - loss: 2.2959e-06\n",
      "Epoch 66: loss did not improve from 0.00000\n",
      "9485/9485 [==============================] - 96s 10ms/step - loss: 2.2967e-06\n",
      "Epoch 67/1000\n",
      "9485/9485 [==============================] - ETA: 0s - loss: 2.2538e-06\n",
      "Epoch 67: loss improved from 0.00000 to 0.00000, saving model to hsel_ae_eval_minimax.keras\n",
      "9485/9485 [==============================] - 96s 10ms/step - loss: 2.2538e-06\n",
      "Epoch 68/1000\n",
      "9485/9485 [==============================] - ETA: 0s - loss: 2.2039e-06\n",
      "Epoch 68: loss improved from 0.00000 to 0.00000, saving model to hsel_ae_eval_minimax.keras\n",
      "9485/9485 [==============================] - 95s 10ms/step - loss: 2.2039e-06\n",
      "Epoch 69/1000\n",
      "9483/9485 [============================>.] - ETA: 0s - loss: 2.1969e-06\n",
      "Epoch 69: loss improved from 0.00000 to 0.00000, saving model to hsel_ae_eval_minimax.keras\n",
      "9485/9485 [==============================] - 97s 10ms/step - loss: 2.1966e-06\n",
      "Epoch 70/1000\n",
      "9481/9485 [============================>.] - ETA: 0s - loss: 2.2386e-06\n",
      "Epoch 70: loss did not improve from 0.00000\n",
      "9485/9485 [==============================] - 97s 10ms/step - loss: 2.2394e-06\n",
      "Epoch 71/1000\n",
      "9483/9485 [============================>.] - ETA: 0s - loss: 2.2912e-06\n",
      "Epoch 71: loss did not improve from 0.00000\n",
      "9485/9485 [==============================] - 97s 10ms/step - loss: 2.2910e-06\n",
      "Epoch 72/1000\n",
      "9480/9485 [============================>.] - ETA: 0s - loss: 2.1855e-06\n",
      "Epoch 72: loss improved from 0.00000 to 0.00000, saving model to hsel_ae_eval_minimax.keras\n",
      "9485/9485 [==============================] - 97s 10ms/step - loss: 2.1850e-06\n",
      "Epoch 73/1000\n",
      "9481/9485 [============================>.] - ETA: 0s - loss: 2.1222e-06\n",
      "Epoch 73: loss improved from 0.00000 to 0.00000, saving model to hsel_ae_eval_minimax.keras\n",
      "9485/9485 [==============================] - 97s 10ms/step - loss: 2.1218e-06\n",
      "Epoch 74/1000\n",
      "9482/9485 [============================>.] - ETA: 0s - loss: 2.0672e-06\n",
      "Epoch 74: loss improved from 0.00000 to 0.00000, saving model to hsel_ae_eval_minimax.keras\n",
      "9485/9485 [==============================] - 96s 10ms/step - loss: 2.0670e-06\n",
      "Epoch 75/1000\n",
      "9481/9485 [============================>.] - ETA: 0s - loss: 2.0802e-06\n",
      "Epoch 75: loss did not improve from 0.00000\n",
      "9485/9485 [==============================] - 99s 10ms/step - loss: 2.0804e-06\n",
      "Epoch 76/1000\n",
      "9483/9485 [============================>.] - ETA: 0s - loss: 2.1009e-06\n",
      "Epoch 76: loss did not improve from 0.00000\n",
      "9485/9485 [==============================] - 98s 10ms/step - loss: 2.1007e-06\n",
      "Epoch 77/1000\n",
      "9485/9485 [==============================] - ETA: 0s - loss: 2.4250e-06\n",
      "Epoch 77: loss did not improve from 0.00000\n",
      "9485/9485 [==============================] - 95s 10ms/step - loss: 2.4250e-06\n",
      "Epoch 78/1000\n",
      "9481/9485 [============================>.] - ETA: 0s - loss: 2.0267e-06\n",
      "Epoch 78: loss improved from 0.00000 to 0.00000, saving model to hsel_ae_eval_minimax.keras\n",
      "9485/9485 [==============================] - 96s 10ms/step - loss: 2.0268e-06\n",
      "Epoch 79/1000\n",
      "9484/9485 [============================>.] - ETA: 0s - loss: 2.0457e-06\n",
      "Epoch 79: loss did not improve from 0.00000\n",
      "9485/9485 [==============================] - 97s 10ms/step - loss: 2.0456e-06\n",
      "Epoch 80/1000\n",
      "9483/9485 [============================>.] - ETA: 0s - loss: 2.0744e-06\n",
      "Epoch 80: loss did not improve from 0.00000\n",
      "9485/9485 [==============================] - 94s 10ms/step - loss: 2.0741e-06\n",
      "Epoch 81/1000\n",
      "9483/9485 [============================>.] - ETA: 0s - loss: 1.9582e-06\n",
      "Epoch 81: loss improved from 0.00000 to 0.00000, saving model to hsel_ae_eval_minimax.keras\n",
      "9485/9485 [==============================] - 95s 10ms/step - loss: 1.9580e-06\n",
      "Epoch 82/1000\n",
      "9483/9485 [============================>.] - ETA: 0s - loss: 1.9619e-06\n",
      "Epoch 82: loss did not improve from 0.00000\n",
      "9485/9485 [==============================] - 95s 10ms/step - loss: 1.9618e-06\n",
      "Epoch 83/1000\n",
      "9482/9485 [============================>.] - ETA: 0s - loss: 1.9167e-06\n",
      "Epoch 83: loss improved from 0.00000 to 0.00000, saving model to hsel_ae_eval_minimax.keras\n",
      "9485/9485 [==============================] - 97s 10ms/step - loss: 1.9165e-06\n",
      "Epoch 84/1000\n",
      "9484/9485 [============================>.] - ETA: 0s - loss: 1.8969e-06\n",
      "Epoch 84: loss improved from 0.00000 to 0.00000, saving model to hsel_ae_eval_minimax.keras\n",
      "9485/9485 [==============================] - 93s 10ms/step - loss: 1.8968e-06\n",
      "Epoch 85/1000\n",
      "9480/9485 [============================>.] - ETA: 0s - loss: 1.9433e-06\n",
      "Epoch 85: loss did not improve from 0.00000\n",
      "9485/9485 [==============================] - 94s 10ms/step - loss: 1.9429e-06\n",
      "Epoch 86/1000\n",
      "9482/9485 [============================>.] - ETA: 0s - loss: 2.0133e-06\n",
      "Epoch 86: loss did not improve from 0.00000\n",
      "9485/9485 [==============================] - 95s 10ms/step - loss: 2.0136e-06\n",
      "Epoch 87/1000\n",
      "9483/9485 [============================>.] - ETA: 0s - loss: 1.9392e-06\n",
      "Epoch 87: loss did not improve from 0.00000\n",
      "9485/9485 [==============================] - 94s 10ms/step - loss: 1.9389e-06\n",
      "Epoch 88/1000\n",
      "9484/9485 [============================>.] - ETA: 0s - loss: 1.8886e-06\n",
      "Epoch 88: loss improved from 0.00000 to 0.00000, saving model to hsel_ae_eval_minimax.keras\n",
      "9485/9485 [==============================] - 94s 10ms/step - loss: 1.8886e-06\n",
      "Epoch 89/1000\n",
      "9485/9485 [==============================] - ETA: 0s - loss: 1.9406e-06\n",
      "Epoch 89: loss did not improve from 0.00000\n",
      "9485/9485 [==============================] - 96s 10ms/step - loss: 1.9406e-06\n",
      "Epoch 90/1000\n",
      "9483/9485 [============================>.] - ETA: 0s - loss: 1.7991e-06\n",
      "Epoch 90: loss improved from 0.00000 to 0.00000, saving model to hsel_ae_eval_minimax.keras\n",
      "9485/9485 [==============================] - 94s 10ms/step - loss: 1.7989e-06\n",
      "Epoch 91/1000\n",
      "9483/9485 [============================>.] - ETA: 0s - loss: 1.8397e-06\n",
      "Epoch 91: loss did not improve from 0.00000\n",
      "9485/9485 [==============================] - 93s 10ms/step - loss: 1.8396e-06\n",
      "Epoch 92/1000\n",
      "9481/9485 [============================>.] - ETA: 0s - loss: 1.8039e-06\n",
      "Epoch 92: loss did not improve from 0.00000\n",
      "9485/9485 [==============================] - 94s 10ms/step - loss: 1.8043e-06\n",
      "Epoch 93/1000\n",
      "9484/9485 [============================>.] - ETA: 0s - loss: 1.7900e-06\n",
      "Epoch 93: loss improved from 0.00000 to 0.00000, saving model to hsel_ae_eval_minimax.keras\n",
      "9485/9485 [==============================] - 96s 10ms/step - loss: 1.7900e-06\n",
      "Epoch 94/1000\n",
      "9482/9485 [============================>.] - ETA: 0s - loss: 1.7850e-06\n",
      "Epoch 94: loss improved from 0.00000 to 0.00000, saving model to hsel_ae_eval_minimax.keras\n",
      "9485/9485 [==============================] - 96s 10ms/step - loss: 1.7851e-06\n",
      "Epoch 95/1000\n",
      "9481/9485 [============================>.] - ETA: 0s - loss: 1.9408e-06\n",
      "Epoch 95: loss did not improve from 0.00000\n",
      "9485/9485 [==============================] - 98s 10ms/step - loss: 1.9405e-06\n",
      "Epoch 96/1000\n",
      "9483/9485 [============================>.] - ETA: 0s - loss: 1.7684e-06\n",
      "Epoch 96: loss improved from 0.00000 to 0.00000, saving model to hsel_ae_eval_minimax.keras\n",
      "9485/9485 [==============================] - 98s 10ms/step - loss: 1.7682e-06\n",
      "Epoch 97/1000\n",
      "9481/9485 [============================>.] - ETA: 0s - loss: 1.7668e-06\n",
      "Epoch 97: loss improved from 0.00000 to 0.00000, saving model to hsel_ae_eval_minimax.keras\n",
      "9485/9485 [==============================] - 98s 10ms/step - loss: 1.7668e-06\n",
      "Epoch 98/1000\n",
      "9484/9485 [============================>.] - ETA: 0s - loss: 1.7616e-06\n",
      "Epoch 98: loss improved from 0.00000 to 0.00000, saving model to hsel_ae_eval_minimax.keras\n",
      "9485/9485 [==============================] - 93s 10ms/step - loss: 1.7616e-06\n",
      "Epoch 99/1000\n",
      "9481/9485 [============================>.] - ETA: 0s - loss: 1.7611e-06\n",
      "Epoch 99: loss improved from 0.00000 to 0.00000, saving model to hsel_ae_eval_minimax.keras\n",
      "9485/9485 [==============================] - 95s 10ms/step - loss: 1.7608e-06\n",
      "Epoch 100/1000\n",
      "9485/9485 [==============================] - ETA: 0s - loss: 1.7415e-06\n",
      "Epoch 100: loss improved from 0.00000 to 0.00000, saving model to hsel_ae_eval_minimax.keras\n",
      "9485/9485 [==============================] - 95s 10ms/step - loss: 1.7415e-06\n",
      "Epoch 101/1000\n",
      "9483/9485 [============================>.] - ETA: 0s - loss: 1.7167e-06\n",
      "Epoch 101: loss improved from 0.00000 to 0.00000, saving model to hsel_ae_eval_minimax.keras\n",
      "9485/9485 [==============================] - 95s 10ms/step - loss: 1.7165e-06\n",
      "Epoch 102/1000\n",
      "9484/9485 [============================>.] - ETA: 0s - loss: 1.7914e-06\n",
      "Epoch 102: loss did not improve from 0.00000\n",
      "9485/9485 [==============================] - 98s 10ms/step - loss: 1.7914e-06\n",
      "Epoch 103/1000\n",
      "9485/9485 [==============================] - ETA: 0s - loss: 1.6633e-06\n",
      "Epoch 103: loss improved from 0.00000 to 0.00000, saving model to hsel_ae_eval_minimax.keras\n",
      "9485/9485 [==============================] - 98s 10ms/step - loss: 1.6633e-06\n",
      "Epoch 104/1000\n",
      "9485/9485 [==============================] - ETA: 0s - loss: 1.7328e-06\n",
      "Epoch 104: loss did not improve from 0.00000\n",
      "9485/9485 [==============================] - 98s 10ms/step - loss: 1.7328e-06\n",
      "Epoch 105/1000\n",
      "9485/9485 [==============================] - ETA: 0s - loss: 1.7124e-06\n",
      "Epoch 105: loss did not improve from 0.00000\n",
      "9485/9485 [==============================] - 97s 10ms/step - loss: 1.7124e-06\n",
      "Epoch 106/1000\n",
      "9483/9485 [============================>.] - ETA: 0s - loss: 1.6618e-06\n",
      "Epoch 106: loss improved from 0.00000 to 0.00000, saving model to hsel_ae_eval_minimax.keras\n",
      "9485/9485 [==============================] - 97s 10ms/step - loss: 1.6617e-06\n",
      "Epoch 107/1000\n",
      "9485/9485 [==============================] - ETA: 0s - loss: 1.7044e-06\n",
      "Epoch 107: loss did not improve from 0.00000\n",
      "9485/9485 [==============================] - 97s 10ms/step - loss: 1.7044e-06\n",
      "Epoch 108/1000\n",
      "9484/9485 [============================>.] - ETA: 0s - loss: 1.6233e-06\n",
      "Epoch 108: loss improved from 0.00000 to 0.00000, saving model to hsel_ae_eval_minimax.keras\n",
      "9485/9485 [==============================] - 98s 10ms/step - loss: 1.6233e-06\n",
      "Epoch 109/1000\n",
      "9485/9485 [==============================] - ETA: 0s - loss: 1.6853e-06\n",
      "Epoch 109: loss did not improve from 0.00000\n",
      "9485/9485 [==============================] - 97s 10ms/step - loss: 1.6853e-06\n",
      "Epoch 110/1000\n",
      "9483/9485 [============================>.] - ETA: 0s - loss: 1.6853e-06\n",
      "Epoch 110: loss did not improve from 0.00000\n",
      "9485/9485 [==============================] - 99s 10ms/step - loss: 1.6853e-06\n",
      "Epoch 111/1000\n",
      "9483/9485 [============================>.] - ETA: 0s - loss: 1.6184e-06\n",
      "Epoch 111: loss improved from 0.00000 to 0.00000, saving model to hsel_ae_eval_minimax.keras\n",
      "9485/9485 [==============================] - 99s 10ms/step - loss: 1.6183e-06\n",
      "Epoch 112/1000\n",
      "9483/9485 [============================>.] - ETA: 0s - loss: 1.7509e-06\n",
      "Epoch 112: loss did not improve from 0.00000\n",
      "9485/9485 [==============================] - 97s 10ms/step - loss: 1.7508e-06\n",
      "Epoch 113/1000\n",
      "9484/9485 [============================>.] - ETA: 0s - loss: 1.7105e-06\n",
      "Epoch 113: loss did not improve from 0.00000\n",
      "9485/9485 [==============================] - 94s 10ms/step - loss: 1.7105e-06\n",
      "Epoch 114/1000\n",
      "9484/9485 [============================>.] - ETA: 0s - loss: 1.6678e-06\n",
      "Epoch 114: loss did not improve from 0.00000\n",
      "9485/9485 [==============================] - 97s 10ms/step - loss: 1.6680e-06\n",
      "Epoch 115/1000\n",
      "9480/9485 [============================>.] - ETA: 0s - loss: 1.7800e-06\n",
      "Epoch 115: loss did not improve from 0.00000\n",
      "9485/9485 [==============================] - 96s 10ms/step - loss: 1.7794e-06\n",
      "Epoch 116/1000\n",
      "9482/9485 [============================>.] - ETA: 0s - loss: 1.5628e-06\n",
      "Epoch 116: loss improved from 0.00000 to 0.00000, saving model to hsel_ae_eval_minimax.keras\n",
      "9485/9485 [==============================] - 96s 10ms/step - loss: 1.5628e-06\n",
      "Epoch 117/1000\n",
      "9482/9485 [============================>.] - ETA: 0s - loss: 1.5720e-06\n",
      "Epoch 117: loss did not improve from 0.00000\n",
      "9485/9485 [==============================] - 98s 10ms/step - loss: 1.5719e-06\n",
      "Epoch 118/1000\n",
      "9482/9485 [============================>.] - ETA: 0s - loss: 1.6456e-06\n",
      "Epoch 118: loss did not improve from 0.00000\n",
      "9485/9485 [==============================] - 97s 10ms/step - loss: 1.6453e-06\n",
      "Epoch 119/1000\n",
      "9481/9485 [============================>.] - ETA: 0s - loss: 1.5925e-06\n",
      "Epoch 119: loss did not improve from 0.00000\n",
      "9485/9485 [==============================] - 96s 10ms/step - loss: 1.5929e-06\n",
      "Epoch 120/1000\n",
      "9482/9485 [============================>.] - ETA: 0s - loss: 1.6000e-06\n",
      "Epoch 120: loss did not improve from 0.00000\n",
      "9485/9485 [==============================] - 98s 10ms/step - loss: 1.5998e-06\n",
      "Epoch 121/1000\n",
      "9485/9485 [==============================] - ETA: 0s - loss: 1.6448e-06\n",
      "Epoch 121: loss did not improve from 0.00000\n",
      "9485/9485 [==============================] - 97s 10ms/step - loss: 1.6448e-06\n",
      "Epoch 122/1000\n",
      "9481/9485 [============================>.] - ETA: 0s - loss: 1.5270e-06\n",
      "Epoch 122: loss improved from 0.00000 to 0.00000, saving model to hsel_ae_eval_minimax.keras\n",
      "9485/9485 [==============================] - 97s 10ms/step - loss: 1.5266e-06\n",
      "Epoch 123/1000\n",
      "9483/9485 [============================>.] - ETA: 0s - loss: 1.5382e-06\n",
      "Epoch 123: loss did not improve from 0.00000\n",
      "9485/9485 [==============================] - 95s 10ms/step - loss: 1.5381e-06\n",
      "Epoch 124/1000\n",
      "9483/9485 [============================>.] - ETA: 0s - loss: 1.5739e-06\n",
      "Epoch 124: loss did not improve from 0.00000\n",
      "9485/9485 [==============================] - 95s 10ms/step - loss: 1.5740e-06\n",
      "Epoch 125/1000\n",
      "9481/9485 [============================>.] - ETA: 0s - loss: 1.6036e-06\n",
      "Epoch 125: loss did not improve from 0.00000\n",
      "9485/9485 [==============================] - 94s 10ms/step - loss: 1.6041e-06\n",
      "Epoch 126/1000\n",
      "9482/9485 [============================>.] - ETA: 0s - loss: 1.6122e-06\n",
      "Epoch 126: loss did not improve from 0.00000\n",
      "9485/9485 [==============================] - 93s 10ms/step - loss: 1.6121e-06\n",
      "Epoch 127/1000\n",
      "9481/9485 [============================>.] - ETA: 0s - loss: 1.5075e-06\n",
      "Epoch 127: loss improved from 0.00000 to 0.00000, saving model to hsel_ae_eval_minimax.keras\n",
      "9485/9485 [==============================] - 94s 10ms/step - loss: 1.5072e-06\n",
      "Epoch 128/1000\n",
      "9485/9485 [==============================] - ETA: 0s - loss: 1.5073e-06\n",
      "Epoch 128: loss did not improve from 0.00000\n",
      "9485/9485 [==============================] - 95s 10ms/step - loss: 1.5073e-06\n",
      "Epoch 129/1000\n",
      "9482/9485 [============================>.] - ETA: 0s - loss: 1.9270e-06\n",
      "Epoch 129: loss did not improve from 0.00000\n",
      "9485/9485 [==============================] - 97s 10ms/step - loss: 1.9267e-06\n",
      "Epoch 130/1000\n",
      "9484/9485 [============================>.] - ETA: 0s - loss: 1.7539e-06\n",
      "Epoch 130: loss did not improve from 0.00000\n",
      "9485/9485 [==============================] - 92s 10ms/step - loss: 1.7543e-06\n",
      "Epoch 131/1000\n",
      "9482/9485 [============================>.] - ETA: 0s - loss: 1.7255e-06\n",
      "Epoch 131: loss did not improve from 0.00000\n",
      "9485/9485 [==============================] - 97s 10ms/step - loss: 1.7255e-06\n",
      "Epoch 132/1000\n",
      "9482/9485 [============================>.] - ETA: 0s - loss: 1.6873e-06\n",
      "Epoch 132: loss did not improve from 0.00000\n",
      "9485/9485 [==============================] - 96s 10ms/step - loss: 1.6871e-06\n",
      "Epoch 133/1000\n",
      "9482/9485 [============================>.] - ETA: 0s - loss: 1.7432e-06\n",
      "Epoch 133: loss did not improve from 0.00000\n",
      "9485/9485 [==============================] - 94s 10ms/step - loss: 1.7430e-06\n",
      "Epoch 133: early stopping\n"
     ]
    }
   ],
   "source": [
    "history = autoencoder.fit(x, x, batch_size=1024, epochs=1000, verbose=1,\n",
    "                          callbacks=[es, mc])"
   ]
  },
  {
   "cell_type": "code",
   "execution_count": 15,
   "id": "c6bb0bb9-0eb4-4e11-9399-d0f4942a0599",
   "metadata": {},
   "outputs": [
    {
     "data": {
      "text/plain": [
       "[<matplotlib.lines.Line2D at 0x7f3d683bec20>]"
      ]
     },
     "execution_count": 15,
     "metadata": {},
     "output_type": "execute_result"
    },
    {
     "data": {
      "image/png": "[encoded data removed]",
      "text/plain": [
       "<Figure size 640x480 with 1 Axes>"
      ]
     },
     "metadata": {},
     "output_type": "display_data"
    }
   ],
   "source": [
    "plt.plot(history.history[\"loss\"])"
   ]
  },
  {
   "cell_type": "code",
   "execution_count": 16,
   "id": "9ee5b877-032b-4084-af15-0992261cc8a3",
   "metadata": {},
   "outputs": [
    {
     "name": "stdout",
     "output_type": "stream",
     "text": [
      "WARNING:tensorflow:Compiled the loaded model, but the compiled metrics have yet to be built. `model.compile_metrics` will be empty until you train or evaluate the model.\n"
     ]
    }
   ],
   "source": [
    "#autoencoder.save(\"hsel_ae_eval.keras\")\n",
    "encoder_model.save(\"encoder_3_mae.keras\")"
   ]
  },
  {
   "cell_type": "code",
   "execution_count": null,
   "id": "8a5996c1-a0e7-4b88-8b23-c76fec814cf0",
   "metadata": {},
   "outputs": [],
   "source": []
  },
  {
   "cell_type": "code",
   "execution_count": 17,
   "id": "5ae50d48-c5bd-4123-9912-be8f20fb30da",
   "metadata": {},
   "outputs": [
    {
     "name": "stdout",
     "output_type": "stream",
     "text": [
      "[[ 0.04197723 -0.11006036  0.00357839 ... -0.03847643  0.00432654\n",
      "  -0.04390932]\n",
      " [-0.03249782 -0.02292815  0.02850147 ...  0.0510024   0.03084978\n",
      "  -0.05155373]\n",
      " [-0.05069329 -0.03299119 -0.05785642 ...  0.04341505 -0.04626712\n",
      "  -0.04103879]\n",
      " ...\n",
      " [ 0.02412799 -0.1809889  -0.05857753 ... -0.01179309  0.04092099\n",
      "   0.00633704]\n",
      " [-0.05699721 -0.16432264  0.0409355  ... -0.04869202 -0.01457644\n",
      "  -0.02006952]\n",
      " [-0.02276465 -0.27154252 -0.01717412 ... -0.02830176 -0.01665714\n",
      "  -0.02767531]]\n",
      "[[ 0.04197723 -0.11006036  0.00357839 ... -0.03847643  0.00432654\n",
      "  -0.04390932]\n",
      " [-0.03249782 -0.02292815  0.02850147 ...  0.0510024   0.03084978\n",
      "  -0.05155373]\n",
      " [-0.05069329 -0.03299119 -0.05785642 ...  0.04341505 -0.04626712\n",
      "  -0.04103879]\n",
      " ...\n",
      " [ 0.02412799 -0.1809889  -0.05857753 ... -0.01179309  0.04092099\n",
      "   0.00633704]\n",
      " [-0.05699721 -0.16432264  0.0409355  ... -0.04869202 -0.01457644\n",
      "  -0.02006952]\n",
      " [-0.02276465 -0.27154252 -0.01717412 ... -0.02830176 -0.01665714\n",
      "  -0.02767531]]\n"
     ]
    }
   ],
   "source": [
    "print(autoencoder.layers[1].get_weights()[0])\n",
    "print(encoder_model.layers[1].get_weights()[0])"
   ]
  },
  {
   "cell_type": "code",
   "execution_count": 4,
   "id": "ab54cf54-f770-4cb3-8fbd-d13d217be441",
   "metadata": {},
   "outputs": [],
   "source": [
    "#autoencoder = tf.keras.models.load_model(\"ae_tmp.keras\")"
   ]
  },
  {
   "cell_type": "code",
   "execution_count": 18,
   "id": "a2acabf8-fc2b-4e91-bb8c-be6c9d4d22a6",
   "metadata": {},
   "outputs": [
    {
     "name": "stdout",
     "output_type": "stream",
     "text": [
      "Model: \"model\"\n",
      "_________________________________________________________________\n",
      " Layer (type)                Output Shape              Param #   \n",
      "=================================================================\n",
      " input_1 (InputLayer)        [(None, 1957)]            0         \n",
      "                                                                 \n",
      " dense (Dense)               (None, 128)               250624    \n",
      "                                                                 \n",
      " dense_1 (Dense)             (None, 100)               12900     \n",
      "                                                                 \n",
      " dense_2 (Dense)             (None, 72)                7272      \n",
      "                                                                 \n",
      " dense_3 (Dense)             (None, 64)                4672      \n",
      "                                                                 \n",
      " dense_4 (Dense)             (None, 72)                4680      \n",
      "                                                                 \n",
      " dense_5 (Dense)             (None, 100)               7300      \n",
      "                                                                 \n",
      " dense_6 (Dense)             (None, 128)               12928     \n",
      "                                                                 \n",
      " dense_7 (Dense)             (None, 1957)              252453    \n",
      "                                                                 \n",
      "=================================================================\n",
      "Total params: 552,829\n",
      "Trainable params: 552,829\n",
      "Non-trainable params: 0\n",
      "_________________________________________________________________\n"
     ]
    }
   ],
   "source": [
    "autoencoder.summary()"
   ]
  },
  {
   "cell_type": "code",
   "execution_count": 13,
   "id": "0881a5e0-7d06-4dd4-b2b3-0516f7ae5c26",
   "metadata": {},
   "outputs": [
    {
     "name": "stdout",
     "output_type": "stream",
     "text": [
      "32.48172 -9.937093 -1.1308387e-06 0.999974\n"
     ]
    }
   ],
   "source": [
    "print(np.max(x), np.min(x), np.mean(x), np.std(x))"
   ]
  },
  {
   "cell_type": "code",
   "execution_count": 19,
   "id": "0b375fcf-fe59-4a0c-ac32-fa9fca246cdd",
   "metadata": {},
   "outputs": [
    {
     "name": "stdout",
     "output_type": "stream",
     "text": [
      "[4997614  624564 5372020 ... 7711677 1031606 3626201]\n"
     ]
    }
   ],
   "source": [
    "x.shape[0]\n",
    "ind = np.random.choice(x.shape[0], size=10000, replace=False)\n",
    "print(ind)"
   ]
  },
  {
   "cell_type": "code",
   "execution_count": null,
   "id": "25bc6848-bf79-4c4d-8f58-4c6bded9d685",
   "metadata": {},
   "outputs": [],
   "source": []
  },
  {
   "cell_type": "code",
   "execution_count": null,
   "id": "57206d85-2c6a-4dd9-b983-280ec6f365d1",
   "metadata": {},
   "outputs": [],
   "source": []
  },
  {
   "cell_type": "code",
   "execution_count": 31,
   "id": "0a82e3fc-6672-4c73-94b7-aa8cbc3d6f68",
   "metadata": {},
   "outputs": [
    {
     "name": "stdout",
     "output_type": "stream",
     "text": [
      "tf.Tensor(\n",
      "[[-3.1881974 -3.198745  -3.208634  ... -3.477102  -3.541099  -2.4749622]\n",
      " [-2.7842808 -2.793198  -2.8016233 ... -2.8952053 -2.9283347 -2.1777518]\n",
      " [-2.783676  -2.7922685 -2.8003926 ... -2.9168217 -2.943195  -2.2033303]\n",
      " ...\n",
      " [-2.3887157 -2.3931587 -2.397469  ... -2.288444  -2.2801242 -1.9656309]\n",
      " [-2.406954  -2.411262  -2.415443  ... -2.3914337 -2.379833  -1.995817 ]\n",
      " [-2.4169106 -2.4214873 -2.425916  ... -2.3657892 -2.3588033 -1.9837167]], shape=(9712457, 1957), dtype=float32)\n"
     ]
    }
   ],
   "source": []
  },
  {
   "cell_type": "code",
   "execution_count": 20,
   "id": "41dcd353-d841-4bb4-9862-fc7d0d17b4b9",
   "metadata": {},
   "outputs": [
    {
     "name": "stdout",
     "output_type": "stream",
     "text": [
      "100/100 [==============================] - 0s 2ms/step\n"
     ]
    }
   ],
   "source": [
    "#x_true = x[ind]\n",
    "x_pred = autoencoder.predict(hsel_train[ind], batch_size=100)"
   ]
  },
  {
   "cell_type": "code",
   "execution_count": 36,
   "id": "e8b972ba-c7c0-4c2e-b062-05d5414b272e",
   "metadata": {},
   "outputs": [
    {
     "data": {
      "text/plain": [
       "[<matplotlib.lines.Line2D at 0x7f3d5c252170>]"
      ]
     },
     "execution_count": 36,
     "metadata": {},
     "output_type": "execute_result"
    },
    {
     "data": {
      "image/png": "[encoded data removed]",
      "text/plain": [
       "<Figure size 640x480 with 1 Axes>"
      ]
     },
     "metadata": {},
     "output_type": "display_data"
    }
   ],
   "source": [
    "a = np.random.randint(x_pred.shape[0])\n",
    "plt.plot(hsel_train[a])\n",
    "plt.plot(x_pred[a])\n"
   ]
  },
  {
   "cell_type": "code",
   "execution_count": 17,
   "id": "ad6dc1cc-cf4f-48a4-86ba-78c6b74503f3",
   "metadata": {},
   "outputs": [],
   "source": [
    "autoencoder.save(\"ae_tmp.keras\")"
   ]
  },
  {
   "cell_type": "code",
   "execution_count": null,
   "id": "4663057f-81a4-49cb-8889-cbd2f019785e",
   "metadata": {},
   "outputs": [],
   "source": [
    "# create validation set"
   ]
  },
  {
   "cell_type": "code",
   "execution_count": null,
   "id": "f3ff244e-3cb7-4c32-bf4e-d77de9c01961",
   "metadata": {},
   "outputs": [],
   "source": [
    "x_train = hsel_train\n"
   ]
  },
  {
   "cell_type": "code",
   "execution_count": null,
   "id": "18d8f018-1cb2-4d01-be78-c824ec73a10e",
   "metadata": {},
   "outputs": [],
   "source": [
    "num_rows = hsel_train.shape[0]\n",
    "num_chunks = 10\n",
    "\n",
    "chunksize = int(num_rows/num_chunks)\n",
    "\n",
    "for i in range(num_chunks):\n",
    "    print(i*chunksize,(i+1)*chunksize)"
   ]
  },
  {
   "cell_type": "code",
   "execution_count": null,
   "id": "fc9eb970-6c28-43a1-ab87-eaea0973bca1",
   "metadata": {},
   "outputs": [],
   "source": []
  },
  {
   "cell_type": "code",
   "execution_count": null,
   "id": "c24faa33-dfb0-47f2-945b-89f9b44747df",
   "metadata": {},
   "outputs": [],
   "source": [
    "\n",
    "input_dim = 1957 \n",
    "latent_dim = 40  \n",
    "autoencoder, encoder_model = build_autoencoder(input_dim, latent_dim)\n",
    "autoencoder.summary()\n",
    "encoder_model.summary()\n"
   ]
  },
  {
   "cell_type": "code",
   "execution_count": null,
   "id": "91bc2238-db3b-45bf-9c98-e96048fab8ca",
   "metadata": {},
   "outputs": [],
   "source": []
  },
  {
   "cell_type": "code",
   "execution_count": null,
   "id": "864ac0a6-4ed6-4253-8d85-0176ac4dd7bc",
   "metadata": {},
   "outputs": [],
   "source": [
    "num_rows = hsel_train.shape[0]\n",
    "num_chunks = 10\n",
    "chunksize = int(num_rows/num_chunks)\n",
    "indices = []\n",
    "for i in range(num_chunks):\n",
    "    indices.append(np.r_[i*chunksize:(i+1)*chunksize])"
   ]
  },
  {
   "cell_type": "code",
   "execution_count": null,
   "id": "f658f794-738b-422a-9085-74d711bb778e",
   "metadata": {},
   "outputs": [],
   "source": [
    "type(indices)\n",
    "print(len(indices))\n"
   ]
  },
  {
   "cell_type": "code",
   "execution_count": null,
   "id": "eb53ec7b-c4e3-4c09-bf3d-e041ac320d00",
   "metadata": {},
   "outputs": [],
   "source": [
    "print(indices)"
   ]
  },
  {
   "cell_type": "code",
   "execution_count": null,
   "id": "31114032-7e82-47e5-98d0-bccb5982a99d",
   "metadata": {},
   "outputs": [],
   "source": [
    "np.random.choice(indices, size=num_chunks)"
   ]
  },
  {
   "cell_type": "code",
   "execution_count": null,
   "id": "24e67a3f-409b-467f-bf42-36bdbfd3d515",
   "metadata": {},
   "outputs": [],
   "source": [
    "epochs = 10\n",
    "for _ in range(epochs):\n",
    "    np.random.shuffle(indices)\n",
    "    for i in indices:  \n",
    "        autoencoder.fit(hsel_train[i], \n",
    "                        hsel_train[i], batch_size=1000, epochs=1)"
   ]
  },
  {
   "cell_type": "code",
   "execution_count": null,
   "id": "3d5dbe1b-0d28-4e1b-b70e-b6864a9c224c",
   "metadata": {},
   "outputs": [],
   "source": [
    "pred = autoencoder.predict(hsel_train, batch_size=10000)\n"
   ]
  },
  {
   "cell_type": "code",
   "execution_count": null,
   "id": "e09e7131-9e36-4a18-a86d-6cd88ff9ed54",
   "metadata": {},
   "outputs": [],
   "source": [
    "pred_test = autoencoder.predict(hsel_test, batch_size=10000)\n"
   ]
  },
  {
   "cell_type": "code",
   "execution_count": null,
   "id": "5e6d1e40-b5de-45d1-9e08-70c6270e12af",
   "metadata": {},
   "outputs": [],
   "source": [
    "plt.plot(pred[100000, :])\n",
    "plt.plot(hsel_train[100000, :])"
   ]
  },
  {
   "cell_type": "code",
   "execution_count": null,
   "id": "85847722-1350-4f47-bec4-91234a783b58",
   "metadata": {},
   "outputs": [],
   "source": [
    "plt.plot(pred_test[10000, :])\n",
    "plt.plot(hsel_test[10000, :])"
   ]
  },
  {
   "cell_type": "code",
   "execution_count": null,
   "id": "ee89d96e-3587-400c-8028-3630dd893327",
   "metadata": {},
   "outputs": [],
   "source": [
    "encoder_model.summary()\n",
    "encoder_model.save(\"encoder.keras\")"
   ]
  },
  {
   "cell_type": "code",
   "execution_count": null,
   "id": "96292c0f-ca7b-4ca3-bac6-a1b09c50c2d0",
   "metadata": {},
   "outputs": [],
   "source": [
    "all_times = ['20060315', '20060515', '20060615', '20060715', '20060803', '20060815', '20060915', '20061015', '20061115', '20061215']\n",
    "print()"
   ]
  },
  {
   "cell_type": "code",
   "execution_count": null,
   "id": "951ce053-e9ec-46aa-9803-e26dd93b9118",
   "metadata": {},
   "outputs": [],
   "source": [
    "plt.plot(history.history[\"loss\"])\n"
   ]
  },
  {
   "cell_type": "code",
   "execution_count": null,
   "id": "7de7a904-ff60-441b-9b4d-ee91b0d4cf40",
   "metadata": {},
   "outputs": [],
   "source": [
    "base = \"/data/nature_run/fulldays\"\n",
    "hsel = \"hympi_20060315.npz\"\n",
    "nrun = \"Nature_20060315.npz\""
   ]
  },
  {
   "cell_type": "code",
   "execution_count": null,
   "id": "ed43479a-ab41-41bc-bcd7-662f92ecf893",
   "metadata": {},
   "outputs": [],
   "source": [
    "hsel_file = np.load(f\"{base}/{hsel}\")\n",
    "hsel_keys = sorted(list(hsel_file.keys()))\n",
    "print(hsel_keys)\n",
    "hsel_data = [hsel_file[x] for x in hsel_keys]\n",
    "nrun_data = np.load(f\"{base}/{nrun}\")\n",
    "nrun_tab = nrun_data[\"table\"]\n",
    "nrun_sca = nrun_data[\"scalar\"]"
   ]
  },
  {
   "cell_type": "code",
   "execution_count": null,
   "id": "ae5e14ce-7532-4322-a8bd-ed3d912ff595",
   "metadata": {},
   "outputs": [],
   "source": [
    "for i, j in zip(hsel_keys, hsel_data):\n",
    "    print(i, j.shape)"
   ]
  },
  {
   "cell_type": "code",
   "execution_count": null,
   "id": "b7e84273-8f65-4275-9c5e-32b1873aca47",
   "metadata": {},
   "outputs": [],
   "source": [
    "print(np.max(hsel_data[1]), np.min(hsel_data[1]))"
   ]
  },
  {
   "cell_type": "code",
   "execution_count": null,
   "id": "dc0c4454-aa40-4afb-ac4b-9de4baf44fa0",
   "metadata": {},
   "outputs": [],
   "source": [
    "cf = nrun_sca[:, 24]\n",
    "spress = nrun_sca[:, 2]\n",
    "\n",
    "allowed_cf = float(0.1)\n",
    "indices = cf <= allowed_cf\n",
    "\n",
    "print(len(indices))\n",
    "#x_scaler = MinMaxScaler()\n",
    "#x = x_scaler.fit_transform(atms_data[indices])\n",
    "#x_scalerp = MinMaxScaler()\n",
    "#x_pressure = x_scalerp.fit_transform(spress[indices].reshape(-1, 1))\n",
    "\n",
    "#water_vapor = 2\n",
    "#temperature = 1\n",
    "x = [hsel_data[0][indices]/300,\n",
    "     hsel_data[1][indices]/300,\n",
    "     hsel_data[2][indices]/300,\n",
    "     hsel_data[3][indices]/300,\n",
    "     hsel_data[4][indices]/300,\n",
    "     hsel_data[5][indices]/300]\n",
    "y = nrun_tab[indices, :, 1]"
   ]
  },
  {
   "cell_type": "code",
   "execution_count": null,
   "id": "1e646fc2-6f47-43e0-a6e3-c0663e352fc7",
   "metadata": {},
   "outputs": [],
   "source": [
    "for i in x:\n",
    "    print(i.shape)"
   ]
  },
  {
   "cell_type": "code",
   "execution_count": null,
   "id": "9ca215b8-e969-4215-8cd2-d953aa0ce4e0",
   "metadata": {},
   "outputs": [],
   "source": [
    "x_all = np.hstack(x)\n",
    "print(x_all.shape)"
   ]
  },
  {
   "cell_type": "code",
   "execution_count": null,
   "id": "f443b3e6-ac07-49b6-879e-faa3fd2f9fa9",
   "metadata": {},
   "outputs": [],
   "source": [
    "#np.save(\"hsel_20060315.npy\", x_all)\n",
    "#np.save(\"t_20060315.npy\", y)"
   ]
  },
  {
   "cell_type": "code",
   "execution_count": null,
   "id": "22d15067-071e-4e3a-a99e-e3bf16bac2fb",
   "metadata": {},
   "outputs": [],
   "source": []
  },
  {
   "cell_type": "code",
   "execution_count": null,
   "id": "63b28911-9802-4615-82c8-fdd42c6af2a0",
   "metadata": {},
   "outputs": [],
   "source": [
    "x = np.load(\"hsel_20060315.npy\")\n",
    "y = np.load(\"t_20060315.npy\")"
   ]
  },
  {
   "cell_type": "code",
   "execution_count": null,
   "id": "725a69ac-b223-4dd6-a950-2769eff683bf",
   "metadata": {},
   "outputs": [],
   "source": [
    "print(x.shape, y.shape)"
   ]
  },
  {
   "cell_type": "code",
   "execution_count": null,
   "id": "92ac4bb6-2f96-408f-abd1-34d27fe62508",
   "metadata": {},
   "outputs": [],
   "source": [
    "split = int(x.shape[0]*0.80)\n",
    "x_train = x[:split]\n",
    "y_train = y[:split]\n",
    "\n",
    "x_test = x[split:]\n",
    "y_test = y[split:]"
   ]
  },
  {
   "cell_type": "code",
   "execution_count": null,
   "id": "0f1be3eb-1cf8-403f-b773-707ad6595e3a",
   "metadata": {},
   "outputs": [],
   "source": [
    "model = build_model()\n"
   ]
  },
  {
   "cell_type": "code",
   "execution_count": null,
   "id": "bdde1c48-31df-4512-8423-7fca2d7019ab",
   "metadata": {},
   "outputs": [],
   "source": [
    "history = model.fit(x_train, y_train, epochs=10, batch_size=1000, verbose=1, validation_split=0.1)\n"
   ]
  },
  {
   "cell_type": "code",
   "execution_count": null,
   "id": "229ceaeb-e957-4f81-a953-c1b21ad2f5af",
   "metadata": {},
   "outputs": [],
   "source": [
    "losses =[]\n"
   ]
  },
  {
   "cell_type": "code",
   "execution_count": null,
   "id": "98e1b66e-8e42-4763-a562-0f2b9d225507",
   "metadata": {},
   "outputs": [],
   "source": [
    "batch_size = 25000\n",
    "epochs = 25\n",
    "# Train the model using train_on_batch\n",
    "for epoch in range(epochs):\n",
    "    print(f\"Epoch {epoch+1}/{epochs}\")\n",
    "    num_batches = int(np.ceil(x_train.shape[0] / batch_size))\n",
    "    for batch_index in range(num_batches):\n",
    "        start_index = batch_index * batch_size\n",
    "        end_index = start_index + batch_size\n",
    "        x_batch = x_train[start_index:end_index]\n",
    "        y_batch = y_train[start_index:end_index]\n",
    "        loss = model.train_on_batch(x_batch, y_batch)\n",
    "        losses.append(loss)\n",
    "    print(f\"Epoch {epoch} - Loss: {loss:.4f}\")\n",
    "\n",
    "# Evaluate the model on the test set\n",
    "#print(f\"Test Loss: {test_loss:.4f}, Test Accuracy: {test_accuracy:.4f}\")"
   ]
  },
  {
   "cell_type": "code",
   "execution_count": null,
   "id": "5d6f0ac6-892f-4c59-bba7-14c63768aba8",
   "metadata": {},
   "outputs": [],
   "source": [
    "test_pred = model.predict(test_dataset, verbose=1)\n",
    "train_pred = model.predict(train_dataset, verbose=1)\n"
   ]
  },
  {
   "cell_type": "code",
   "execution_count": null,
   "id": "eb4fdec0-7df5-4b7b-8b14-49c47b1b0ec1",
   "metadata": {},
   "outputs": [],
   "source": [
    "import matplotlib.pyplot as plt"
   ]
  },
  {
   "cell_type": "code",
   "execution_count": null,
   "id": "680b4baf-ac1f-4bcf-8b4a-eefa6b9a361a",
   "metadata": {},
   "outputs": [],
   "source": [
    "index = 1000\n",
    "#plt.plot(pred[index])\n",
    "#plt.plot(y_test[index])\n",
    "for i in range(100):\n",
    "    plt.plot(test_pred[index+i*1000])\n",
    "plt.plot()"
   ]
  },
  {
   "cell_type": "code",
   "execution_count": null,
   "id": "158d1404-3974-47c2-b65a-a581fbee6a31",
   "metadata": {},
   "outputs": [],
   "source": [
    "y = train_dataset.take(1)\n"
   ]
  },
  {
   "cell_type": "code",
   "execution_count": null,
   "id": "50fdb72d-38ab-4af7-bc76-d1e956c46d57",
   "metadata": {},
   "outputs": [],
   "source": [
    "for i in y:\n",
    "    print(i)"
   ]
  },
  {
   "cell_type": "code",
   "execution_count": null,
   "id": "e884c626-222a-455d-827c-44ebc6a49c0a",
   "metadata": {},
   "outputs": [],
   "source": [
    "index = 1000\n",
    "#plt.plot(pred[index])\n",
    "#plt.plot(y_test[index])\n",
    "for i in range(10):\n",
    "    plt.plot(train_pred[index+i])\n",
    "plt.plot(y_train[index])"
   ]
  }
 ],
 "metadata": {
  "kernelspec": {
   "display_name": "Python 3 (ipykernel)",
   "language": "python",
   "name": "python3"
  },
  "language_info": {
   "codemirror_mode": {
    "name": "ipython",
    "version": 3
   },
   "file_extension": ".py",
   "mimetype": "text/x-python",
   "name": "python",
   "nbconvert_exporter": "python",
   "pygments_lexer": "ipython3",
   "version": "3.10.8"
  }
 },
 "nbformat": 4,
 "nbformat_minor": 5
}
